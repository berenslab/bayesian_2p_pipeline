{
 "cells": [
  {
   "cell_type": "code",
   "execution_count": 1,
   "metadata": {
    "collapsed": false
   },
   "outputs": [
    {
     "name": "stderr",
     "output_type": "stream",
     "text": [
      "/usr/local/lib/python3.4/dist-packages/matplotlib/cbook.py:128: MatplotlibDeprecationWarning: The finance module has been deprecated in mpl 2.0 and will be removed in mpl 2.2. Please use the matplotlib toolkit finance instead.\n",
      "  warnings.warn(message, mplDeprecation, stacklevel=1)\n",
      " /usr/local/lib/python3.4/dist-packages/IPython/html.py:14: ShimWarning:The `IPython.html` package has been deprecated. You should import from `notebook` instead. `IPython.html.widgets` has moved to `ipywidgets`.\n"
     ]
    }
   ],
   "source": [
    "%matplotlib inline\n",
    "\n",
    "import GPy\n",
    "import h5py\n",
    "import json\n",
    "import matplotlib as mpl\n",
    "import matplotlib.pyplot as plt\n",
    "from matplotlib_scalebar.scalebar import ScaleBar\n",
    "import numpy as np\n",
    "import os\n",
    "import pandas as pd\n",
    "from scipy.interpolate import interp1d\n",
    "from scipy.stats import chisqprob\n",
    "import seaborn as sns\n",
    "\n",
    "from util.load_hdf5 import *\n",
    "from util.zscore import *\n",
    "from util.compute_bounds import *\n",
    "from util.fill_bounds import *\n",
    "\n",
    "sns.set_style('ticks')"
   ]
  },
  {
   "cell_type": "code",
   "execution_count": 39,
   "metadata": {
    "collapsed": false
   },
   "outputs": [],
   "source": [
    "directories = json.load(open('directories.json'))\n",
    "\n",
    "off_sine_df_0 = pd.read_csv(directories['data'] + 'SMP_M1_RR1_IPL6_Sine0.csv', index_col = 0)\n",
    "off_sine_df_0 = off_sine_df_0.groupby(['roi', 'frame']).mean().reset_index()\n",
    "off_sine_df_0['t'] -= off_sine_df_0['t'].min()\n",
    "\n",
    "sine_conditions_0 = pd.read_csv(directories['misc'] + 'sine_conditions_0.csv', header = None)\n",
    "sine_conditions_0.columns = [\"shape\", \"frequency\", \"contrast\"]\n",
    "sine_conditions_0['trial'] = np.arange(len(sine_conditions_0))\n",
    "off_sine_df_0 = sine_conditions_0.merge(off_sine_df_0)\n",
    "\n",
    "target_roi = 1"
   ]
  },
  {
   "cell_type": "code",
   "execution_count": 40,
   "metadata": {
    "collapsed": false
   },
   "outputs": [],
   "source": [
    "off_sine_df = pd.read_csv(directories['data'] + 'SMP_M1_RR1_IPL6_Sine1.csv', index_col = 0)\n",
    "off_sine_df = off_sine_df.groupby(['roi', 'frame']).mean().reset_index()\n",
    "off_sine_df['t'] -= off_sine_df['t'].min()\n",
    "off_sine_df['t'] += off_sine_df_0['t'].max()\n",
    "\n",
    "sine_conditions_1 = pd.read_csv(directories['misc'] + 'sine_conditions_1.csv', header = None)\n",
    "sine_conditions_1.columns = [\"shape\", \"frequency\", \"contrast\"]\n",
    "sine_conditions_1['trial'] = np.arange(len(sine_conditions_1))\n",
    "off_sine_df_1 = sine_conditions_1.merge(off_sine_df)\n",
    "\n",
    "target_roi = 1"
   ]
  },
  {
   "cell_type": "code",
   "execution_count": 41,
   "metadata": {
    "collapsed": true
   },
   "outputs": [],
   "source": [
    "off_sine_df = pd.read_csv(directories['data'] + 'SMP_M1_RR1_IPL6_Sine2.csv', index_col = 0)\n",
    "off_sine_df = off_sine_df.groupby(['roi', 'frame']).mean().reset_index()\n",
    "off_sine_df['t'] -= off_sine_df['t'].min()\n",
    "off_sine_df['t'] += off_sine_df_1['t'].max()\n",
    "\n",
    "sine_conditions_2 = pd.read_csv(directories['misc'] + 'sine_conditions_2.csv', header = None)\n",
    "sine_conditions_2.columns = [\"shape\", \"frequency\", \"contrast\"]\n",
    "sine_conditions_2['trial'] = np.arange(len(sine_conditions_2))\n",
    "off_sine_df_2 = sine_conditions_2.merge(off_sine_df)\n",
    "\n",
    "target_roi = 1"
   ]
  },
  {
   "cell_type": "code",
   "execution_count": 42,
   "metadata": {
    "collapsed": false
   },
   "outputs": [],
   "source": [
    "off_sine_df = pd.concat([off_sine_df_0, off_sine_df_1, off_sine_df_2])\n",
    "sine_conditions = pd.concat([sine_conditions_0, sine_conditions_1, sine_conditions_2])"
   ]
  },
  {
   "cell_type": "code",
   "execution_count": 43,
   "metadata": {
    "collapsed": false
   },
   "outputs": [],
   "source": [
    "stimulation_start = off_sine_df['t'].min()\n",
    "\n",
    "roi_df = off_sine_df.loc[off_sine_df['roi'] == target_roi, :]\n",
    "\n",
    "x = roi_df['t']\n",
    "y = roi_df['y']\n",
    "\n",
    "stimulus = []\n",
    "temporal_freq = 50\n",
    "\n",
    "for itx, row in sine_conditions.iterrows():\n",
    "    if row['shape'] != 0:\n",
    "        stimulus.append(np.sin(np.linspace(0, 2 * np.pi, temporal_freq) * row['frequency']) * row['contrast'])\n",
    "    else:\n",
    "        stimulus.append(np.ones(temporal_freq) * np.nan)\n",
    "        \n",
    "sine_stimulus = np.hstack(stimulus)\n",
    "sine_stimulus /= np.nanmax(sine_stimulus)\n",
    "sine_tpnts = np.linspace(0, len(sine_conditions), len(sine_conditions) * temporal_freq) + stimulation_start"
   ]
  },
  {
   "cell_type": "code",
   "execution_count": 44,
   "metadata": {
    "collapsed": false
   },
   "outputs": [
    {
     "data": {
      "image/png": "[encoded data removed]",
      "text/plain": [
       "<matplotlib.figure.Figure at 0x7f342fd98d30>"
      ]
     },
     "metadata": {},
     "output_type": "display_data"
    }
   ],
   "source": [
    "fig, ax = plt.subplots(1)\n",
    "\n",
    "stimulus_offset = -4\n",
    "ax.plot(sine_tpnts, sine_stimulus + stimulus_offset, linewidth = 1, color = 'k')\n",
    "\n",
    "# ax.plot(x, y, linewidth = 0.5, color = 'k')\n",
    "stimulus_delay = 0\n",
    "ax.scatter(x - stimulus_delay, y, s = 1, color = 'k', marker = 'o')\n",
    "\n",
    "start = stimulation_start\n",
    "ax.set_xlim(start, start + 10)\n",
    "ax.get_yaxis().set_visible(False)\n",
    "plt.xticks([start, start + 5, start + 10])\n",
    "ax.set_xticklabels([0, 5, 10])\n",
    "sns.despine(left = True, ax = ax, offset = 10)\n",
    "ax.set_xlabel('Time (s)', fontsize = 10);\n",
    "plt.tick_params(axis='both', which='major', labelsize = 'medium')\n",
    "\n",
    "fig.set_size_inches(4, 3)\n",
    "\n",
    "# plt.savefig(directories['figs'] + 'hierarchical/' + 'roi_mean_traces.png', **fig_p)"
   ]
  },
  {
   "cell_type": "code",
   "execution_count": 69,
   "metadata": {
    "collapsed": false,
    "scrolled": true
   },
   "outputs": [
    {
     "name": "stderr",
     "output_type": "stream",
     "text": [
      " /usr/local/lib/python3.4/dist-packages/ipykernel/__main__.py:6: SettingWithCopyWarning:\n",
      "A value is trying to be set on a copy of a slice from a DataFrame.\n",
      "Try using .loc[row_indexer,col_indexer] = value instead\n",
      "\n",
      "See the caveats in the documentation: http://pandas.pydata.org/pandas-docs/stable/indexing.html#indexing-view-versus-copy\n",
      " /usr/local/lib/python3.4/dist-packages/ipykernel/__main__.py:7: SettingWithCopyWarning:\n",
      "A value is trying to be set on a copy of a slice from a DataFrame.\n",
      "Try using .loc[row_indexer,col_indexer] = value instead\n",
      "\n",
      "See the caveats in the documentation: http://pandas.pydata.org/pandas-docs/stable/indexing.html#indexing-view-versus-copy\n"
     ]
    }
   ],
   "source": [
    "shape_bool = off_sine_df['shape'] == 1\n",
    "roi_bool = off_sine_df['roi'] == target_roi\n",
    "roi_df = off_sine_df.loc[shape_bool & roi_bool, :]\n",
    "\n",
    "trial_duration = 1\n",
    "roi_df['x_t'] = (roi_df['t'] - stimulus_delay) % trial_duration\n",
    "roi_df['phase'] = (roi_df['x_t'] * 2 * np.pi * roi_df['frequency'])\n",
    "\n",
    "x_cos = np.cos(roi_df['phase'].values)[:, None]\n",
    "x_sin = np.sin(roi_df['phase'].values)[:, None]\n",
    "x_frequency = roi_df['frequency'].values[:, None]\n",
    "x_contrast = roi_df['contrast'].values[:, None]\n",
    "\n",
    "X = np.concatenate([x_cos, x_sin, x_frequency, x_contrast], axis = 1)\n",
    "y = roi_df['y'][:, None]"
   ]
  },
  {
   "cell_type": "code",
   "execution_count": 70,
   "metadata": {
    "collapsed": false
   },
   "outputs": [
    {
     "name": "stdout",
     "output_type": "stream",
     "text": [
      "Running L-BFGS-B (Scipy implementation) Code:\n",
      "  runtime   i    f              |g|        \n",
      "    23s00  11   2.824772e+03   1.169944e+03 \n",
      "    58s87  27   2.788834e+03   3.279628e+01 \n",
      "Runtime:     58s87\n",
      "Optimization status: Maximum number of f evaluations reached\n",
      "\n",
      "Optimization restart 1/4, f = 2788.8335171436865\n",
      "Running L-BFGS-B (Scipy implementation) Code:\n",
      "  runtime   i    f              |g|        \n",
      "    08s75  04   3.753035e+03   9.516839e+04 \n",
      "    23s12  13   3.045314e+03   4.803938e+02 \n",
      "    44s33  27   3.013383e+03   1.046189e+02 \n",
      "Runtime:     44s33\n",
      "Optimization status: Maximum number of f evaluations reached\n",
      "\n",
      "Optimization restart 2/4, f = 3013.383180748948\n",
      "Running L-BFGS-B (Scipy implementation) Code:\n",
      "  runtime   i    f              |g|        \n",
      "    06s37  04   3.988396e+03   1.236371e+05 \n",
      "    21s31  13   3.103117e+03   3.180076e+03 \n",
      "    44s07  27   2.978829e+03   4.463405e+02 \n",
      "Runtime:     44s07\n",
      "Optimization status: Maximum number of f evaluations reached\n",
      "\n",
      "Optimization restart 3/4, f = 2978.8285153810302\n",
      "Running L-BFGS-B (Scipy implementation) Code:\n",
      "  runtime   i    f              |g|        \n",
      "    03s35  02   4.735083e+03   1.207457e+06 \n",
      "    13s12  08   3.168047e+03   6.021331e+03 \n",
      "    27s51  17   3.015317e+03   4.598928e+02 \n",
      "    43s84  27   3.010771e+03   7.328087e+01 \n",
      "Runtime:     43s84\n",
      "Optimization status: Maximum number of f evaluations reached\n",
      "\n",
      "Optimization restart 4/4, f = 3010.770543094207\n",
      "CPU times: user 11min 20s, sys: 30min 31s, total: 41min 52s\n",
      "Wall time: 3min 25s\n"
     ]
    },
    {
     "data": {
      "text/plain": [
       "[<paramz.optimization.optimization.opt_lbfgsb at 0x7f342f69c6a0>,\n",
       " <paramz.optimization.optimization.opt_lbfgsb at 0x7f342f69cd30>,\n",
       " <paramz.optimization.optimization.opt_lbfgsb at 0x7f342f9ec940>,\n",
       " <paramz.optimization.optimization.opt_lbfgsb at 0x7f342f695198>]"
      ]
     },
     "execution_count": 70,
     "metadata": {},
     "output_type": "execute_result"
    }
   ],
   "source": [
    "X = np.concatenate([x_cos, x_sin, x_frequency, x_contrast], axis = 1)\n",
    "\n",
    "y = roi_df['y'][:, None]\n",
    "\n",
    "k1 = GPy.kern.RBF(4, ARD = False, active_dims = [0, 1, 2, 3]) \\\n",
    "    + GPy.kern.RBF(3, ARD = False, active_dims = [0, 1, 3]) \\\n",
    "    + GPy.kern.RBF(3, ARD = False, active_dims = [0, 1, 2])\n",
    "\n",
    "m1 = GPy.models.SparseGPRegression(\n",
    "        X,\n",
    "        y,\n",
    "        num_inducing = 500,\n",
    "        kernel = k1\n",
    "    )\n",
    "\n",
    "%time m1.optimize_restarts(4, messages = True, max_iters = 25)"
   ]
  },
  {
   "cell_type": "code",
   "execution_count": 71,
   "metadata": {
    "collapsed": false,
    "scrolled": true
   },
   "outputs": [
    {
     "data": {
      "image/png": "[encoded data removed]",
      "text/plain": [
       "<matplotlib.figure.Figure at 0x7f342fa7f710>"
      ]
     },
     "metadata": {},
     "output_type": "display_data"
    }
   ],
   "source": [
    "post_mu, post_sig = m1.predict(X, include_likelihood = False)\n",
    "\n",
    "sns.set_style('ticks')\n",
    "\n",
    "fig, ax = plt.subplots(1)\n",
    "\n",
    "x_t = roi_df['t']\n",
    "ax.scatter(x_t, roi_df['y'], s = 2, color = 'k', marker = 'o')\n",
    "ax.plot(x_t, post_mu, linewidth = 0.5, color = 'k')\n",
    "\n",
    "upper, lower = compute_bounds(post_mu, post_sig, n_sigma = 3)\n",
    "ax.fill_between(x_t, upper[:, 0], lower[:, 0], facecolor = 'k', alpha = 0.16)\n",
    "\n",
    "stimulus_offset = -4\n",
    "ax.plot(sine_tpnts, sine_stimulus + stimulus_offset, linewidth = 0.75, color = 'k')\n",
    "\n",
    "ax.get_yaxis().set_visible(False)\n",
    "# plt.xlim(32, 41)\n",
    "# plt.xticks(np.arange(0, 12, 3) + 32)\n",
    "# ax.set_xticklabels(np.arange(0, 12, 3))\n",
    "ax.set_xlabel('Time (s)', fontsize = 10)\n",
    "\n",
    "sns.despine(left = True, ax = ax)\n",
    "\n",
    "fig.set_size_inches(4, 3)"
   ]
  },
  {
   "cell_type": "code",
   "execution_count": 12,
   "metadata": {
    "collapsed": false
   },
   "outputs": [],
   "source": [
    "n_tpnts = 256\n",
    "freq_tpnts = np.linspace(0, 8, n_tpnts) + 10\n",
    "x_new_frequency = ((np.pi * np.linspace(0, 8, n_tpnts) ** 2) % (2 * np.pi))[:, None]\n",
    "\n",
    "i_freq = np.linspace(0, 8, 50)\n",
    "i_cont = np.linspace(0, 100, 50)\n",
    "n_freq = len(i_freq)\n",
    "n_cont =  len(i_cont)\n",
    "latent_uncertainty = np.zeros([n_freq, n_cont])\n",
    "\n",
    "for itx, new_freq in enumerate(i_freq):\n",
    "    for ity, new_cont in enumerate(i_cont):\n",
    "            X_predict = np.concatenate([\n",
    "                    np.cos(x_new_frequency),\n",
    "                    np.sin(x_new_frequency),\n",
    "                    new_freq * np.ones([1, x_new_frequency.shape[0]]).flatten(order = 'f')[:, None],\n",
    "                    new_cont * np.ones([1, x_new_frequency.shape[0]]).flatten(order = 'f')[:, None] \n",
    "            ], axis = 1)\n",
    "\n",
    "            latent_uncertainty[itx, ity] = np.sum(m1.predict(X_predict, include_likelihood = False)[1])"
   ]
  },
  {
   "cell_type": "code",
   "execution_count": 13,
   "metadata": {
    "collapsed": false,
    "scrolled": true
   },
   "outputs": [
    {
     "data": {
      "text/plain": [
       "<matplotlib.collections.PathCollection at 0x7f3430570358>"
      ]
     },
     "execution_count": 13,
     "metadata": {},
     "output_type": "execute_result"
    },
    {
     "data": {
      "image/png": "[encoded data removed]",
      "text/plain": [
       "<matplotlib.figure.Figure at 0x7f344c9e1d30>"
      ]
     },
     "metadata": {},
     "output_type": "display_data"
    }
   ],
   "source": [
    "from skimage.feature import peak_local_max\n",
    "\n",
    "n_peaks = 30\n",
    "\n",
    "peaks = peak_local_max(latent_uncertainty,  min_distance = 1, exclude_border = True)\n",
    "peaks_order = latent_uncertainty[peaks[:, 0], peaks[:, 1]].argsort()\n",
    "\n",
    "peaks = peaks[peaks_order, :].astype(float)[:, ::-1]\n",
    "\n",
    "peaks[:, 0] = (peaks[:, 0]) /  n_cont * 100\n",
    "peaks[:, 1] = (peaks[:, 1]) / n_freq * 8\n",
    "\n",
    "peaks = peaks[:n_peaks, :]\n",
    "\n",
    "plt.scatter(peaks[:, 0], peaks[:, 1], color = 'g', s = 20, marker = 'x', clip_on = False)"
   ]
  },
  {
   "cell_type": "code",
   "execution_count": 33,
   "metadata": {
    "collapsed": false
   },
   "outputs": [
    {
     "data": {
      "image/png": "[encoded data removed]",
      "text/plain": [
       "<matplotlib.figure.Figure at 0x7f342ff176d8>"
      ]
     },
     "metadata": {},
     "output_type": "display_data"
    }
   ],
   "source": [
    "fig, ax = plt.subplots(1)\n",
    "\n",
    "cax = ax.imshow(latent_uncertainty, origin = 'lower', cmap = 'inferno_r', extent = (0, 100, 0, 8), \n",
    "                aspect = 100 / 8, vmin = 0, vmax = 100)\n",
    "\n",
    "ax.scatter(x_contrast, x_frequency, color = 'k', s = 5, marker = 'o', clip_on = False, label = 'Sampled')\n",
    "# ax.scatter(peaks[:, 0], peaks[:, 1], color = 'k', s = 15, marker = 'x', clip_on = False, label = 'Proposed')\n",
    "\n",
    "plt.xlim(0, 100)\n",
    "plt.xticks(np.arange(0, 125, 25))\n",
    "ax.set_xlabel('Contrast (%)', fontsize = 10)\n",
    "\n",
    "plt.ylim(0, 8)\n",
    "plt.yticks(np.arange(0, 10, 2), fontsize = 10)\n",
    "ax.set_ylabel('Frequency (Hz)')\n",
    "\n",
    "plt.tick_params(axis='both', which='major', labelsize='medium')\n",
    "sns.despine(ax = ax, offset = 8)\n",
    "\n",
    "fig.set_size_inches(3.4, 3.4)\n",
    "\n",
    "plt.tight_layout()\n",
    "\n",
    "fig.set_size_inches(2.4, 2.4)\n",
    "\n",
    "plt.savefig(directories['figs'] + 'active/' + 'Parameter Space 2.svg', dpi = 600)"
   ]
  },
  {
   "cell_type": "code",
   "execution_count": 20,
   "metadata": {
    "collapsed": true
   },
   "outputs": [],
   "source": [
    "np.savetxt(directories['data'] + 'latent_uncertainty_2.csv', latent_uncertainty.flatten(), \n",
    "           fmt = '%3.2f', delimiter = ',', newline = '\\n\\n')"
   ]
  },
  {
   "cell_type": "raw",
   "metadata": {
    "collapsed": true
   },
   "source": [
    "exchange_path = '/gpfs01/euler/data/User/lrogerson/imaging_probabilistic/data/exchange/'\n",
    "\n",
    "sine_conditions_1 = np.hstack([np.ones(peaks.shape[0])[:, None], peaks[:, ::-1]])\n",
    "\n",
    "np.savetxt(exchange_path + 'sine_conditions_2.csv', sine_conditions_1, \n",
    "           fmt = '%3.2f', delimiter = ',', newline = '\\n\\n')"
   ]
  },
  {
   "cell_type": "code",
   "execution_count": 72,
   "metadata": {
    "collapsed": false
   },
   "outputs": [
    {
     "data": {
      "image/png": "[encoded data removed]",
      "text/plain": [
       "<matplotlib.figure.Figure at 0x7f342f739518>"
      ]
     },
     "metadata": {},
     "output_type": "display_data"
    }
   ],
   "source": [
    "n_tpnts = 512\n",
    "\n",
    "# Frequency Prediction\n",
    "\n",
    "freq_tpnts = np.linspace(0, 8, n_tpnts)\n",
    "x_new_frequency = (np.pi * freq_tpnts ** 2)[:, None]\n",
    "\n",
    "X_predict = np.concatenate([\n",
    "        np.cos(x_new_frequency),\n",
    "        np.sin(x_new_frequency),\n",
    "        np.linspace(0, 8, n_tpnts).flatten(order = 'f')[:, None],\n",
    "        100 * np.ones([1, n_tpnts]).flatten(order = 'f')[:, None] \n",
    "], axis = 1)\n",
    "\n",
    "freq_mu, freq_sig = m1.predict(X_predict, include_likelihood = False)\n",
    "\n",
    "# Contrast Prediction\n",
    "\n",
    "cont_tpnts = np.linspace(0, 8, n_tpnts) + 20\n",
    "x_new_phase = (4 * cont_tpnts * np.pi)[:, None]\n",
    "\n",
    "X_predict = np.concatenate([\n",
    "        np.cos(x_new_phase),\n",
    "        np.sin(x_new_phase),\n",
    "        8 * np.ones([1, n_tpnts]).flatten(order = 'f')[:, None],\n",
    "        np.linspace(0, 100, n_tpnts).flatten(order = 'f')[:, None] \n",
    "], axis = 1)\n",
    "\n",
    "cont_mu, cont_sig = m1.predict(X_predict, include_likelihood = False)\n",
    "\n",
    "fig, ax = plt.subplots(1)\n",
    "\n",
    "ax.plot(cont_tpnts, cont_mu, color = 'k', linewidth = 0.5)\n",
    "upper, lower = compute_bounds(cont_mu, cont_sig, n_sigma = 3)\n",
    "ax.fill_between(cont_tpnts, upper[:, 0], lower[:, 0], facecolor = 'k', alpha = 0.16)\n",
    "\n",
    "ax.plot(freq_tpnts + 10, freq_mu, color = 'k', linewidth = 0.5)\n",
    "upper, lower = compute_bounds(freq_mu, freq_sig, n_sigma = 3)\n",
    "ax.fill_between(freq_tpnts  + 10, upper[:, 0], lower[:, 0], facecolor = 'k', alpha = 0.16)\n",
    "\n",
    "ax.set_xlim(0, 32)\n",
    "plt.xticks([0, 8, 16, 24, 32])\n",
    "plt.tick_params(axis = 'both', which = 'major', labelsize = 'medium')\n",
    "ax.set_xlabel('Time (s)', fontsize = 10)\n",
    "ax.set_yticklabels([]);\n",
    "ax.get_yaxis().set_visible(False)\n",
    "ax.set_ylim(-3, 3)\n",
    "sns.despine(ax = ax, left = True)\n",
    "\n",
    "# fig.set_size_inches(2.8, 1.5)\n",
    "\n",
    "# plt.savefig(directories['figs'] + 'active/' + 'sine_itr1.svg', dpi = 300)"
   ]
  }
 ],
 "metadata": {
  "kernelspec": {
   "display_name": "Python 3",
   "language": "python",
   "name": "python3"
  },
  "language_info": {
   "codemirror_mode": {
    "name": "ipython",
    "version": 3
   },
   "file_extension": ".py",
   "mimetype": "text/x-python",
   "name": "python",
   "nbconvert_exporter": "python",
   "pygments_lexer": "ipython3",
   "version": "3.4.3"
  }
 },
 "nbformat": 4,
 "nbformat_minor": 1
}
