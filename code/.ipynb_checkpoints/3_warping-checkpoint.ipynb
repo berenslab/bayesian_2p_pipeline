{
 "cells": [
  {
   "cell_type": "markdown",
   "metadata": {},
   "source": [
    "This notebook provides the plotting functions for Figure 3 a-f. It also includes the warping function used to transform the chirp response in Figure 2e. The warping is achieved using isotonic regression."
   ]
  },
  {
   "cell_type": "code",
   "execution_count": 5,
   "metadata": {},
   "outputs": [],
   "source": [
    "%matplotlib inline\n",
    "\n",
    "import GPy\n",
    "import h5py\n",
    "import json\n",
    "import matplotlib.pyplot as plt\n",
    "import numpy as np\n",
    "import os\n",
    "import pandas as pd\n",
    "import seaborn as sns\n",
    "from scipy.optimize import curve_fit\n",
    "from scipy.stats import beta\n",
    "from sklearn.isotonic import IsotonicRegression\n",
    "\n",
    "from util.load_hdf5 import *\n",
    "from util.zscore import *\n",
    "from util.compute_bounds import *\n",
    "\n",
    "sns.set_style('white')\n",
    "\n",
    "# from matplotlib import rcParams\n",
    "# rcParams.update({'figure.autolayout': True}) # ?\n",
    "\n",
    "directories = json.load(open('directories.json'))"
   ]
  },
  {
   "cell_type": "code",
   "execution_count": 6,
   "metadata": {},
   "outputs": [],
   "source": [
    "data_linear = load_hdf5(directories['data'] + 'SMP_M1_RR2_BC2_ChirpI.h5')\n",
    "\n",
    "data_df = pd.read_csv(directories['data'] + 'SMP_M1_RR2_BC2_ChirpI.csv', index_col = 0)\n",
    "data_df = data_df.groupby(['roi', 'frame']).mean().reset_index()\n",
    "trial_duration = data_df['x_t'].max() / 2"
   ]
  },
  {
   "cell_type": "code",
   "execution_count": 7,
   "metadata": {},
   "outputs": [],
   "source": [
    "chirp_stimulus = h5py.File(directories['misc'] + 'chirp.h5', 'r')['chirp'][:]\n",
    "\n",
    "chirp_stimulus -= chirp_stimulus.mean()\n",
    "chirp_stimulus /= chirp_stimulus.std()\n",
    "\n",
    "chirp_tpnts = np.linspace(0, trial_duration, chirp_stimulus.shape[0])"
   ]
  },
  {
   "cell_type": "code",
   "execution_count": 8,
   "metadata": {},
   "outputs": [],
   "source": [
    "def rbf_func(tpnts, l, sigma, v = 2):\n",
    "    \n",
    "    euc_dist_sqr = np.abs(- tpnts[:, None]) ** v\n",
    "    sqr_dist_scale = euc_dist_sqr / (2 * l ** v)\n",
    "    rbf_out = sigma * np.exp(-sqr_dist_scale)\n",
    "    \n",
    "    return rbf_out[:, 0]"
   ]
  },
  {
   "cell_type": "code",
   "execution_count": 9,
   "metadata": {},
   "outputs": [],
   "source": [
    "n_anchors = 512\n",
    "slice_width = 0.25\n",
    "anchors = np.linspace(0, trial_duration, n_anchors)"
   ]
  },
  {
   "cell_type": "code",
   "execution_count": 10,
   "metadata": {},
   "outputs": [],
   "source": [
    "slices = []\n",
    "\n",
    "slice_length = 64\n",
    "fit_stack = np.zeros([slice_length, n_anchors])\n",
    "par_stack = np.zeros([2, n_anchors]) \n",
    "new_tpnts = np.linspace(-slice_width, slice_width, slice_length)\n",
    "\n",
    "p0 = [0.1, 100]\n",
    "\n",
    "slice_list = []\n",
    "tpnts_list = []\n",
    "\n",
    "for itx, anchor_point in enumerate(anchors):\n",
    "    start = anchor_point - slice_width\n",
    "    stop = anchor_point + slice_width\n",
    "    anchor_mask = (chirp_tpnts > start) & (chirp_tpnts < stop)\n",
    "    \n",
    "    trace_slice = chirp_stimulus[anchor_mask]\n",
    "    tpnts_slice = chirp_tpnts[anchor_mask]\n",
    "    \n",
    "    y_distance = np.correlate(trace_slice, trace_slice, mode = 'same')\n",
    "    x_distance = np.linspace(-slice_width, slice_width, y_distance.shape[0])\n",
    "    \n",
    "    slice_list.append(y_distance)\n",
    "    \n",
    "    popt, pcov = curve_fit(rbf_func, x_distance, y_distance, p0 = p0)\n",
    "    par_stack[:, itx] = popt \n",
    "    fit_stack[:, itx] = rbf_func(new_tpnts, popt[0], popt[1])\n",
    "    \n",
    "par_stack[0, :] = np.abs(par_stack[0, :])"
   ]
  },
  {
   "cell_type": "code",
   "execution_count": 11,
   "metadata": {},
   "outputs": [],
   "source": [
    "par_cdf = np.cumsum(np.power(par_stack[0, :], -1))\n",
    "par_cdf -= par_cdf.min()\n",
    "par_cdf /= par_cdf.max()\n",
    "par_cdf *= 32\n",
    "\n",
    "par_length = par_stack.shape[1]\n",
    "par_tpnts = np.linspace(0, trial_duration, par_stack.shape[1])\n",
    "new_cdf = np.linspace(0, trial_duration, par_tpnts.shape[0])\n",
    "cdf_transformed = IsotonicRegression().fit_transform(par_cdf, par_tpnts)\n",
    "\n",
    "iso_reg = IsotonicRegression()\n",
    "iso_reg.fit(par_tpnts, par_cdf)\n",
    "x_ = iso_reg.transform(chirp_tpnts)"
   ]
  },
  {
   "cell_type": "code",
   "execution_count": 31,
   "metadata": {},
   "outputs": [
    {
     "data": {
      "text/plain": [
       "9.0"
      ]
     },
     "execution_count": 31,
     "metadata": {},
     "output_type": "execute_result"
    }
   ],
   "source": [
    "roi"
   ]
  },
  {
   "cell_type": "code",
   "execution_count": 50,
   "metadata": {},
   "outputs": [],
   "source": [
    "roi = np.unique(data_df['roi'])[0]\n",
    "\n",
    "data_df = data_df.sort_values(by = 'x_t')\n",
    "\n",
    "y = data_df[data_df['roi'] == roi]['y']\n",
    "x_t = data_df[data_df['roi'] == roi]['x_t']\n",
    "\n",
    "global_mask = x_t < trial_duration\n",
    "local_mask = x_t > trial_duration\n",
    "\n",
    "x_t_local = x_t[local_mask]\n",
    "x_t_local -= trial_duration\n",
    "y_local = y[local_mask]\n",
    "\n",
    "x_t_global = x_t[global_mask]\n",
    "y_global = y[global_mask]\n",
    "\n",
    "x_new_local = iso_reg.transform(x_t_local)\n",
    "x_new_global = iso_reg.transform(x_t_global)\n",
    "\n",
    "x_predict = np.linspace(0, trial_duration, 33 * 50)\n",
    "x_predict_warp = iso_reg.transform(x_predict)"
   ]
  },
  {
   "cell_type": "markdown",
   "metadata": {},
   "source": [
    "Warp Files"
   ]
  },
  {
   "cell_type": "raw",
   "metadata": {},
   "source": [
    "csv_file = 'SMP_M1_RR2_BC2_ChirpI.csv'\n",
    "data_df = pd.read_csv(directories['data'] + csv_file, index_col = 0)\n",
    "data_df['x_t_warped'] = iso_reg.transform(data_df['x_t'] % trial_duration)\n",
    "data_df.to_csv(directories['data'] + csv_file)"
   ]
  },
  {
   "cell_type": "raw",
   "metadata": {
    "collapsed": true
   },
   "source": [
    "csv_file = 'SMP_M1_RR2_BC2_ChirpI2.csv'\n",
    "data_df = pd.read_csv(directories['data'] + csv_file, index_col = 0)\n",
    "data_df['x_t_warped'] = iso_reg.transform(data_df['x_t'] % trial_duration)\n",
    "data_df.to_csv(directories['data'] + csv_file)"
   ]
  },
  {
   "cell_type": "raw",
   "metadata": {
    "collapsed": true
   },
   "source": [
    "csv_file = 'SMP_BC4_lChirp.csv'\n",
    "data_df = pd.read_csv(directories['data'] + csv_file, index_col = 0)\n",
    "data_df['x_t_warped'] = iso_reg.transform(data_df['x_t'])\n",
    "data_df.to_csv(directories['data'] + csv_file)"
   ]
  },
  {
   "cell_type": "raw",
   "metadata": {
    "collapsed": true
   },
   "source": [
    "csv_file = 'SMP_M1_RR2_IPL2OFF_ChirpI.csv'\n",
    "data_df = pd.read_csv(directories['data'] + csv_file, index_col = 0)\n",
    "data_df['x_t_warped'] = iso_reg.transform(data_df['x_t']  % trial_duration)\n",
    "data_df.to_csv(directories['data'] + csv_file)"
   ]
  },
  {
   "cell_type": "raw",
   "metadata": {},
   "source": [
    "csv_file = 'SMP_M1_RR1_IPL6_LChirp.csv'\n",
    "data_df = pd.read_csv(directories['data'] + csv_file, index_col = 0)\n",
    "data_df['x_t_warped'] = iso_reg.transform(data_df['x_t']  % trial_duration)\n",
    "data_df.to_csv(directories['data'] + csv_file)"
   ]
  },
  {
   "cell_type": "markdown",
   "metadata": {},
   "source": [
    "Plots"
   ]
  },
  {
   "cell_type": "code",
   "execution_count": 51,
   "metadata": {},
   "outputs": [
    {
     "data": {
      "image/png": "[encoded data removed]",
      "text/plain": [
       "<matplotlib.figure.Figure at 0x7f0afe17cf28>"
      ]
     },
     "metadata": {},
     "output_type": "display_data"
    }
   ],
   "source": [
    "sns.set_style('ticks')\n",
    "\n",
    "fig, ax = plt.subplots(1)\n",
    "\n",
    "offset = 5\n",
    "\n",
    "stimulus_tpnts = np.linspace(0, 32, chirp_stimulus.shape[0])\n",
    "ax.plot(stimulus_tpnts, chirp_stimulus, c = 'k', linewidth = 0.5)\n",
    "\n",
    "ax.scatter(x_t_local, y_local - offset, s = 0.5, c = 'k')\n",
    "\n",
    "sns.despine(left = True, ax = ax)\n",
    "ax.set_yticklabels([]);\n",
    "\n",
    "ax.set_xlim(0, 32);\n",
    "\n",
    "ax.set_xlabel('Time (s)', fontsize=10);\n",
    "plt.xticks([0, 8, 16, 24, 32])\n",
    "ax.get_yaxis().set_visible(False)\n",
    "plt.tick_params(axis='both', which='major', labelsize = 'medium')\n",
    "\n",
    "fig.set_size_inches(2.8, 2.5)\n",
    "\n",
    "plt.savefig(directories['figs'] + 'warping/' + 'chirp_stimulus.svg', dpi = 300)"
   ]
  },
  {
   "cell_type": "code",
   "execution_count": 34,
   "metadata": {},
   "outputs": [
    {
     "data": {
      "image/png": "[encoded data removed]",
      "text/plain": [
       "<matplotlib.figure.Figure at 0x7f0afe2859b0>"
      ]
     },
     "metadata": {},
     "output_type": "display_data"
    }
   ],
   "source": [
    "sns.set_style('ticks')\n",
    "\n",
    "hmap_p = {\n",
    "#     'square': True, \n",
    "    'cmap': 'viridis',\n",
    "    'xticklabels': False,\n",
    "    'yticklabels': False,\n",
    "    'cbar': False,\n",
    "}\n",
    "\n",
    "fig, ax = plt.subplots(1)\n",
    "sns.heatmap(fit_stack, ax = ax, **hmap_p)\n",
    "plt.yticks([1, 64])\n",
    "ax.set_yticklabels([-0.25, 0.25]);\n",
    "ax.set_ylabel('Lag (s)', fontsize=10, clip_on = False);\n",
    "\n",
    "plt.tick_params(axis='both', which='major', labelsize = 'medium')\n",
    "\n",
    "fig.set_size_inches(3.35, 1)\n",
    "\n",
    "plt.tight_layout()\n",
    "\n",
    "plt.savefig(directories['figs'] + 'warping/' + 'heatmap_fitted_acf.png', dpi = 600)"
   ]
  },
  {
   "cell_type": "code",
   "execution_count": 35,
   "metadata": {
    "scrolled": true
   },
   "outputs": [
    {
     "data": {
      "image/png": "[encoded data removed]",
      "text/plain": [
       "<matplotlib.figure.Figure at 0x7f0b7a2e4e80>"
      ]
     },
     "metadata": {},
     "output_type": "display_data"
    }
   ],
   "source": [
    "par_cdf_rescale = np.power(par_stack[0, :], -1).max() / 32\n",
    "par_cdf_offset = np.power(par_stack[0, :], -1).max()\n",
    "\n",
    "fig, ax = plt.subplots(1)\n",
    "\n",
    "ax.plot(par_tpnts, np.power(par_stack[0, :], -1), \n",
    "           c = 'k', alpha = 1, label = '1 / Lengthscale', linewidth = 0.5)\n",
    "\n",
    "# ax.plot(par_tpnts, par_cdf * par_cdf_rescale + par_cdf_offset, c = 'b', linewidth = 0.5, label = 'Cumulative')\n",
    "\n",
    "ax.set_yticklabels([]);\n",
    "ax.set_xlim(0, 32)\n",
    "ax.set_xlabel('Time (s)', fontsize=10);\n",
    "plt.xticks([0, 8, 16, 24, 32])\n",
    "ax.get_yaxis().set_visible(False)\n",
    "plt.tick_params(axis='both', which='major', labelsize = 'medium')\n",
    "sns.despine(left = True, ax = ax)\n",
    "\n",
    "fig.set_size_inches(3, 1.5)\n",
    "\n",
    "plt.savefig(directories['figs'] + 'warping/' + 'acf_parameters.svg', dpi = 300)"
   ]
  },
  {
   "cell_type": "code",
   "execution_count": 36,
   "metadata": {},
   "outputs": [
    {
     "data": {
      "image/png": "[encoded data removed]",
      "text/plain": [
       "<matplotlib.figure.Figure at 0x7f0afe418be0>"
      ]
     },
     "metadata": {},
     "output_type": "display_data"
    }
   ],
   "source": [
    "sns.set_style('ticks')\n",
    "\n",
    "fig, ax = plt.subplots(1)\n",
    "\n",
    "ax.plot(par_tpnts, par_cdf, color = 'k', linewidth = 1)\n",
    "ax.plot(par_tpnts, par_tpnts, color = 'k', linewidth = 1, linestyle = ':')\n",
    "\n",
    "plt.xticks([0, 8, 16, 24, 32])\n",
    "plt.yticks([0, 8, 16, 24, 32])\n",
    "ax.set_xlim(0, 32)\n",
    "ax.set_ylim(0, 32)\n",
    "ax.set_xlabel('Time (s)', fontsize=10)\n",
    "ax.set_ylabel('Warped Time (s)', fontsize=10)\n",
    "plt.tick_params(axis='both', which='major', labelsize='medium')\n",
    "sns.despine(ax = ax, offset = 10)\n",
    "\n",
    "fig.set_size_inches(2.8, 2.8)\n",
    "\n",
    "plt.savefig(directories['figs'] + 'warping/' + 'time_vs_warpedtime.svg', dpi = 300)"
   ]
  },
  {
   "cell_type": "code",
   "execution_count": 37,
   "metadata": {
    "scrolled": false
   },
   "outputs": [
    {
     "data": {
      "image/png": "[encoded data removed]",
      "text/plain": [
       "<matplotlib.figure.Figure at 0x7f0afe436ba8>"
      ]
     },
     "metadata": {},
     "output_type": "display_data"
    }
   ],
   "source": [
    "fig, ax = plt.subplots(1)\n",
    "\n",
    "offset = 5\n",
    "\n",
    "ax.plot(x_, chirp_stimulus, color = 'b', linewidth = 0.5)\n",
    "\n",
    "ax.scatter(x_new_local, y_local - offset, s = 0.5, c = 'b')\n",
    "\n",
    "ax.set_xlim(0, 32)\n",
    "plt.xticks([0, 8, 16, 24, 32])\n",
    "plt.tick_params(axis = 'both', which = 'major', labelsize = 'medium')\n",
    "ax.set_xlabel('Warped Time (s)', fontsize = 10)\n",
    "ax.set_yticklabels([]);\n",
    "ax.get_yaxis().set_visible(False)\n",
    "\n",
    "sns.despine(left = True, ax = ax)\n",
    "fig.set_size_inches(2.8, 2.5)\n",
    "\n",
    "plt.savefig(directories['figs'] + 'warping/' + 'warped_stimulus.svg', dpi = 300)"
   ]
  },
  {
   "cell_type": "code",
   "execution_count": 52,
   "metadata": {},
   "outputs": [
    {
     "name": "stdout",
     "output_type": "stream",
     "text": [
      "Optimization restart 1/4, f = 916.7926476586917\n",
      "Optimization restart 2/4, f = 1698.1606824686928\n",
      "Optimization restart 3/4, f = 1634.2468256745944\n",
      "Optimization restart 4/4, f = 1632.7499237250504\n"
     ]
    },
    {
     "data": {
      "text/plain": [
       "[<paramz.optimization.optimization.opt_lbfgsb at 0x7f0afe10d7f0>,\n",
       " <paramz.optimization.optimization.opt_lbfgsb at 0x7f0afe12b278>,\n",
       " <paramz.optimization.optimization.opt_lbfgsb at 0x7f0afe178a58>,\n",
       " <paramz.optimization.optimization.opt_lbfgsb at 0x7f0afe1d0978>]"
      ]
     },
     "execution_count": 52,
     "metadata": {},
     "output_type": "execute_result"
    }
   ],
   "source": [
    "m1 = GPy.models.SparseGPRegression(\n",
    "    x_t_global[:, None],\n",
    "    y_global[:, None],\n",
    "    kernel = GPy.kern.RBF(1),\n",
    "    num_inducing = 300\n",
    ")\n",
    "\n",
    "m1.optimize_restarts(4, max_iters = 25, messages = False)\n",
    "# m1.plot()"
   ]
  },
  {
   "cell_type": "code",
   "execution_count": 53,
   "metadata": {},
   "outputs": [
    {
     "name": "stdout",
     "output_type": "stream",
     "text": [
      "Optimization restart 1/4, f = 976.0836831998777\n",
      "Optimization restart 2/4, f = 1576.3835086790298\n",
      "Optimization restart 3/4, f = 1576.3575723623926\n",
      "Optimization restart 4/4, f = 1576.4868539008655\n"
     ]
    },
    {
     "data": {
      "text/plain": [
       "[<paramz.optimization.optimization.opt_lbfgsb at 0x7f0afe14f240>,\n",
       " <paramz.optimization.optimization.opt_lbfgsb at 0x7f0afe0c6630>,\n",
       " <paramz.optimization.optimization.opt_lbfgsb at 0x7f0afe144940>,\n",
       " <paramz.optimization.optimization.opt_lbfgsb at 0x7f0afe144a90>]"
      ]
     },
     "execution_count": 53,
     "metadata": {},
     "output_type": "execute_result"
    }
   ],
   "source": [
    "m2 = GPy.models.SparseGPRegression(\n",
    "    x_new_global[:, None],\n",
    "    y_global[:, None],\n",
    "    kernel = GPy.kern.RBF(1),\n",
    "    num_inducing = 300\n",
    ")\n",
    "\n",
    "m2.optimize_restarts(4, max_iters = 25, messages = False)\n",
    "# m2.plot()"
   ]
  },
  {
   "cell_type": "code",
   "execution_count": 54,
   "metadata": {},
   "outputs": [
    {
     "name": "stdout",
     "output_type": "stream",
     "text": [
      "Optimization restart 1/4, f = 1070.1178314717733\n",
      "Optimization restart 2/4, f = 1598.9555232972396\n",
      "Optimization restart 3/4, f = 1599.1862745256308\n",
      "Optimization restart 4/4, f = 1599.3153454736466\n"
     ]
    },
    {
     "data": {
      "text/plain": [
       "[<paramz.optimization.optimization.opt_lbfgsb at 0x7f0afe2254a8>,\n",
       " <paramz.optimization.optimization.opt_lbfgsb at 0x7f0afe20d358>,\n",
       " <paramz.optimization.optimization.opt_lbfgsb at 0x7f0afe120d30>,\n",
       " <paramz.optimization.optimization.opt_lbfgsb at 0x7f0afe13f2e8>]"
      ]
     },
     "execution_count": 54,
     "metadata": {},
     "output_type": "execute_result"
    }
   ],
   "source": [
    "m3 = GPy.models.SparseGPRegression(\n",
    "    x_new_local[:, None],\n",
    "    y_local[:, None],\n",
    "    kernel = GPy.kern.RBF(1),\n",
    "    num_inducing = 300\n",
    ")\n",
    "\n",
    "m3.optimize_restarts(4, max_iters = 25, messages = False)\n",
    "# m3.plot()"
   ]
  },
  {
   "cell_type": "code",
   "execution_count": 55,
   "metadata": {},
   "outputs": [],
   "source": [
    "m1_mu, m1_sig = m1.predict(x_predict[:, None], include_likelihood = False)\n",
    "m1_mu, m1_sig_outer = m1.predict(x_predict[:, None], include_likelihood = True)\n",
    "\n",
    "m2_mu, m2_sig = m2.predict(x_predict_warp[:, None], include_likelihood = False)\n",
    "m2_mu, m2_sig_outer = m2.predict(x_predict_warp[:, None], include_likelihood = True)\n",
    "\n",
    "m3_mu, m3_sig = m3.predict(x_predict_warp[:, None], include_likelihood = False)\n",
    "m3_mu, m3_sig_outer = m3.predict(x_predict_warp[:, None], include_likelihood = True)"
   ]
  },
  {
   "cell_type": "code",
   "execution_count": 56,
   "metadata": {
    "scrolled": false
   },
   "outputs": [
    {
     "data": {
      "image/png": "[encoded data removed]",
      "text/plain": [
       "<matplotlib.figure.Figure at 0x7f0afe219a90>"
      ]
     },
     "metadata": {},
     "output_type": "display_data"
    }
   ],
   "source": [
    "sns.set_style('white')\n",
    "\n",
    "fig, ax = plt.subplots(1)\n",
    "\n",
    "ax.plot(x_predict, m1_mu, color = 'k', linewidth = 0.5)\n",
    "upper, lower = compute_bounds(m1_mu, m1_sig, n_sigma = 3)\n",
    "ax.fill_between(x_predict, upper[:, 0], lower[:, 0], facecolor = 'k', alpha = 0.33)\n",
    "upper, lower = compute_bounds(m1_mu, m1_sig_outer, n_sigma = 3)\n",
    "ax.fill_between(x_predict, upper[:, 0], lower[:, 0], facecolor = 'k', alpha = 0.16)\n",
    "\n",
    "ax.set_xlim(0, 32)\n",
    "plt.tick_params(axis='both', which='major', labelsize='small')\n",
    "ax.set_yticklabels([]);\n",
    "ax.set_xticklabels([]);\n",
    "ax.set_ylim(-3, 3)\n",
    "ax.set_aspect(2)\n",
    "sns.despine(left = True, bottom = True, ax = ax)\n",
    "\n",
    "fig.set_size_inches(2.8, 1.5)\n",
    "\n",
    "# plt.savefig(directories['figs'] + 'warping/' + 'raw_gp.svg', dpi = 300)"
   ]
  },
  {
   "cell_type": "code",
   "execution_count": 57,
   "metadata": {
    "scrolled": false
   },
   "outputs": [
    {
     "name": "stderr",
     "output_type": "stream",
     "text": [
      " /usr/local/lib/python3.5/dist-packages/GPy/core/gp.py:590: RuntimeWarning:covariance is not positive-semidefinite.\n"
     ]
    }
   ],
   "source": [
    "n_samples = 5\n",
    "mu_post = m1.posterior_samples_f(x_predict[:, None], size = n_samples)"
   ]
  },
  {
   "cell_type": "code",
   "execution_count": 58,
   "metadata": {},
   "outputs": [
    {
     "data": {
      "image/png": "[encoded data removed]",
      "text/plain": [
       "<matplotlib.figure.Figure at 0x7f0afe788160>"
      ]
     },
     "metadata": {},
     "output_type": "display_data"
    }
   ],
   "source": [
    "sns.set_style('ticks')\n",
    "\n",
    "fig, ax = plt.subplots(1)\n",
    "\n",
    "sample_colors = sns.color_palette('hls', n_samples)\n",
    "\n",
    "offset = 0\n",
    "\n",
    "for itx in range(n_samples):\n",
    "    ax.plot(x_predict, mu_post[:, itx] + itx * offset, color = 'k', alpha = 0.5, linewidth = 0.5)\n",
    "    \n",
    "ax.set_xlim(0, 32)\n",
    "plt.xticks([0, 8, 16, 24, 32])\n",
    "plt.tick_params(axis = 'both', which = 'major', labelsize = 'medium')\n",
    "ax.set_xlabel('Time (s)', fontsize = 10)\n",
    "ax.set_yticklabels([]);\n",
    "ax.get_yaxis().set_visible(False)\n",
    "ax.set_ylim(-3, 3)\n",
    "sns.despine(ax = ax, left = True)\n",
    "\n",
    "fig.set_size_inches(2.8, 1.5)\n",
    "\n",
    "plt.savefig(directories['figs'] + 'warping/' + 'raw_gp_samples.svg', dpi = 300)"
   ]
  },
  {
   "cell_type": "code",
   "execution_count": 122,
   "metadata": {},
   "outputs": [
    {
     "data": {
      "image/png": "[encoded data removed]",
      "text/plain": [
       "<matplotlib.figure.Figure at 0x7f0ae7a7e978>"
      ]
     },
     "metadata": {},
     "output_type": "display_data"
    }
   ],
   "source": [
    "fig, ax = plt.subplots(1)\n",
    "\n",
    "ax.plot(x_predict, m2_mu, color = 'b', linewidth = 0.5)\n",
    "upper, lower = compute_bounds(m2_mu, m2_sig, n_sigma = 3)\n",
    "ax.fill_between(x_predict, upper[:, 0], lower[:, 0], facecolor = 'b', alpha = 0.33)\n",
    "upper, lower = compute_bounds(m2_mu, m2_sig_outer, n_sigma = 3)\n",
    "ax.fill_between(x_predict, upper[:, 0], lower[:, 0], facecolor = 'b', alpha = 0.16)\n",
    "\n",
    "ax.set_xlim(0, 32)\n",
    "plt.xticks([0, 8, 16, 24, 32])\n",
    "plt.tick_params(axis = 'both', which = 'major', labelsize = 'medium')\n",
    "ax.set_xlabel('Time (s)', fontsize = 10)\n",
    "ax.set_yticklabels([]);\n",
    "ax.get_yaxis().set_visible(False)\n",
    "sns.despine(ax = ax, left = True)\n",
    "ax.set_ylim(-3, 3)\n",
    "\n",
    "fig.set_size_inches(2, 1.5)\n",
    "\n",
    "plt.savefig(directories['figs'] + 'warping/' + 'warped_gp_global.svg', dpi = 300)"
   ]
  },
  {
   "cell_type": "code",
   "execution_count": 65,
   "metadata": {},
   "outputs": [
    {
     "name": "stderr",
     "output_type": "stream",
     "text": [
      " /usr/local/lib/python3.5/dist-packages/GPy/core/gp.py:590: RuntimeWarning:covariance is not positive-semidefinite.\n"
     ]
    }
   ],
   "source": [
    "n_samples = 5\n",
    "mu_post = m2.posterior_samples_f(x_predict_warp[:, None], size = n_samples)"
   ]
  },
  {
   "cell_type": "code",
   "execution_count": 121,
   "metadata": {},
   "outputs": [
    {
     "data": {
      "image/png": "[encoded data removed]",
      "text/plain": [
       "<matplotlib.figure.Figure at 0x7f0afdc0cc18>"
      ]
     },
     "metadata": {},
     "output_type": "display_data"
    }
   ],
   "source": [
    "fig, ax = plt.subplots(1)\n",
    "\n",
    "sample_colors = sns.color_palette('hls', n_samples)\n",
    "\n",
    "offset = 0\n",
    "\n",
    "for itx in range(n_samples):\n",
    "    ax.plot(x_predict, mu_post[:, itx] + itx * offset, color = 'b', alpha = 0.5, linewidth = 0.5)\n",
    "    \n",
    "ax.set_xlim(0, 32)\n",
    "plt.xticks([0, 8, 16, 24, 32])\n",
    "plt.tick_params(axis = 'both', which = 'major', labelsize = 'medium')\n",
    "ax.set_xlabel('Time (s)', fontsize = 10)\n",
    "ax.set_yticklabels([]);\n",
    "ax.get_yaxis().set_visible(False)\n",
    "sns.despine(ax = ax, left = True)\n",
    "ax.set_ylim(-3, 3)\n",
    "\n",
    "fig.set_size_inches(2, 1.5)\n",
    "\n",
    "plt.savefig(directories['figs'] + 'warping/' + 'warped_gp_samples.svg', dpi = 300)"
   ]
  },
  {
   "cell_type": "code",
   "execution_count": 119,
   "metadata": {
    "scrolled": true
   },
   "outputs": [
    {
     "data": {
      "image/png": "[encoded data removed]",
      "text/plain": [
       "<matplotlib.figure.Figure at 0x7f0afe2fb940>"
      ]
     },
     "metadata": {},
     "output_type": "display_data"
    }
   ],
   "source": [
    "fig, ax = plt.subplots(1)\n",
    "\n",
    "ax.plot(x_predict, m3_mu, color = 'r', linewidth = 1)\n",
    "upper, lower = compute_bounds(m3_mu, m3_sig, n_sigma = 2)\n",
    "ax.fill_between(x_predict, upper[:, 0], lower[:, 0], facecolor = 'r', alpha = 0.33)\n",
    "upper, lower = compute_bounds(m3_mu, m3_sig_outer, n_sigma = 2)\n",
    "ax.fill_between(x_predict, upper[:, 0], lower[:, 0], facecolor = 'r', alpha = 0.16)\n",
    "\n",
    "ax.set_xlim(0, 32)\n",
    "plt.xticks([0, 8, 16, 24, 32])\n",
    "plt.tick_params(axis = 'both', which = 'major', labelsize = 'medium')\n",
    "ax.set_xlabel('Time (s)', fontsize = 10)\n",
    "ax.set_yticklabels([]);\n",
    "ax.get_yaxis().set_visible(False)\n",
    "sns.despine(ax = ax, left = True)\n",
    "ax.set_ylim(-3, 3)\n",
    "\n",
    "fig.set_size_inches(2, 1.5)\n",
    "\n",
    "plt.savefig(directories['figs'] + 'warping/' + 'warped_gp_local.svg', dpi = 300)"
   ]
  },
  {
   "cell_type": "code",
   "execution_count": 120,
   "metadata": {},
   "outputs": [
    {
     "data": {
      "image/png": "[encoded data removed]",
      "text/plain": [
       "<matplotlib.figure.Figure at 0x7f0afe344320>"
      ]
     },
     "metadata": {},
     "output_type": "display_data"
    }
   ],
   "source": [
    "fig, ax = plt.subplots(1)\n",
    "\n",
    "ax.plot(x_predict, m2_mu - m3_mu, color = '#1a9850', linewidth = 0.5)\n",
    "ax.plot(x_predict, np.zeros(x_predict.shape), color = 'k', linewidth = 0.5)\n",
    "\n",
    "upper, lower = compute_bounds(m2_mu - m3_mu, m2_sig + m3_sig, n_sigma = 3)\n",
    "ax.fill_between(x_predict, upper[:, 0], lower[:, 0], facecolor = '#1a9850', alpha = 0.33)\n",
    "\n",
    "diff_mask = (upper < 0) | (lower > 0)\n",
    "\n",
    "# upper, lower = compute_bounds(m2_mu - m3_mu, m2_sig_outer + m3_sig_outer, n_sigma = 3)\n",
    "# ax.fill_between(x_predict, upper[:, 0], lower[:, 0], facecolor = '#1a9850', alpha = 0.16)\n",
    "\n",
    "y_min = - 1\n",
    "\n",
    "ax.fill_between(\n",
    "    x_predict, \n",
    "    np.ones(x_predict.shape) * 2 * y_min, \n",
    "    np.ones(x_predict.shape) * y_min, \n",
    "    where = diff_mask[:, 0], \n",
    "    facecolor = 'k', \n",
    "    alpha = 0.16\n",
    ")\n",
    "\n",
    "ax.set_xlim(0, 32)\n",
    "plt.xticks([0, 8, 16, 24, 32])\n",
    "plt.tick_params(axis = 'both', which = 'major', labelsize = 'medium')\n",
    "ax.set_xlabel('Time (s)', fontsize = 10)\n",
    "ax.set_yticklabels([]);\n",
    "ax.get_yaxis().set_visible(False)\n",
    "sns.despine(ax = ax, left = True)\n",
    "ax.set_ylim(-3, 3)\n",
    "\n",
    "fig.set_size_inches(2, 1.5)\n",
    "\n",
    "plt.savefig(directories['figs'] + 'warping/' + 'diff_gp.svg', dpi = 300)"
   ]
  },
  {
   "cell_type": "code",
   "execution_count": 87,
   "metadata": {},
   "outputs": [],
   "source": [
    "n_sigma = np.linspace(0, 10, 200)\n",
    "\n",
    "n_blob_inner = np.zeros(n_sigma.shape[0])\n",
    "n_blob_outer = np.zeros(n_sigma.shape[0])"
   ]
  },
  {
   "cell_type": "code",
   "execution_count": 159,
   "metadata": {},
   "outputs": [],
   "source": [
    "from scipy.ndimage import label\n",
    "\n",
    "for itx, sigma in enumerate(n_sigma):\n",
    "    # Compute inner EC\n",
    "    upper, lower = compute_bounds(m2_mu - m3_mu, m2_sig + m3_sig, n_sigma = sigma)\n",
    "    ax.fill_between(x_predict, upper[:, 0], lower[:, 0], facecolor = '#1a9850', alpha = 0.33)\n",
    "\n",
    "    diff_mask = (upper < 0) | (lower > 0)\n",
    "    \n",
    "    n_blob_inner[itx] = np.unique(np.hstack(label(diff_mask)[0])).max()\n",
    "\n",
    "    # Compute outer EC\n",
    "    upper, lower = compute_bounds(m2_mu - m3_mu, m2_sig_outer + m3_sig_outer, n_sigma = sigma)\n",
    "    ax.fill_between(x_predict, upper[:, 0], lower[:, 0], facecolor = '#1a9850', alpha = 0.33)\n",
    "\n",
    "    diff_mask = (upper < 0) | (lower > 0)\n",
    "    n_blob_outer[itx] = np.unique(np.hstack(label(diff_mask)[0])).max()"
   ]
  },
  {
   "cell_type": "code",
   "execution_count": 161,
   "metadata": {},
   "outputs": [
    {
     "data": {
      "image/png": "[encoded data removed]",
      "text/plain": [
       "<matplotlib.figure.Figure at 0x7f0afe2a49b0>"
      ]
     },
     "metadata": {},
     "output_type": "display_data"
    }
   ],
   "source": [
    "sns.set_style('ticks')\n",
    "\n",
    "fig, ax = plt.subplots(1)\n",
    "\n",
    "ax.plot(n_sigma, n_blob_inner, color = 'k', linewidth = 1, clip_on = False)\n",
    "ax.plot(np.ones(240) * 3, np.arange(240), color = 'k', linewidth = 1, linestyle = ':')\n",
    "\n",
    "sigma_mask = n_sigma > 3\n",
    "ax.fill_between(\n",
    "    n_sigma[sigma_mask], \n",
    "    np.zeros(n_sigma[sigma_mask].shape), \n",
    "    n_blob_inner[sigma_mask],\n",
    "    facecolor = 'k', \n",
    "    alpha = 0.66,\n",
    "    clip_on = False\n",
    ")\n",
    "\n",
    "ax.set_xlim(0, 10)\n",
    "ax.set_ylim(0, 240)\n",
    "plt.tick_params(axis='both', which='major', labelsize='medium')\n",
    "ax.set_xlabel('Z-Score Threshold', fontsize = 10)\n",
    "ax.set_ylabel('Euler Characteristic', fontsize = 10)\n",
    "plt.xticks(np.arange(0, 15, 5))\n",
    "plt.yticks(np.arange(0, 280, 40))\n",
    "\n",
    "sns.despine(ax = ax, offset = 10)\n",
    "\n",
    "fig.set_size_inches(2, 1.4)\n",
    "\n",
    "plt.savefig(directories['figs'] + 'warping/' + 'zscore_vs_ec.svg', dpi = 300)"
   ]
  },
  {
   "cell_type": "markdown",
   "metadata": {},
   "source": [
    "Classical Comparison"
   ]
  },
  {
   "cell_type": "code",
   "execution_count": 102,
   "metadata": {},
   "outputs": [],
   "source": [
    "local_traces = data_linear['Snippets0'][:16515, :, 0]\n",
    "global_traces = data_linear['Snippets0'][16516:, :, 0]\n",
    "\n",
    "local_mean = local_traces.mean(axis = 1)\n",
    "global_mean = global_traces.mean(axis = 1)\n",
    "\n",
    "local_std = local_traces.std(axis = 1)\n",
    "global_std = global_traces.std(axis = 1)\n",
    "\n",
    "trace_times = data_linear['SnippetsTimes0'][:16515, 0, 0]\n",
    "trace_times -= trace_times.min()"
   ]
  },
  {
   "cell_type": "code",
   "execution_count": 157,
   "metadata": {
    "scrolled": true
   },
   "outputs": [
    {
     "data": {
      "image/png": "[encoded data removed]",
      "text/plain": [
       "<matplotlib.figure.Figure at 0x7f0afe0c4e10>"
      ]
     },
     "metadata": {},
     "output_type": "display_data"
    }
   ],
   "source": [
    "fig, ax = plt.subplots(1)\n",
    "\n",
    "offset = 18\n",
    "\n",
    "ax.plot(trace_times, local_mean + 2 * offset, color = 'r', linewidth = 0.5)\n",
    "ax.fill_between(trace_times, local_mean - 3 * local_std + 2 * offset,  local_mean + 3 * local_std + 2 * offset,\n",
    "                facecolor = 'r', alpha = 0.33, clip_on = False)\n",
    "\n",
    "ax.plot(trace_times, global_mean + offset, color = 'b', linewidth = 0.5)\n",
    "ax.fill_between(trace_times, global_mean - 3 * global_std + offset,  global_mean + 3 * global_std + offset, \n",
    "                facecolor = 'b', alpha = 0.33, clip_on = False)\n",
    "\n",
    "ax.plot(trace_times, local_mean - global_mean , color = 'g', linewidth = 0.5)\n",
    "ax.plot(x_predict, np.zeros(x_predict.shape), color = 'k', linewidth = 1)\n",
    "\n",
    "ax.fill_between(trace_times, \n",
    "                local_mean - global_mean - 3 * (local_std + global_std),  \n",
    "                local_mean - global_mean + 3 * (local_std + global_std), \n",
    "                facecolor = 'g', alpha = 0.33, clip_on = False)\n",
    "\n",
    "ax.get_yaxis().set_visible(False)\n",
    "ax.get_xaxis().set_visible(False)\n",
    "\n",
    "ax.set_xlim(0, 32)\n",
    "\n",
    "# plt.xticks([0, 8, 16, 24, 32])\n",
    "plt.tick_params(axis = 'both', which = 'major', labelsize = 'medium')\n",
    "ax.set_xlabel('Time (s)', fontsize = 10)\n",
    "\n",
    "sns.despine(left = True, bottom = True, ax = ax, offset = 10)\n",
    "\n",
    "fig.set_size_inches(1.7, 4)\n",
    "\n",
    "plt.savefig(directories['figs'] + 'warping/' + 'classical_diff.pdf', dpi = 300)"
   ]
  },
  {
   "cell_type": "code",
   "execution_count": 162,
   "metadata": {},
   "outputs": [],
   "source": [
    "n_blob_inner = np.zeros(n_sigma.shape[0])\n",
    "\n",
    "for itx, sigma in enumerate(n_sigma):\n",
    "    # Compute EC\n",
    "    upper, lower = compute_bounds(local_mean - global_mean, local_std + global_std, n_sigma = sigma)\n",
    "    ax.fill_between(trace_times, upper, lower, facecolor = '#1a9850', alpha = 0.33)\n",
    "\n",
    "    diff_mask = (upper < 0) | (lower > 0)\n",
    "    \n",
    "    n_blob_inner[itx] = np.unique(np.hstack(label(diff_mask)[0])).max()"
   ]
  },
  {
   "cell_type": "code",
   "execution_count": 163,
   "metadata": {},
   "outputs": [
    {
     "data": {
      "image/png": "[encoded data removed]",
      "text/plain": [
       "<matplotlib.figure.Figure at 0x7f0afe36a550>"
      ]
     },
     "metadata": {},
     "output_type": "display_data"
    }
   ],
   "source": [
    "sns.set_style('ticks')\n",
    "\n",
    "fig, ax = plt.subplots(1)\n",
    "\n",
    "ax.plot(n_sigma, n_blob_inner, color = 'k', label = 'Latent', linewidth = 1, clip_on = False)\n",
    "ax.plot(np.ones(240) * 3, np.arange(240), color = 'k', linewidth = 1, linestyle = ':')\n",
    "\n",
    "sigma_mask = n_sigma > 3\n",
    "ax.fill_between(\n",
    "    n_sigma[sigma_mask], \n",
    "    np.zeros(n_sigma[sigma_mask].shape), \n",
    "    n_blob_inner[sigma_mask],\n",
    "    facecolor = 'k', \n",
    "    alpha = 0.66,\n",
    "    clip_on = False\n",
    ")\n",
    "\n",
    "ax.set_xlim(0, 10)\n",
    "ax.set_ylim(0, 240)\n",
    "plt.tick_params(axis='both', which='major', labelsize='medium')\n",
    "ax.set_xlabel('Z-Score Threshold', fontsize = 10)\n",
    "ax.set_ylabel('Euler Characteristic', fontsize = 10)\n",
    "plt.xticks(np.arange(0, 15, 5))\n",
    "plt.yticks(np.arange(0, 280, 40))\n",
    "\n",
    "sns.despine(ax = ax, offset = 10)\n",
    "\n",
    "fig.set_size_inches(2, 1.4)\n",
    "\n",
    "plt.savefig(directories['figs'] + 'warping/' + 'classical_EC.svg', dpi = 300)"
   ]
  }
 ],
 "metadata": {
  "kernelspec": {
   "display_name": "Python 3",
   "language": "python",
   "name": "python3"
  },
  "language_info": {
   "codemirror_mode": {
    "name": "ipython",
    "version": 3
   },
   "file_extension": ".py",
   "mimetype": "text/x-python",
   "name": "python",
   "nbconvert_exporter": "python",
   "pygments_lexer": "ipython3",
   "version": "3.7.3"
  }
 },
 "nbformat": 4,
 "nbformat_minor": 1
}
