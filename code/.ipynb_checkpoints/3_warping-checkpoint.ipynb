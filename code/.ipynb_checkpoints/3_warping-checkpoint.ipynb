{
 "cells": [
  {
   "cell_type": "markdown",
   "metadata": {},
   "source": [
    "This notebook provides the plotting functions for Figure 3 a-f. It also includes the warping function used to transform the chirp response in Figure 2e. The warping is achieved using isotonic regression."
   ]
  },
  {
   "cell_type": "code",
   "execution_count": 1,
   "metadata": {},
   "outputs": [],
   "source": [
    "%matplotlib inline\n",
    "\n",
    "import GPy\n",
    "import h5py\n",
    "import json\n",
    "import matplotlib.pyplot as plt\n",
    "import numpy as np\n",
    "import os\n",
    "import pandas as pd\n",
    "import seaborn as sns\n",
    "from scipy.optimize import curve_fit\n",
    "from scipy.stats import beta\n",
    "from sklearn.isotonic import IsotonicRegression\n",
    "import tqdm\n",
    "\n",
    "from util.load_hdf5 import *\n",
    "from util.zscore import *\n",
    "from util.compute_bounds import *\n",
    "\n",
    "sns.set_style('white')\n",
    "\n",
    "# from matplotlib import rcParams\n",
    "# rcParams.update({'figure.autolayout': True}) # ?\n",
    "\n",
    "directories = json.load(open('directories.json'))"
   ]
  },
  {
   "cell_type": "code",
   "execution_count": 2,
   "metadata": {},
   "outputs": [],
   "source": [
    "data_linear = load_hdf5(directories['data'] + 'SMP_M1_RR2_BC2_ChirpI.h5')\n",
    "\n",
    "data_df = pd.read_csv(directories['data'] + 'SMP_M1_RR2_BC2_ChirpI.csv', index_col = 0)\n",
    "data_df = data_df.groupby(['roi', 'frame']).mean().reset_index()\n",
    "trial_duration = data_df['x_t'].max() / 2"
   ]
  },
  {
   "cell_type": "code",
   "execution_count": 3,
   "metadata": {},
   "outputs": [],
   "source": [
    "chirp_stimulus = h5py.File(directories['misc'] + 'chirp.h5', 'r')['chirp'][:]\n",
    "\n",
    "chirp_stimulus -= chirp_stimulus.mean()\n",
    "chirp_stimulus /= chirp_stimulus.std()\n",
    "\n",
    "chirp_tpnts = np.linspace(0, trial_duration, chirp_stimulus.shape[0])"
   ]
  },
  {
   "cell_type": "code",
   "execution_count": 4,
   "metadata": {},
   "outputs": [],
   "source": [
    "def rbf_func(tpnts, l, sigma, v = 2):\n",
    "    \n",
    "    euc_dist_sqr = np.abs(- tpnts[:, None]) ** v\n",
    "    sqr_dist_scale = euc_dist_sqr / (2 * l ** v)\n",
    "    rbf_out = sigma * np.exp(-sqr_dist_scale)\n",
    "    \n",
    "    return rbf_out[:, 0]"
   ]
  },
  {
   "cell_type": "code",
   "execution_count": 5,
   "metadata": {},
   "outputs": [],
   "source": [
    "n_anchors = 512\n",
    "slice_width = 0.25\n",
    "anchors = np.linspace(0, trial_duration, n_anchors)"
   ]
  },
  {
   "cell_type": "code",
   "execution_count": 6,
   "metadata": {},
   "outputs": [],
   "source": [
    "slices = []\n",
    "\n",
    "slice_length = 64\n",
    "fit_stack = np.zeros([slice_length, n_anchors])\n",
    "par_stack = np.zeros([2, n_anchors]) \n",
    "new_tpnts = np.linspace(-slice_width, slice_width, slice_length)\n",
    "\n",
    "p0 = [0.1, 100]\n",
    "\n",
    "slice_list = []\n",
    "tpnts_list = []\n",
    "\n",
    "for itx, anchor_point in enumerate(anchors):\n",
    "    start = anchor_point - slice_width\n",
    "    stop = anchor_point + slice_width\n",
    "    anchor_mask = (chirp_tpnts > start) & (chirp_tpnts < stop)\n",
    "    \n",
    "    trace_slice = chirp_stimulus[anchor_mask]\n",
    "    tpnts_slice = chirp_tpnts[anchor_mask]\n",
    "    \n",
    "    y_distance = np.correlate(trace_slice, trace_slice, mode = 'same')\n",
    "    x_distance = np.linspace(-slice_width, slice_width, y_distance.shape[0])\n",
    "    \n",
    "    slice_list.append(y_distance)\n",
    "    \n",
    "    popt, pcov = curve_fit(rbf_func, x_distance, y_distance, p0 = p0)\n",
    "    par_stack[:, itx] = popt \n",
    "    fit_stack[:, itx] = rbf_func(new_tpnts, popt[0], popt[1])\n",
    "    \n",
    "par_stack[0, :] = np.abs(par_stack[0, :])"
   ]
  },
  {
   "cell_type": "code",
   "execution_count": 7,
   "metadata": {},
   "outputs": [],
   "source": [
    "par_cdf = np.cumsum(np.power(par_stack[0, :], -1))\n",
    "par_cdf -= par_cdf.min()\n",
    "par_cdf /= par_cdf.max()\n",
    "par_cdf *= 32\n",
    "\n",
    "par_length = par_stack.shape[1]\n",
    "par_tpnts = np.linspace(0, trial_duration, par_stack.shape[1])\n",
    "new_cdf = np.linspace(0, trial_duration, par_tpnts.shape[0])\n",
    "cdf_transformed = IsotonicRegression().fit_transform(par_cdf, par_tpnts)\n",
    "\n",
    "iso_reg = IsotonicRegression()\n",
    "iso_reg.fit(par_tpnts, par_cdf)\n",
    "x_ = iso_reg.transform(chirp_tpnts)"
   ]
  },
  {
   "cell_type": "code",
   "execution_count": 8,
   "metadata": {},
   "outputs": [],
   "source": [
    "roi = np.unique(data_df['roi'])[0]\n",
    "\n",
    "data_df = data_df.sort_values(by = 'x_t')\n",
    "\n",
    "y = data_df[data_df['roi'] == roi]['y']\n",
    "x_t = data_df[data_df['roi'] == roi]['x_t']\n",
    "\n",
    "global_mask = x_t < trial_duration\n",
    "local_mask = x_t > trial_duration\n",
    "\n",
    "x_t_local = x_t[local_mask]\n",
    "x_t_local -= trial_duration\n",
    "y_local = y[local_mask]\n",
    "\n",
    "x_t_global = x_t[global_mask]\n",
    "y_global = y[global_mask]\n",
    "\n",
    "x_new_local = iso_reg.transform(x_t_local)\n",
    "x_new_global = iso_reg.transform(x_t_global)\n",
    "\n",
    "x_predict = np.linspace(0, trial_duration, 33 * 50)\n",
    "x_predict_warp = iso_reg.transform(x_predict)"
   ]
  },
  {
   "cell_type": "markdown",
   "metadata": {},
   "source": [
    "Warp Files"
   ]
  },
  {
   "cell_type": "raw",
   "metadata": {},
   "source": [
    "csv_file = 'SMP_M1_RR2_BC2_ChirpI.csv'\n",
    "data_df = pd.read_csv(directories['data'] + csv_file, index_col = 0)\n",
    "data_df['x_t_warped'] = iso_reg.transform(data_df['x_t'] % trial_duration)\n",
    "data_df.to_csv(directories['data'] + csv_file)"
   ]
  },
  {
   "cell_type": "raw",
   "metadata": {
    "collapsed": true
   },
   "source": [
    "csv_file = 'SMP_M1_RR2_BC2_ChirpI2.csv'\n",
    "data_df = pd.read_csv(directories['data'] + csv_file, index_col = 0)\n",
    "data_df['x_t_warped'] = iso_reg.transform(data_df['x_t'] % trial_duration)\n",
    "data_df.to_csv(directories['data'] + csv_file)"
   ]
  },
  {
   "cell_type": "raw",
   "metadata": {
    "collapsed": true
   },
   "source": [
    "csv_file = 'SMP_BC4_lChirp.csv'\n",
    "data_df = pd.read_csv(directories['data'] + csv_file, index_col = 0)\n",
    "data_df['x_t_warped'] = iso_reg.transform(data_df['x_t'])\n",
    "data_df.to_csv(directories['data'] + csv_file)"
   ]
  },
  {
   "cell_type": "raw",
   "metadata": {
    "collapsed": true
   },
   "source": [
    "csv_file = 'SMP_M1_RR2_IPL2OFF_ChirpI.csv'\n",
    "data_df = pd.read_csv(directories['data'] + csv_file, index_col = 0)\n",
    "data_df['x_t_warped'] = iso_reg.transform(data_df['x_t']  % trial_duration)\n",
    "data_df.to_csv(directories['data'] + csv_file)"
   ]
  },
  {
   "cell_type": "raw",
   "metadata": {},
   "source": [
    "csv_file = 'SMP_M1_RR1_IPL6_LChirp.csv'\n",
    "data_df = pd.read_csv(directories['data'] + csv_file, index_col = 0)\n",
    "data_df['x_t_warped'] = iso_reg.transform(data_df['x_t']  % trial_duration)\n",
    "data_df.to_csv(directories['data'] + csv_file)"
   ]
  },
  {
   "cell_type": "markdown",
   "metadata": {},
   "source": [
    "Plots"
   ]
  },
  {
   "cell_type": "code",
   "execution_count": 9,
   "metadata": {},
   "outputs": [
    {
     "data": {
      "image/png": "[encoded data removed]",
      "text/plain": [
       "<Figure size 201.6x180 with 1 Axes>"
      ]
     },
     "metadata": {},
     "output_type": "display_data"
    }
   ],
   "source": [
    "sns.set_style('ticks')\n",
    "\n",
    "fig, ax = plt.subplots(1)\n",
    "\n",
    "offset = 5\n",
    "\n",
    "stimulus_tpnts = np.linspace(0, 32, chirp_stimulus.shape[0])\n",
    "ax.plot(stimulus_tpnts, chirp_stimulus, c = 'k', linewidth = 0.5)\n",
    "\n",
    "ax.scatter(x_t_local, y_local - offset, s = 0.5, c = 'k')\n",
    "\n",
    "sns.despine(left = True, ax = ax)\n",
    "ax.set_yticklabels([]);\n",
    "\n",
    "ax.set_xlim(0, 32);\n",
    "\n",
    "ax.set_xlabel('Time (s)', fontsize=10);\n",
    "plt.xticks([0, 8, 16, 24, 32])\n",
    "ax.get_yaxis().set_visible(False)\n",
    "plt.tick_params(axis='both', which='major', labelsize = 'medium')\n",
    "\n",
    "fig.set_size_inches(2.8, 2.5)\n",
    "\n",
    "plt.savefig(directories['figs'] + 'warping/' + 'chirp_stimulus.svg', dpi = 300)"
   ]
  },
  {
   "cell_type": "code",
   "execution_count": 10,
   "metadata": {},
   "outputs": [
    {
     "data": {
      "image/png": "[encoded data removed]",
      "text/plain": [
       "<Figure size 241.2x72 with 1 Axes>"
      ]
     },
     "metadata": {},
     "output_type": "display_data"
    }
   ],
   "source": [
    "sns.set_style('ticks')\n",
    "\n",
    "hmap_p = {\n",
    "#     'square': True, \n",
    "    'cmap': 'viridis',\n",
    "    'xticklabels': False,\n",
    "    'yticklabels': False,\n",
    "    'cbar': False,\n",
    "}\n",
    "\n",
    "fig, ax = plt.subplots(1)\n",
    "sns.heatmap(fit_stack, ax = ax, **hmap_p)\n",
    "plt.yticks([1, 64])\n",
    "ax.set_yticklabels([-0.25, 0.25]);\n",
    "ax.set_ylabel('Lag (s)', fontsize=10, clip_on = False);\n",
    "\n",
    "plt.tick_params(axis='both', which='major', labelsize = 'medium')\n",
    "\n",
    "fig.set_size_inches(3.35, 1)\n",
    "\n",
    "plt.tight_layout()\n",
    "\n",
    "plt.savefig(directories['figs'] + 'warping/' + 'heatmap_fitted_acf.png', dpi = 600)"
   ]
  },
  {
   "cell_type": "code",
   "execution_count": 11,
   "metadata": {
    "scrolled": true
   },
   "outputs": [
    {
     "data": {
      "image/png": "[encoded data removed]",
      "text/plain": [
       "<Figure size 216x108 with 1 Axes>"
      ]
     },
     "metadata": {},
     "output_type": "display_data"
    }
   ],
   "source": [
    "par_cdf_rescale = np.power(par_stack[0, :], -1).max() / 32\n",
    "par_cdf_offset = np.power(par_stack[0, :], -1).max()\n",
    "\n",
    "fig, ax = plt.subplots(1)\n",
    "\n",
    "ax.plot(par_tpnts, np.power(par_stack[0, :], -1), \n",
    "           c = 'k', alpha = 1, label = '1 / Lengthscale', linewidth = 0.5)\n",
    "\n",
    "# ax.plot(par_tpnts, par_cdf * par_cdf_rescale + par_cdf_offset, c = 'b', linewidth = 0.5, label = 'Cumulative')\n",
    "\n",
    "ax.set_yticklabels([]);\n",
    "ax.set_xlim(0, 32)\n",
    "ax.set_xlabel('Time (s)', fontsize=10);\n",
    "plt.xticks([0, 8, 16, 24, 32])\n",
    "ax.get_yaxis().set_visible(False)\n",
    "plt.tick_params(axis='both', which='major', labelsize = 'medium')\n",
    "sns.despine(left = True, ax = ax)\n",
    "\n",
    "fig.set_size_inches(3, 1.5)\n",
    "\n",
    "plt.savefig(directories['figs'] + 'warping/' + 'acf_parameters.svg', dpi = 300)"
   ]
  },
  {
   "cell_type": "code",
   "execution_count": 12,
   "metadata": {},
   "outputs": [
    {
     "data": {
      "image/png": "[encoded data removed]",
      "text/plain": [
       "<Figure size 201.6x201.6 with 1 Axes>"
      ]
     },
     "metadata": {},
     "output_type": "display_data"
    }
   ],
   "source": [
    "sns.set_style('ticks')\n",
    "\n",
    "fig, ax = plt.subplots(1)\n",
    "\n",
    "ax.plot(par_tpnts, par_cdf, color = 'k', linewidth = 1)\n",
    "ax.plot(par_tpnts, par_tpnts, color = 'k', linewidth = 1, linestyle = ':')\n",
    "\n",
    "plt.xticks([0, 8, 16, 24, 32])\n",
    "plt.yticks([0, 8, 16, 24, 32])\n",
    "ax.set_xlim(0, 32)\n",
    "ax.set_ylim(0, 32)\n",
    "ax.set_xlabel('Time (s)', fontsize=10)\n",
    "ax.set_ylabel('Warped Time (s)', fontsize=10)\n",
    "plt.tick_params(axis='both', which='major', labelsize='medium')\n",
    "sns.despine(ax = ax, offset = 10)\n",
    "\n",
    "fig.set_size_inches(2.8, 2.8)\n",
    "\n",
    "plt.savefig(directories['figs'] + 'warping/' + 'time_vs_warpedtime.svg', dpi = 300)"
   ]
  },
  {
   "cell_type": "code",
   "execution_count": 13,
   "metadata": {
    "scrolled": false
   },
   "outputs": [
    {
     "data": {
      "image/png": "[encoded data removed]",
      "text/plain": [
       "<Figure size 201.6x180 with 1 Axes>"
      ]
     },
     "metadata": {},
     "output_type": "display_data"
    }
   ],
   "source": [
    "fig, ax = plt.subplots(1)\n",
    "\n",
    "offset = 5\n",
    "\n",
    "ax.plot(x_, chirp_stimulus, color = 'b', linewidth = 0.5)\n",
    "\n",
    "ax.scatter(x_new_local, y_local - offset, s = 0.5, c = 'b')\n",
    "\n",
    "ax.set_xlim(0, 32)\n",
    "plt.xticks([0, 8, 16, 24, 32])\n",
    "plt.tick_params(axis = 'both', which = 'major', labelsize = 'medium')\n",
    "ax.set_xlabel('Warped Time (s)', fontsize = 10)\n",
    "ax.set_yticklabels([]);\n",
    "ax.get_yaxis().set_visible(False)\n",
    "\n",
    "sns.despine(left = True, ax = ax)\n",
    "fig.set_size_inches(2.8, 2.5)\n",
    "\n",
    "plt.savefig(directories['figs'] + 'warping/' + 'warped_stimulus.svg', dpi = 300)"
   ]
  },
  {
   "cell_type": "code",
   "execution_count": 14,
   "metadata": {},
   "outputs": [
    {
     "name": "stdout",
     "output_type": "stream",
     "text": [
      "Optimization restart 1/4, f = 875.2641336899069\n",
      "Optimization restart 2/4, f = 1664.0885457398826\n",
      "Optimization restart 3/4, f = 1631.6030064671177\n",
      "Optimization restart 4/4, f = 1769.301044275827\n"
     ]
    },
    {
     "data": {
      "text/plain": [
       "[<paramz.optimization.optimization.opt_lbfgsb at 0x7f8edb76eef0>,\n",
       " <paramz.optimization.optimization.opt_lbfgsb at 0x7f8edb7d7e10>,\n",
       " <paramz.optimization.optimization.opt_lbfgsb at 0x7f8edb7d7898>,\n",
       " <paramz.optimization.optimization.opt_lbfgsb at 0x7f8edb6fd668>]"
      ]
     },
     "execution_count": 14,
     "metadata": {},
     "output_type": "execute_result"
    }
   ],
   "source": [
    "m1 = GPy.models.SparseGPRegression(\n",
    "    x_t_global[:, None],\n",
    "    y_global[:, None],\n",
    "    kernel = GPy.kern.RBF(1),\n",
    "    num_inducing = 300\n",
    ")\n",
    "\n",
    "m1.optimize_restarts(4, max_iters = 25, messages = False)\n",
    "# m1.plot()"
   ]
  },
  {
   "cell_type": "code",
   "execution_count": 15,
   "metadata": {},
   "outputs": [
    {
     "name": "stdout",
     "output_type": "stream",
     "text": [
      "Optimization restart 1/4, f = 991.4592219366909\n",
      "Optimization restart 2/4, f = 1576.5161802695957\n",
      "Optimization restart 3/4, f = 1576.359795070003\n",
      "Optimization restart 4/4, f = 1577.2033528743823\n"
     ]
    },
    {
     "data": {
      "text/plain": [
       "[<paramz.optimization.optimization.opt_lbfgsb at 0x7f8edb6fddd8>,\n",
       " <paramz.optimization.optimization.opt_lbfgsb at 0x7f8edb872a58>,\n",
       " <paramz.optimization.optimization.opt_lbfgsb at 0x7f8edb7076a0>,\n",
       " <paramz.optimization.optimization.opt_lbfgsb at 0x7f8edb707710>]"
      ]
     },
     "execution_count": 15,
     "metadata": {},
     "output_type": "execute_result"
    }
   ],
   "source": [
    "m2 = GPy.models.SparseGPRegression(\n",
    "    x_new_global[:, None],\n",
    "    y_global[:, None],\n",
    "    kernel = GPy.kern.RBF(1),\n",
    "    num_inducing = 300\n",
    ")\n",
    "\n",
    "m2.optimize_restarts(4, max_iters = 25, messages = False)\n",
    "# m2.plot()"
   ]
  },
  {
   "cell_type": "code",
   "execution_count": 16,
   "metadata": {},
   "outputs": [
    {
     "name": "stdout",
     "output_type": "stream",
     "text": [
      "Optimization restart 1/4, f = 1077.9209792314953\n",
      "Optimization restart 2/4, f = 1599.354746936626\n",
      "Optimization restart 3/4, f = 1599.5292113531202\n",
      "Optimization restart 4/4, f = 1600.3959449592473\n"
     ]
    },
    {
     "data": {
      "text/plain": [
       "[<paramz.optimization.optimization.opt_lbfgsb at 0x7f8edb707860>,\n",
       " <paramz.optimization.optimization.opt_lbfgsb at 0x7f8edb872cc0>,\n",
       " <paramz.optimization.optimization.opt_lbfgsb at 0x7f8edb6be358>,\n",
       " <paramz.optimization.optimization.opt_lbfgsb at 0x7f8edb6be550>]"
      ]
     },
     "execution_count": 16,
     "metadata": {},
     "output_type": "execute_result"
    }
   ],
   "source": [
    "m3 = GPy.models.SparseGPRegression(\n",
    "    x_new_local[:, None],\n",
    "    y_local[:, None],\n",
    "    kernel = GPy.kern.RBF(1),\n",
    "    num_inducing = 300\n",
    ")\n",
    "\n",
    "m3.optimize_restarts(4, max_iters = 25, messages = False)\n",
    "# m3.plot()"
   ]
  },
  {
   "cell_type": "code",
   "execution_count": 17,
   "metadata": {},
   "outputs": [],
   "source": [
    "m1_mu, m1_sig = m1.predict(x_predict[:, None], include_likelihood = False)\n",
    "m1_mu, m1_sig_outer = m1.predict(x_predict[:, None], include_likelihood = True)\n",
    "\n",
    "m2_mu, m2_sig = m2.predict(x_predict_warp[:, None], include_likelihood = False)\n",
    "m2_mu, m2_sig_outer = m2.predict(x_predict_warp[:, None], include_likelihood = True)\n",
    "\n",
    "m3_mu, m3_sig = m3.predict(x_predict_warp[:, None], include_likelihood = False)\n",
    "m3_mu, m3_sig_outer = m3.predict(x_predict_warp[:, None], include_likelihood = True)"
   ]
  },
  {
   "cell_type": "code",
   "execution_count": 18,
   "metadata": {
    "scrolled": false
   },
   "outputs": [
    {
     "data": {
      "image/png": "[encoded data removed]",
      "text/plain": [
       "<Figure size 201.6x108 with 1 Axes>"
      ]
     },
     "metadata": {},
     "output_type": "display_data"
    }
   ],
   "source": [
    "sns.set_style('white')\n",
    "\n",
    "fig, ax = plt.subplots(1)\n",
    "\n",
    "ax.plot(x_predict, m1_mu, color = 'k', linewidth = 0.5)\n",
    "upper, lower = compute_bounds(m1_mu, m1_sig, n_sigma = 3)\n",
    "ax.fill_between(x_predict, upper[:, 0], lower[:, 0], facecolor = 'k', alpha = 0.33)\n",
    "upper, lower = compute_bounds(m1_mu, m1_sig_outer, n_sigma = 3)\n",
    "ax.fill_between(x_predict, upper[:, 0], lower[:, 0], facecolor = 'k', alpha = 0.16)\n",
    "\n",
    "ax.set_xlim(0, 32)\n",
    "plt.tick_params(axis='both', which='major', labelsize='small')\n",
    "ax.set_yticklabels([]);\n",
    "ax.set_xticklabels([]);\n",
    "ax.set_ylim(-3, 3)\n",
    "ax.set_aspect(2)\n",
    "sns.despine(left = True, bottom = True, ax = ax)\n",
    "\n",
    "fig.set_size_inches(2.8, 1.5)\n",
    "\n",
    "# plt.savefig(directories['figs'] + 'warping/' + 'raw_gp.svg', dpi = 300)"
   ]
  },
  {
   "cell_type": "code",
   "execution_count": 19,
   "metadata": {
    "scrolled": false
   },
   "outputs": [],
   "source": [
    "n_samples = 5\n",
    "mu_post = m1.posterior_samples_f(x_predict[:, None], size = n_samples)"
   ]
  },
  {
   "cell_type": "code",
   "execution_count": 20,
   "metadata": {},
   "outputs": [
    {
     "data": {
      "image/png": "[encoded data removed]",
      "text/plain": [
       "<Figure size 201.6x108 with 1 Axes>"
      ]
     },
     "metadata": {},
     "output_type": "display_data"
    }
   ],
   "source": [
    "sns.set_style('ticks')\n",
    "\n",
    "fig, ax = plt.subplots(1)\n",
    "\n",
    "sample_colors = sns.color_palette('hls', n_samples)\n",
    "\n",
    "offset = 0\n",
    "\n",
    "for itx in range(n_samples):\n",
    "    ax.plot(x_predict, mu_post[:, 0, itx] + itx * offset, color = 'k', alpha = 0.5, linewidth = 0.5)\n",
    "    \n",
    "ax.set_xlim(0, 32)\n",
    "plt.xticks([0, 8, 16, 24, 32])\n",
    "plt.tick_params(axis = 'both', which = 'major', labelsize = 'medium')\n",
    "ax.set_xlabel('Time (s)', fontsize = 10)\n",
    "ax.set_yticklabels([]);\n",
    "ax.get_yaxis().set_visible(False)\n",
    "ax.set_ylim(-3, 3)\n",
    "sns.despine(ax = ax, left = True)\n",
    "\n",
    "fig.set_size_inches(2.8, 1.5)\n",
    "\n",
    "plt.savefig(directories['figs'] + 'warping/' + 'raw_gp_samples.svg', dpi = 300)"
   ]
  },
  {
   "cell_type": "code",
   "execution_count": 21,
   "metadata": {},
   "outputs": [
    {
     "data": {
      "image/png": "[encoded data removed]",
      "text/plain": [
       "<Figure size 144x108 with 1 Axes>"
      ]
     },
     "metadata": {},
     "output_type": "display_data"
    }
   ],
   "source": [
    "fig, ax = plt.subplots(1)\n",
    "\n",
    "ax.plot(x_predict, m2_mu, color = 'b', linewidth = 0.5)\n",
    "upper, lower = compute_bounds(m2_mu, m2_sig, n_sigma = 3)\n",
    "ax.fill_between(x_predict, upper[:, 0], lower[:, 0], facecolor = 'b', alpha = 0.33)\n",
    "upper, lower = compute_bounds(m2_mu, m2_sig_outer, n_sigma = 3)\n",
    "ax.fill_between(x_predict, upper[:, 0], lower[:, 0], facecolor = 'b', alpha = 0.16)\n",
    "\n",
    "ax.set_xlim(0, 32)\n",
    "plt.xticks([0, 8, 16, 24, 32])\n",
    "plt.tick_params(axis = 'both', which = 'major', labelsize = 'medium')\n",
    "ax.set_xlabel('Time (s)', fontsize = 10)\n",
    "ax.set_yticklabels([]);\n",
    "ax.get_yaxis().set_visible(False)\n",
    "sns.despine(ax = ax, left = True)\n",
    "ax.set_ylim(-3, 3)\n",
    "\n",
    "fig.set_size_inches(2, 1.5)\n",
    "\n",
    "plt.savefig(directories['figs'] + 'warping/' + 'warped_gp_global.svg', dpi = 300)"
   ]
  },
  {
   "cell_type": "code",
   "execution_count": 22,
   "metadata": {},
   "outputs": [],
   "source": [
    "n_samples = 5\n",
    "mu_post = m2.posterior_samples_f(x_predict_warp[:, None], size = n_samples)"
   ]
  },
  {
   "cell_type": "code",
   "execution_count": 23,
   "metadata": {},
   "outputs": [
    {
     "data": {
      "image/png": "[encoded data removed]",
      "text/plain": [
       "<Figure size 144x108 with 1 Axes>"
      ]
     },
     "metadata": {},
     "output_type": "display_data"
    }
   ],
   "source": [
    "fig, ax = plt.subplots(1)\n",
    "\n",
    "sample_colors = sns.color_palette('hls', n_samples)\n",
    "\n",
    "offset = 0\n",
    "\n",
    "for itx in range(n_samples):\n",
    "    ax.plot(x_predict, mu_post[:, 0, itx] + itx * offset, color = 'b', alpha = 0.5, linewidth = 0.5)\n",
    "    \n",
    "ax.set_xlim(0, 32)\n",
    "plt.xticks([0, 8, 16, 24, 32])\n",
    "plt.tick_params(axis = 'both', which = 'major', labelsize = 'medium')\n",
    "ax.set_xlabel('Time (s)', fontsize = 10)\n",
    "ax.set_yticklabels([]);\n",
    "ax.get_yaxis().set_visible(False)\n",
    "sns.despine(ax = ax, left = True)\n",
    "ax.set_ylim(-3, 3)\n",
    "\n",
    "fig.set_size_inches(2, 1.5)\n",
    "\n",
    "plt.savefig(directories['figs'] + 'warping/' + 'warped_gp_samples.svg', dpi = 300)"
   ]
  },
  {
   "cell_type": "code",
   "execution_count": 24,
   "metadata": {
    "scrolled": true
   },
   "outputs": [
    {
     "data": {
      "image/png": "[encoded data removed]",
      "text/plain": [
       "<Figure size 144x108 with 1 Axes>"
      ]
     },
     "metadata": {},
     "output_type": "display_data"
    }
   ],
   "source": [
    "fig, ax = plt.subplots(1)\n",
    "\n",
    "ax.plot(x_predict, m3_mu, color = 'r', linewidth = 1)\n",
    "upper, lower = compute_bounds(m3_mu, m3_sig, n_sigma = 2)\n",
    "ax.fill_between(x_predict, upper[:, 0], lower[:, 0], facecolor = 'r', alpha = 0.33)\n",
    "upper, lower = compute_bounds(m3_mu, m3_sig_outer, n_sigma = 2)\n",
    "ax.fill_between(x_predict, upper[:, 0], lower[:, 0], facecolor = 'r', alpha = 0.16)\n",
    "\n",
    "ax.set_xlim(0, 32)\n",
    "plt.xticks([0, 8, 16, 24, 32])\n",
    "plt.tick_params(axis = 'both', which = 'major', labelsize = 'medium')\n",
    "ax.set_xlabel('Time (s)', fontsize = 10)\n",
    "ax.set_yticklabels([]);\n",
    "ax.get_yaxis().set_visible(False)\n",
    "sns.despine(ax = ax, left = True)\n",
    "ax.set_ylim(-3, 3)\n",
    "\n",
    "fig.set_size_inches(2, 1.5)\n",
    "\n",
    "plt.savefig(directories['figs'] + 'warping/' + 'warped_gp_local.svg', dpi = 300)"
   ]
  },
  {
   "cell_type": "code",
   "execution_count": 25,
   "metadata": {},
   "outputs": [
    {
     "data": {
      "image/png": "[encoded data removed]",
      "text/plain": [
       "<Figure size 144x108 with 1 Axes>"
      ]
     },
     "metadata": {},
     "output_type": "display_data"
    }
   ],
   "source": [
    "fig, ax = plt.subplots(1)\n",
    "\n",
    "ax.plot(x_predict, m2_mu - m3_mu, color = '#1a9850', linewidth = 0.5)\n",
    "ax.plot(x_predict, np.zeros(x_predict.shape), color = 'k', linewidth = 0.5)\n",
    "\n",
    "upper, lower = compute_bounds(m2_mu - m3_mu, m2_sig + m3_sig, n_sigma = 3)\n",
    "ax.fill_between(x_predict, upper[:, 0], lower[:, 0], facecolor = '#1a9850', alpha = 0.33)\n",
    "\n",
    "diff_mask = (upper < 0) | (lower > 0)\n",
    "\n",
    "# upper, lower = compute_bounds(m2_mu - m3_mu, m2_sig_outer + m3_sig_outer, n_sigma = 3)\n",
    "# ax.fill_between(x_predict, upper[:, 0], lower[:, 0], facecolor = '#1a9850', alpha = 0.16)\n",
    "\n",
    "y_min = - 1\n",
    "\n",
    "ax.fill_between(\n",
    "    x_predict, \n",
    "    np.ones(x_predict.shape) * 2 * y_min, \n",
    "    np.ones(x_predict.shape) * y_min, \n",
    "    where = diff_mask[:, 0], \n",
    "    facecolor = 'k', \n",
    "    alpha = 0.16\n",
    ")\n",
    "\n",
    "ax.set_xlim(0, 32)\n",
    "plt.xticks([0, 8, 16, 24, 32])\n",
    "plt.tick_params(axis = 'both', which = 'major', labelsize = 'medium')\n",
    "ax.set_xlabel('Time (s)', fontsize = 10)\n",
    "ax.set_yticklabels([]);\n",
    "ax.get_yaxis().set_visible(False)\n",
    "sns.despine(ax = ax, left = True)\n",
    "ax.set_ylim(-3, 3)\n",
    "\n",
    "fig.set_size_inches(2, 1.5)\n",
    "\n",
    "plt.savefig(directories['figs'] + 'warping/' + 'diff_gp.svg', dpi = 300)"
   ]
  },
  {
   "cell_type": "code",
   "execution_count": 26,
   "metadata": {},
   "outputs": [],
   "source": [
    "n_sigma = np.linspace(0, 10, 200)\n",
    "\n",
    "n_blob_inner = np.zeros(n_sigma.shape[0])\n",
    "n_blob_outer = np.zeros(n_sigma.shape[0])"
   ]
  },
  {
   "cell_type": "code",
   "execution_count": 27,
   "metadata": {},
   "outputs": [],
   "source": [
    "from scipy.ndimage import label\n",
    "\n",
    "for itx, sigma in enumerate(n_sigma):\n",
    "    # Compute inner EC\n",
    "    upper, lower = compute_bounds(m2_mu - m3_mu, m2_sig + m3_sig, n_sigma = sigma)\n",
    "\n",
    "    diff_mask = (upper < 0) | (lower > 0)\n",
    "    \n",
    "    n_blob_inner[itx] = np.unique(np.hstack(label(diff_mask)[0])).max()"
   ]
  },
  {
   "cell_type": "code",
   "execution_count": 28,
   "metadata": {},
   "outputs": [
    {
     "data": {
      "image/png": "[encoded data removed]",
      "text/plain": [
       "<Figure size 144x100.8 with 1 Axes>"
      ]
     },
     "metadata": {},
     "output_type": "display_data"
    }
   ],
   "source": [
    "sns.set_style('ticks')\n",
    "\n",
    "fig, ax = plt.subplots(1)\n",
    "\n",
    "ax.plot(n_sigma, n_blob_inner, color = 'k', linewidth = 1, clip_on = False)\n",
    "ax.plot(np.ones(240) * 3, np.arange(240), color = 'k', linewidth = 1, linestyle = ':')\n",
    "\n",
    "sigma_mask = n_sigma > 3\n",
    "ax.fill_between(\n",
    "    n_sigma[sigma_mask], \n",
    "    np.zeros(n_sigma[sigma_mask].shape), \n",
    "    n_blob_inner[sigma_mask],\n",
    "    facecolor = 'k', \n",
    "    alpha = 0.66,\n",
    "    clip_on = False\n",
    ")\n",
    "\n",
    "ax.set_xlim(0, 10)\n",
    "ax.set_ylim(0, 240)\n",
    "plt.tick_params(axis='both', which='major', labelsize='medium')\n",
    "ax.set_xlabel('Z-Score Threshold', fontsize = 10)\n",
    "ax.set_ylabel('Euler Characteristic', fontsize = 10)\n",
    "plt.xticks(np.arange(0, 15, 5))\n",
    "plt.yticks(np.arange(0, 280, 40))\n",
    "\n",
    "sns.despine(ax = ax, offset = 10)\n",
    "\n",
    "fig.set_size_inches(2, 1.4)\n",
    "\n",
    "plt.savefig(directories['figs'] + 'warping/' + 'zscore_vs_ec.svg', dpi = 300)"
   ]
  },
  {
   "cell_type": "markdown",
   "metadata": {},
   "source": [
    "Approximate Null-Distribution"
   ]
  },
  {
   "cell_type": "markdown",
   "metadata": {},
   "source": [
    "i. pool all observations\n",
    "\n",
    "ii. randomly assign 300 points from this pool to each of two groups (repeat x times)\n",
    "\n",
    "iii. fit GP each group\n",
    "\n",
    "iv. compute EC for different values of sigma"
   ]
  },
  {
   "cell_type": "code",
   "execution_count": 54,
   "metadata": {
    "scrolled": true
   },
   "outputs": [
    {
     "name": "stderr",
     "output_type": "stream",
     "text": [
      "\n",
      "  0%|          | 0/250 [00:00<?, ?it/s]\u001b[A\n",
      "  0%|          | 1/250 [00:01<07:25,  1.79s/it]\u001b[A\n",
      "  1%|          | 2/250 [00:03<07:16,  1.76s/it]\u001b[A\n",
      "  1%|          | 3/250 [00:05<07:04,  1.72s/it]\u001b[A\n",
      "  2%|▏         | 4/250 [00:06<06:26,  1.57s/it]\u001b[A\n",
      "  2%|▏         | 5/250 [00:07<06:02,  1.48s/it]\u001b[A\n",
      "  2%|▏         | 6/250 [00:09<05:56,  1.46s/it]\u001b[A\n",
      "  3%|▎         | 7/250 [00:10<05:26,  1.35s/it]\u001b[A\n",
      "  3%|▎         | 8/250 [00:11<05:02,  1.25s/it]\u001b[A\n",
      "  4%|▎         | 9/250 [00:12<05:15,  1.31s/it]\u001b[A\n",
      "  4%|▍         | 10/250 [00:13<05:21,  1.34s/it]\u001b[A\n",
      "  4%|▍         | 11/250 [00:15<05:08,  1.29s/it]\u001b[A\n",
      "  5%|▍         | 12/250 [00:16<05:16,  1.33s/it]\u001b[A\n",
      "  5%|▌         | 13/250 [00:17<05:19,  1.35s/it]\u001b[A\n",
      "  6%|▌         | 14/250 [00:19<05:14,  1.33s/it]\u001b[A\n",
      "  6%|▌         | 15/250 [00:20<04:51,  1.24s/it]\u001b[A\n",
      "  6%|▋         | 16/250 [00:21<04:59,  1.28s/it]\u001b[A\n",
      "  7%|▋         | 17/250 [00:22<04:51,  1.25s/it]\u001b[A\n",
      "  7%|▋         | 18/250 [00:24<05:03,  1.31s/it]\u001b[A\n",
      "  8%|▊         | 19/250 [00:25<05:08,  1.34s/it]\u001b[A\n",
      "  8%|▊         | 20/250 [00:26<04:55,  1.29s/it]\u001b[A\n",
      "  8%|▊         | 21/250 [00:28<04:59,  1.31s/it]\u001b[A\n",
      "  9%|▉         | 22/250 [00:29<04:52,  1.28s/it]\u001b[A\n",
      "  9%|▉         | 23/250 [00:30<05:00,  1.33s/it]\u001b[A\n",
      " 10%|▉         | 24/250 [00:32<05:07,  1.36s/it]\u001b[A\n",
      " 10%|█         | 25/250 [00:33<04:59,  1.33s/it]\u001b[A\n",
      " 10%|█         | 26/250 [00:35<05:12,  1.39s/it]\u001b[A\n",
      " 11%|█         | 27/250 [00:36<05:00,  1.35s/it]\u001b[A\n",
      " 11%|█         | 28/250 [00:37<04:56,  1.33s/it]\u001b[A\n",
      " 12%|█▏        | 29/250 [00:38<04:46,  1.30s/it]\u001b[A\n",
      " 12%|█▏        | 30/250 [00:40<04:57,  1.35s/it]\u001b[A\n",
      " 12%|█▏        | 31/250 [00:41<05:01,  1.37s/it]\u001b[A\n",
      " 13%|█▎        | 32/250 [00:43<04:56,  1.36s/it]\u001b[A\n",
      " 13%|█▎        | 33/250 [00:44<04:57,  1.37s/it]\u001b[A\n",
      " 14%|█▎        | 34/250 [00:45<04:57,  1.38s/it]\u001b[A\n",
      " 14%|█▍        | 35/250 [00:47<04:55,  1.37s/it]\u001b[A\n",
      " 14%|█▍        | 36/250 [00:48<04:57,  1.39s/it]\u001b[A\n",
      " 15%|█▍        | 37/250 [00:49<04:31,  1.28s/it]\u001b[A\n",
      " 15%|█▌        | 38/250 [00:50<04:26,  1.26s/it]\u001b[A\n",
      " 16%|█▌        | 39/250 [00:52<04:17,  1.22s/it]\u001b[A\n",
      " 16%|█▌        | 40/250 [00:53<04:10,  1.19s/it]\u001b[A\n",
      " 16%|█▋        | 41/250 [00:54<04:21,  1.25s/it]\u001b[A\n",
      " 17%|█▋        | 42/250 [00:55<04:12,  1.22s/it]\u001b[A\n",
      " 17%|█▋        | 43/250 [00:57<04:28,  1.30s/it]\u001b[A\n",
      " 18%|█▊        | 44/250 [00:58<04:22,  1.27s/it]\u001b[A\n",
      " 18%|█▊        | 45/250 [00:59<04:30,  1.32s/it]\u001b[A\n",
      " 18%|█▊        | 46/250 [01:00<04:11,  1.23s/it]\u001b[A\n",
      " 19%|█▉        | 47/250 [01:02<04:12,  1.25s/it]\u001b[A\n",
      " 19%|█▉        | 48/250 [01:03<04:29,  1.34s/it]\u001b[A\n",
      " 20%|█▉        | 49/250 [01:05<04:38,  1.38s/it]\u001b[A\n",
      " 20%|██        | 50/250 [01:06<04:14,  1.27s/it]\u001b[A\n",
      " 20%|██        | 51/250 [01:07<04:11,  1.27s/it]\u001b[A\n",
      " 21%|██        | 52/250 [01:08<04:06,  1.25s/it]\u001b[A\n",
      " 21%|██        | 53/250 [01:09<04:05,  1.25s/it]\u001b[A\n",
      " 22%|██▏       | 54/250 [01:11<04:15,  1.30s/it]\u001b[A\n",
      " 22%|██▏       | 55/250 [01:12<04:21,  1.34s/it]\u001b[A\n",
      " 22%|██▏       | 56/250 [01:13<03:59,  1.24s/it]\u001b[A\n",
      " 23%|██▎       | 57/250 [01:14<03:56,  1.23s/it]\u001b[A\n",
      " 23%|██▎       | 58/250 [01:16<04:05,  1.28s/it]\u001b[A /usr/local/lib/python3.6/dist-packages/GPy/kern/src/stationary.py:168: RuntimeWarning:overflow encountered in true_divide\n",
      " /usr/local/lib/python3.6/dist-packages/GPy/kern/src/rbf.py:51: RuntimeWarning:overflow encountered in square\n",
      " /usr/local/lib/python3.6/dist-packages/GPy/kern/src/rbf.py:54: RuntimeWarning:invalid value encountered in multiply\n",
      "\n",
      " 24%|██▎       | 59/250 [01:17<04:06,  1.29s/it]\u001b[A\n",
      " 24%|██▍       | 60/250 [01:18<03:58,  1.26s/it]\u001b[A\n",
      " 24%|██▍       | 61/250 [01:20<04:07,  1.31s/it]\u001b[A\n",
      " 25%|██▍       | 62/250 [01:21<03:56,  1.26s/it]\u001b[A\n",
      " 25%|██▌       | 63/250 [01:22<03:50,  1.23s/it]\u001b[A\n",
      " 26%|██▌       | 64/250 [01:23<03:50,  1.24s/it]\u001b[A\n",
      " 26%|██▌       | 65/250 [01:25<03:59,  1.30s/it]\u001b[A\n",
      " 26%|██▋       | 66/250 [01:26<04:07,  1.34s/it]\u001b[A\n",
      " 27%|██▋       | 67/250 [01:27<04:02,  1.32s/it]\u001b[A\n",
      " 27%|██▋       | 68/250 [01:29<03:54,  1.29s/it]\u001b[A\n",
      " 28%|██▊       | 69/250 [01:30<03:49,  1.27s/it]\u001b[A\n",
      " 28%|██▊       | 70/250 [01:31<03:49,  1.27s/it]\u001b[A\n",
      " 28%|██▊       | 71/250 [01:32<03:31,  1.18s/it]\u001b[A\n",
      " 29%|██▉       | 72/250 [01:33<03:28,  1.17s/it]\u001b[A\n",
      " 29%|██▉       | 73/250 [01:35<03:32,  1.20s/it]\u001b[A\n",
      " 30%|██▉       | 74/250 [01:36<03:47,  1.29s/it]\u001b[A\n",
      " 30%|███       | 75/250 [01:37<03:38,  1.25s/it]\u001b[A\n",
      " 30%|███       | 76/250 [01:38<03:25,  1.18s/it]\u001b[A\n",
      " 31%|███       | 77/250 [01:39<03:11,  1.10s/it]\u001b[A\n",
      " 31%|███       | 78/250 [01:40<03:11,  1.11s/it]\u001b[A\n",
      " 32%|███▏      | 79/250 [01:42<03:17,  1.16s/it]\u001b[A\n",
      " 32%|███▏      | 80/250 [01:43<03:20,  1.18s/it]\u001b[A\n",
      " 32%|███▏      | 81/250 [01:44<03:29,  1.24s/it]\u001b[A\n",
      " 33%|███▎      | 82/250 [01:46<03:37,  1.29s/it]\u001b[A\n",
      " 33%|███▎      | 83/250 [01:47<03:18,  1.19s/it]\u001b[A\n",
      " 34%|███▎      | 84/250 [01:48<03:21,  1.21s/it]\u001b[A\n",
      " 34%|███▍      | 85/250 [01:49<03:35,  1.31s/it]\u001b[A\n",
      " 34%|███▍      | 86/250 [01:51<03:41,  1.35s/it]\u001b[A\n",
      " 35%|███▍      | 87/250 [01:52<03:32,  1.31s/it]\u001b[A\n",
      " 35%|███▌      | 88/250 [01:53<03:23,  1.25s/it]\u001b[A\n",
      " 36%|███▌      | 89/250 [01:54<03:09,  1.18s/it]\u001b[A\n",
      " 36%|███▌      | 90/250 [01:56<03:18,  1.24s/it]\u001b[A\n",
      " 36%|███▋      | 91/250 [01:57<03:21,  1.27s/it]\u001b[A\n",
      " 37%|███▋      | 92/250 [01:58<03:25,  1.30s/it]\u001b[A\n",
      " 37%|███▋      | 93/250 [01:59<03:10,  1.22s/it]\u001b[A\n",
      " 38%|███▊      | 94/250 [02:01<03:23,  1.31s/it]\u001b[A\n",
      " 38%|███▊      | 95/250 [02:02<03:26,  1.33s/it]\u001b[A\n",
      " 38%|███▊      | 96/250 [02:03<03:17,  1.28s/it]\u001b[A\n",
      " 39%|███▉      | 97/250 [02:05<03:27,  1.35s/it]\u001b[A\n",
      " 39%|███▉      | 98/250 [02:06<03:29,  1.38s/it]\u001b[A\n",
      " 40%|███▉      | 99/250 [02:07<03:18,  1.32s/it]\u001b[A\n",
      " 40%|████      | 100/250 [02:09<03:08,  1.25s/it]\u001b[A\n",
      " 40%|████      | 101/250 [02:10<03:16,  1.32s/it]\u001b[A\n",
      " 41%|████      | 102/250 [02:11<03:09,  1.28s/it]\u001b[A\n",
      " 41%|████      | 103/250 [02:12<03:04,  1.26s/it]\u001b[A\n",
      " 42%|████▏     | 104/250 [02:13<02:49,  1.16s/it]\u001b[A\n",
      " 42%|████▏     | 105/250 [02:15<02:48,  1.16s/it]\u001b[A\n",
      " 42%|████▏     | 106/250 [02:16<02:55,  1.22s/it]\u001b[A\n",
      " 43%|████▎     | 107/250 [02:17<03:02,  1.28s/it]\u001b[A\n",
      " 43%|████▎     | 108/250 [02:18<02:57,  1.25s/it]\u001b[A\n",
      " 44%|████▎     | 109/250 [02:20<03:02,  1.29s/it]\u001b[A\n",
      " 44%|████▍     | 110/250 [02:21<02:57,  1.27s/it]\u001b[A\n",
      " 44%|████▍     | 111/250 [02:22<02:53,  1.25s/it]\u001b[A\n",
      " 45%|████▍     | 112/250 [02:24<02:51,  1.24s/it]\u001b[A\n",
      " 45%|████▌     | 113/250 [02:25<02:43,  1.19s/it]\u001b[A\n",
      " 46%|████▌     | 114/250 [02:26<02:42,  1.19s/it]\u001b[A\n",
      " 46%|████▌     | 115/250 [02:27<02:40,  1.19s/it]\u001b[A\n",
      " 46%|████▋     | 116/250 [02:28<02:45,  1.23s/it]\u001b[A\n",
      " 47%|████▋     | 117/250 [02:30<02:49,  1.28s/it]\u001b[A\n",
      " 47%|████▋     | 118/250 [02:31<02:39,  1.21s/it]\u001b[A\n",
      " 48%|████▊     | 119/250 [02:32<02:55,  1.34s/it]\u001b[A\n",
      " 48%|████▊     | 120/250 [02:34<02:55,  1.35s/it]\u001b[A\n",
      " 48%|████▊     | 121/250 [02:35<02:50,  1.32s/it]\u001b[A\n",
      " 49%|████▉     | 122/250 [02:36<02:41,  1.26s/it]\u001b[A\n",
      " 49%|████▉     | 123/250 [02:37<02:40,  1.26s/it]\u001b[A\n",
      " 50%|████▉     | 124/250 [02:39<02:36,  1.24s/it]\u001b[A\n",
      " 50%|█████     | 125/250 [02:40<02:37,  1.26s/it]\u001b[A\n",
      " 50%|█████     | 126/250 [02:41<02:41,  1.30s/it]\u001b[A\n",
      " 51%|█████     | 127/250 [02:43<02:36,  1.28s/it]\u001b[A\n",
      " 51%|█████     | 128/250 [02:44<02:29,  1.23s/it]\u001b[A\n",
      " 52%|█████▏    | 129/250 [02:45<02:26,  1.21s/it]\u001b[A\n",
      " 52%|█████▏    | 130/250 [02:46<02:31,  1.26s/it]\u001b[A\n",
      " 52%|█████▏    | 131/250 [02:48<02:36,  1.31s/it]\u001b[A\n",
      " 53%|█████▎    | 132/250 [02:49<02:28,  1.26s/it]\u001b[A\n",
      " 53%|█████▎    | 133/250 [02:50<02:33,  1.31s/it]\u001b[A\n",
      " 54%|█████▎    | 134/250 [02:52<02:34,  1.33s/it]\u001b[A\n",
      " 54%|█████▍    | 135/250 [02:53<02:32,  1.32s/it]\u001b[A\n",
      " 54%|█████▍    | 136/250 [02:54<02:29,  1.31s/it]\u001b[A\n",
      " 55%|█████▍    | 137/250 [02:55<02:27,  1.30s/it]\u001b[A\n",
      " 55%|█████▌    | 138/250 [02:57<02:21,  1.27s/it]\u001b[A\n",
      " 56%|█████▌    | 139/250 [02:58<02:23,  1.29s/it]\u001b[A\n",
      " 56%|█████▌    | 140/250 [02:59<02:15,  1.23s/it]\u001b[A\n",
      " 56%|█████▋    | 141/250 [03:00<02:10,  1.20s/it]\u001b[A\n",
      " 57%|█████▋    | 142/250 [03:01<02:05,  1.16s/it]\u001b[A\n",
      " 57%|█████▋    | 143/250 [03:02<02:02,  1.14s/it]\u001b[A\n",
      " 58%|█████▊    | 144/250 [03:04<02:02,  1.15s/it]\u001b[A\n",
      " 58%|█████▊    | 145/250 [03:05<02:04,  1.19s/it]\u001b[A\n",
      " 58%|█████▊    | 146/250 [03:06<02:03,  1.19s/it]\u001b[A\n",
      " 59%|█████▉    | 147/250 [03:07<02:06,  1.23s/it]\u001b[A\n",
      " 59%|█████▉    | 148/250 [03:09<02:05,  1.23s/it]\u001b[A\n",
      " 60%|█████▉    | 149/250 [03:10<01:57,  1.17s/it]\u001b[A\n"
     ]
    },
    {
     "name": "stderr",
     "output_type": "stream",
     "text": [
      " 60%|██████    | 150/250 [03:11<01:58,  1.19s/it]\u001b[A\n",
      " 60%|██████    | 151/250 [03:12<02:04,  1.26s/it]\u001b[A\n",
      " 61%|██████    | 152/250 [03:13<01:59,  1.22s/it]\u001b[A\n",
      " 61%|██████    | 153/250 [03:15<02:03,  1.27s/it]\u001b[A\n",
      " 62%|██████▏   | 154/250 [03:16<02:00,  1.25s/it]\u001b[A\n",
      " 62%|██████▏   | 155/250 [03:17<02:00,  1.27s/it]\u001b[A\n",
      " 62%|██████▏   | 156/250 [03:18<01:56,  1.24s/it]\u001b[A\n",
      " 63%|██████▎   | 157/250 [03:20<01:53,  1.22s/it]\u001b[A\n",
      " 63%|██████▎   | 158/250 [03:21<01:54,  1.25s/it]\u001b[A\n",
      " 64%|██████▎   | 159/250 [03:22<01:51,  1.23s/it]\u001b[A\n",
      " 64%|██████▍   | 160/250 [03:24<02:04,  1.38s/it]\u001b[A\n",
      " 64%|██████▍   | 161/250 [03:26<02:12,  1.48s/it]\u001b[A\n",
      " 65%|██████▍   | 162/250 [03:27<02:10,  1.48s/it]\u001b[A\n",
      " 65%|██████▌   | 163/250 [03:29<02:13,  1.54s/it]\u001b[A\n",
      " 66%|██████▌   | 164/250 [03:30<02:07,  1.48s/it]\u001b[A\n",
      " 66%|██████▌   | 165/250 [03:31<02:00,  1.42s/it]\u001b[A\n",
      " 66%|██████▋   | 166/250 [03:34<02:37,  1.87s/it]\u001b[A\n",
      " 67%|██████▋   | 167/250 [03:37<02:53,  2.09s/it]\u001b[A\n",
      " 67%|██████▋   | 168/250 [03:39<02:57,  2.17s/it]\u001b[A\n",
      " 68%|██████▊   | 169/250 [03:42<03:18,  2.45s/it]\u001b[A\n",
      " 68%|██████▊   | 170/250 [03:45<03:19,  2.49s/it]\u001b[A\n",
      " 68%|██████▊   | 171/250 [03:48<03:21,  2.55s/it]\u001b[A\n",
      " 69%|██████▉   | 172/250 [03:51<03:28,  2.67s/it]\u001b[A\n",
      " 69%|██████▉   | 173/250 [03:52<02:58,  2.31s/it]\u001b[A\n",
      " 70%|██████▉   | 174/250 [03:55<03:00,  2.37s/it]\u001b[A\n",
      " 70%|███████   | 175/250 [03:57<03:01,  2.42s/it]\u001b[A\n",
      " 70%|███████   | 176/250 [04:00<03:05,  2.50s/it]\u001b[A\n",
      " 71%|███████   | 177/250 [04:02<02:50,  2.34s/it]\u001b[A\n",
      " 71%|███████   | 178/250 [04:04<02:56,  2.45s/it]\u001b[A\n",
      " 72%|███████▏  | 179/250 [04:07<02:51,  2.41s/it]\u001b[A\n",
      " 72%|███████▏  | 180/250 [04:10<03:07,  2.68s/it]\u001b[A\n",
      " 72%|███████▏  | 181/250 [04:14<03:26,  3.00s/it]\u001b[A\n",
      " 73%|███████▎  | 182/250 [04:18<03:39,  3.23s/it]\u001b[A\n",
      " 73%|███████▎  | 183/250 [04:21<03:44,  3.35s/it]\u001b[A\n",
      " 74%|███████▎  | 184/250 [04:25<03:44,  3.40s/it]\u001b[A\n",
      " 74%|███████▍  | 185/250 [04:28<03:30,  3.24s/it]\u001b[A\n",
      " 74%|███████▍  | 186/250 [04:30<03:17,  3.08s/it]\u001b[A\n",
      " 75%|███████▍  | 187/250 [04:33<03:14,  3.08s/it]\u001b[A\n",
      " 75%|███████▌  | 188/250 [04:37<03:16,  3.17s/it]\u001b[A\n",
      " 76%|███████▌  | 189/250 [04:39<03:05,  3.04s/it]\u001b[A\n",
      " 76%|███████▌  | 190/250 [04:42<02:54,  2.91s/it]\u001b[A\n",
      " 76%|███████▋  | 191/250 [04:46<03:02,  3.09s/it]\u001b[A\n",
      " 77%|███████▋  | 192/250 [04:48<02:51,  2.95s/it]\u001b[A\n",
      " 77%|███████▋  | 193/250 [04:51<02:47,  2.93s/it]\u001b[A\n",
      " 78%|███████▊  | 194/250 [04:54<02:41,  2.88s/it]\u001b[A\n",
      " 78%|███████▊  | 195/250 [04:56<02:31,  2.76s/it]\u001b[A\n",
      " 78%|███████▊  | 196/250 [04:59<02:32,  2.83s/it]\u001b[A\n",
      " 79%|███████▉  | 197/250 [05:02<02:32,  2.87s/it]\u001b[A\n",
      " 79%|███████▉  | 198/250 [05:06<02:39,  3.07s/it]\u001b[A\n",
      " 80%|███████▉  | 199/250 [05:09<02:42,  3.18s/it]\u001b[A\n",
      " 80%|████████  | 200/250 [05:13<02:40,  3.21s/it]\u001b[A\n",
      " 80%|████████  | 201/250 [05:15<02:23,  2.93s/it]\u001b[A\n",
      " 81%|████████  | 202/250 [05:17<02:08,  2.68s/it]\u001b[A\n",
      " 81%|████████  | 203/250 [05:20<02:12,  2.82s/it]\u001b[A\n",
      " 82%|████████▏ | 204/250 [05:22<02:04,  2.70s/it]\u001b[A\n",
      " 82%|████████▏ | 205/250 [05:25<01:58,  2.63s/it]\u001b[A\n",
      " 82%|████████▏ | 206/250 [05:28<01:59,  2.71s/it]\u001b[A\n",
      " 83%|████████▎ | 207/250 [05:30<01:45,  2.46s/it]\u001b[A\n",
      " 83%|████████▎ | 208/250 [05:32<01:41,  2.42s/it]\u001b[A\n",
      " 84%|████████▎ | 209/250 [05:35<01:47,  2.63s/it]\u001b[A\n",
      " 84%|████████▍ | 210/250 [05:37<01:36,  2.41s/it]\u001b[A\n",
      " 84%|████████▍ | 211/250 [05:40<01:34,  2.41s/it]\u001b[A\n",
      " 85%|████████▍ | 212/250 [05:42<01:34,  2.48s/it]\u001b[A\n",
      " 85%|████████▌ | 213/250 [05:45<01:35,  2.59s/it]\u001b[A\n",
      " 86%|████████▌ | 214/250 [05:47<01:30,  2.50s/it]\u001b[A\n",
      " 86%|████████▌ | 215/250 [05:51<01:37,  2.78s/it]\u001b[A\n",
      " 86%|████████▋ | 216/250 [05:53<01:32,  2.71s/it]\u001b[A\n",
      " 87%|████████▋ | 217/250 [05:56<01:26,  2.62s/it]\u001b[A\n",
      " 87%|████████▋ | 218/250 [05:58<01:25,  2.66s/it]\u001b[A\n",
      " 88%|████████▊ | 219/250 [06:01<01:21,  2.64s/it]\u001b[A\n",
      " 88%|████████▊ | 220/250 [06:04<01:19,  2.66s/it]\u001b[A\n",
      " 88%|████████▊ | 221/250 [06:07<01:21,  2.81s/it]\u001b[A\n",
      " 89%|████████▉ | 222/250 [06:10<01:22,  2.96s/it]\u001b[A\n",
      " 89%|████████▉ | 223/250 [06:13<01:15,  2.80s/it]\u001b[A\n",
      " 90%|████████▉ | 224/250 [06:16<01:18,  3.03s/it]\u001b[A\n",
      " 90%|█████████ | 225/250 [06:20<01:19,  3.19s/it]\u001b[A\n",
      " 90%|█████████ | 226/250 [06:23<01:14,  3.10s/it]\u001b[A\n",
      " 91%|█████████ | 227/250 [06:26<01:11,  3.11s/it]\u001b[A\n",
      " 91%|█████████ | 228/250 [06:28<01:02,  2.84s/it]\u001b[A\n",
      " 92%|█████████▏| 229/250 [06:31<01:02,  2.96s/it]\u001b[A\n",
      " 92%|█████████▏| 230/250 [06:34<00:57,  2.90s/it]\u001b[A\n",
      " 92%|█████████▏| 231/250 [06:37<00:54,  2.88s/it]\u001b[A\n",
      " 93%|█████████▎| 232/250 [06:39<00:45,  2.53s/it]\u001b[A\n",
      " 93%|█████████▎| 233/250 [06:41<00:42,  2.50s/it]\u001b[A\n",
      " 94%|█████████▎| 234/250 [06:43<00:39,  2.49s/it]\u001b[A\n",
      " 94%|█████████▍| 235/250 [06:47<00:40,  2.69s/it]\u001b[A\n",
      " 94%|█████████▍| 236/250 [06:49<00:36,  2.63s/it]\u001b[A\n",
      " 95%|█████████▍| 237/250 [06:51<00:31,  2.46s/it]\u001b[A\n",
      " 95%|█████████▌| 238/250 [06:53<00:29,  2.44s/it]\u001b[A\n",
      " 96%|█████████▌| 239/250 [06:56<00:27,  2.48s/it]\u001b[A\n",
      " 96%|█████████▌| 240/250 [06:59<00:26,  2.61s/it]\u001b[A\n",
      " 96%|█████████▋| 241/250 [07:01<00:23,  2.56s/it]\u001b[A\n",
      " 97%|█████████▋| 242/250 [07:03<00:18,  2.27s/it]\u001b[A\n",
      " 97%|█████████▋| 243/250 [07:06<00:16,  2.41s/it]\u001b[A\n",
      " 98%|█████████▊| 244/250 [07:09<00:15,  2.61s/it]\u001b[A\n",
      " 98%|█████████▊| 245/250 [07:12<00:13,  2.68s/it]\u001b[A\n",
      " 98%|█████████▊| 246/250 [07:15<00:11,  2.79s/it]\u001b[A\n",
      " 99%|█████████▉| 247/250 [07:17<00:08,  2.69s/it]\u001b[A\n",
      " 99%|█████████▉| 248/250 [07:20<00:05,  2.66s/it]\u001b[A\n",
      "100%|█████████▉| 249/250 [07:22<00:02,  2.66s/it]\u001b[A\n",
      "100%|██████████| 250/250 [07:25<00:00,  2.64s/it]\u001b[A\n",
      "  0%|          | 0/250 [00:00<?, ?it/s]\u001b[A\n",
      "  0%|          | 1/250 [00:01<06:51,  1.65s/it]\u001b[A\n",
      "  1%|          | 2/250 [00:03<07:13,  1.75s/it]\u001b[A\n",
      "  1%|          | 3/250 [00:05<07:31,  1.83s/it]\u001b[A\n",
      "  2%|▏         | 4/250 [00:07<07:37,  1.86s/it]\u001b[A\n",
      "  2%|▏         | 5/250 [00:09<07:43,  1.89s/it]\u001b[A\n",
      "  2%|▏         | 6/250 [00:11<08:02,  1.98s/it]\u001b[A\n",
      "  3%|▎         | 7/250 [00:13<08:16,  2.04s/it]\u001b[A\n",
      "  3%|▎         | 8/250 [00:16<08:19,  2.06s/it]\u001b[A\n",
      "  4%|▎         | 9/250 [00:18<08:16,  2.06s/it]\u001b[A\n",
      "  4%|▍         | 10/250 [00:20<08:09,  2.04s/it]\u001b[A\n",
      "  4%|▍         | 11/250 [00:22<08:08,  2.04s/it]\u001b[A\n",
      "  5%|▍         | 12/250 [00:24<08:01,  2.02s/it]\u001b[A\n",
      "  5%|▌         | 13/250 [00:26<07:59,  2.02s/it]\u001b[A\n",
      "  6%|▌         | 14/250 [00:28<07:55,  2.01s/it]\u001b[A\n",
      "  6%|▌         | 15/250 [00:29<07:44,  1.98s/it]\u001b[A\n",
      "  6%|▋         | 16/250 [00:32<07:46,  1.99s/it]\u001b[A\n",
      "  7%|▋         | 17/250 [00:34<07:46,  2.00s/it]\u001b[A\n",
      "  7%|▋         | 18/250 [00:36<07:51,  2.03s/it]\u001b[A\n",
      "  8%|▊         | 19/250 [00:38<07:51,  2.04s/it]\u001b[A\n",
      "  8%|▊         | 20/250 [00:40<08:00,  2.09s/it]\u001b[A\n",
      "  8%|▊         | 21/250 [00:42<08:10,  2.14s/it]\u001b[A\n",
      "  9%|▉         | 22/250 [00:44<08:14,  2.17s/it]\u001b[A\n",
      "  9%|▉         | 23/250 [00:46<07:59,  2.11s/it]\u001b[A\n",
      " 10%|▉         | 24/250 [00:48<07:55,  2.10s/it]\u001b[A\n",
      " 10%|█         | 25/250 [00:51<07:52,  2.10s/it]\u001b[A\n",
      " 10%|█         | 26/250 [00:52<07:34,  2.03s/it]\u001b[A\n",
      " 11%|█         | 27/250 [00:55<07:39,  2.06s/it]\u001b[A\n",
      " 11%|█         | 28/250 [00:56<07:25,  2.01s/it]\u001b[A\n",
      " 12%|█▏        | 29/250 [00:59<07:30,  2.04s/it]\u001b[A\n",
      " 12%|█▏        | 30/250 [01:01<07:30,  2.05s/it]\u001b[A\n",
      " 12%|█▏        | 31/250 [01:03<07:28,  2.05s/it]\u001b[A\n",
      " 13%|█▎        | 32/250 [01:05<07:26,  2.05s/it]\u001b[A\n",
      " 13%|█▎        | 33/250 [01:07<07:27,  2.06s/it]\u001b[A\n",
      " 14%|█▎        | 34/250 [01:09<07:24,  2.06s/it]\u001b[A\n",
      " 14%|█▍        | 35/250 [01:11<07:21,  2.05s/it]\u001b[A\n",
      " 14%|█▍        | 36/250 [01:13<07:19,  2.06s/it]\u001b[A\n",
      " 15%|█▍        | 37/250 [01:15<07:11,  2.02s/it]\u001b[A\n",
      " 15%|█▌        | 38/250 [01:17<07:12,  2.04s/it]\u001b[A\n",
      " 16%|█▌        | 39/250 [01:19<07:09,  2.03s/it]\u001b[A\n",
      " 16%|█▌        | 40/250 [01:21<07:16,  2.08s/it]\u001b[A\n",
      " 16%|█▋        | 41/250 [01:23<07:16,  2.09s/it]\u001b[A\n",
      " 17%|█▋        | 42/250 [01:25<07:10,  2.07s/it]\u001b[A\n",
      " 17%|█▋        | 43/250 [01:27<07:01,  2.04s/it]\u001b[A\n",
      " 18%|█▊        | 44/250 [01:29<06:55,  2.02s/it]\u001b[A\n",
      " 18%|█▊        | 45/250 [01:31<06:37,  1.94s/it]\u001b[A\n",
      " 18%|█▊        | 46/250 [01:33<06:32,  1.92s/it]\u001b[A\n",
      " 19%|█▉        | 47/250 [01:35<06:27,  1.91s/it]\u001b[A\n",
      " 19%|█▉        | 48/250 [01:37<06:28,  1.92s/it]\u001b[A\n",
      " 20%|█▉        | 49/250 [01:39<06:40,  1.99s/it]\u001b[A\n",
      " 20%|██        | 50/250 [01:41<06:48,  2.04s/it]\u001b[A\n",
      " 20%|██        | 51/250 [01:43<06:50,  2.06s/it]\u001b[A\n",
      " 21%|██        | 52/250 [01:45<06:13,  1.89s/it]\u001b[A\n",
      " 21%|██        | 53/250 [01:47<06:23,  1.94s/it]\u001b[A\n"
     ]
    },
    {
     "name": "stderr",
     "output_type": "stream",
     "text": [
      " 22%|██▏       | 54/250 [01:49<07:00,  2.15s/it]\u001b[A\n",
      " 22%|██▏       | 55/250 [01:51<06:51,  2.11s/it]\u001b[A\n",
      " 22%|██▏       | 56/250 [01:53<06:46,  2.09s/it]\u001b[A\n",
      " 23%|██▎       | 57/250 [01:55<06:41,  2.08s/it]\u001b[A\n",
      " 23%|██▎       | 58/250 [01:58<06:56,  2.17s/it]\u001b[A\n",
      " 24%|██▎       | 59/250 [02:00<06:42,  2.11s/it]\u001b[A\n",
      " 24%|██▍       | 60/250 [02:02<06:43,  2.12s/it]\u001b[A\n",
      " 24%|██▍       | 61/250 [02:04<06:40,  2.12s/it]\u001b[A\n",
      " 25%|██▍       | 62/250 [02:06<06:34,  2.10s/it]\u001b[A\n",
      " 25%|██▌       | 63/250 [02:08<06:24,  2.06s/it]\u001b[A\n",
      " 26%|██▌       | 64/250 [02:10<06:29,  2.09s/it]\u001b[A\n",
      " 26%|██▌       | 65/250 [02:12<06:22,  2.07s/it]\u001b[A\n",
      " 26%|██▋       | 66/250 [02:14<06:24,  2.09s/it]\u001b[A\n",
      " 27%|██▋       | 67/250 [02:17<06:32,  2.14s/it]\u001b[A\n",
      " 27%|██▋       | 68/250 [02:19<06:21,  2.10s/it]\u001b[A\n",
      " 28%|██▊       | 69/250 [02:21<06:14,  2.07s/it]\u001b[A\n",
      " 28%|██▊       | 70/250 [02:23<06:08,  2.05s/it]\u001b[A\n",
      " 28%|██▊       | 71/250 [02:25<06:04,  2.04s/it]\u001b[A\n",
      " 29%|██▉       | 72/250 [02:27<05:59,  2.02s/it]\u001b[A\n",
      " 29%|██▉       | 73/250 [02:29<05:57,  2.02s/it]\u001b[A\n",
      " 30%|██▉       | 74/250 [02:31<05:53,  2.01s/it]\u001b[A\n",
      " 30%|███       | 75/250 [02:33<05:53,  2.02s/it]\u001b[A\n",
      " 30%|███       | 76/250 [02:35<05:58,  2.06s/it]\u001b[A\n",
      " 31%|███       | 77/250 [02:37<05:55,  2.05s/it]\u001b[A\n",
      " 31%|███       | 78/250 [02:39<05:52,  2.05s/it]\u001b[A\n",
      " 32%|███▏      | 79/250 [02:41<05:48,  2.04s/it]\u001b[A\n",
      " 32%|███▏      | 80/250 [02:43<05:44,  2.02s/it]\u001b[A\n",
      " 32%|███▏      | 81/250 [02:45<05:41,  2.02s/it]\u001b[A\n",
      " 33%|███▎      | 82/250 [02:47<05:38,  2.01s/it]\u001b[A\n",
      " 33%|███▎      | 83/250 [02:49<05:35,  2.01s/it]\u001b[A\n",
      " 34%|███▎      | 84/250 [02:51<05:32,  2.01s/it]\u001b[A\n",
      " 34%|███▍      | 85/250 [02:53<05:29,  2.00s/it]\u001b[A\n",
      " 34%|███▍      | 86/250 [02:55<05:26,  1.99s/it]\u001b[A\n",
      " 35%|███▍      | 87/250 [02:57<05:24,  1.99s/it]\u001b[A\n",
      " 35%|███▌      | 88/250 [02:59<05:26,  2.01s/it]\u001b[A\n",
      " 36%|███▌      | 89/250 [03:01<05:24,  2.02s/it]\u001b[A\n",
      " 36%|███▌      | 90/250 [03:03<05:28,  2.05s/it]\u001b[A\n",
      " 36%|███▋      | 91/250 [03:05<05:22,  2.03s/it]\u001b[A\n",
      " 37%|███▋      | 92/250 [03:07<05:18,  2.01s/it]\u001b[A\n",
      " 37%|███▋      | 93/250 [03:09<05:17,  2.02s/it]\u001b[A\n",
      " 38%|███▊      | 94/250 [03:11<05:14,  2.02s/it]\u001b[A\n",
      " 38%|███▊      | 95/250 [03:13<05:12,  2.02s/it]\u001b[A\n",
      " 38%|███▊      | 96/250 [03:15<05:12,  2.03s/it]\u001b[A\n",
      " 39%|███▉      | 97/250 [03:17<05:15,  2.06s/it]\u001b[A\n",
      " 39%|███▉      | 98/250 [03:19<05:11,  2.05s/it]\u001b[A\n",
      " 40%|███▉      | 99/250 [03:21<05:06,  2.03s/it]\u001b[A\n",
      " 40%|████      | 100/250 [03:23<05:06,  2.04s/it]\u001b[A\n",
      " 40%|████      | 101/250 [03:25<05:01,  2.02s/it]\u001b[A\n",
      " 41%|████      | 102/250 [03:27<04:57,  2.01s/it]\u001b[A\n",
      " 41%|████      | 103/250 [03:29<04:54,  2.00s/it]\u001b[A\n",
      " 42%|████▏     | 104/250 [03:31<04:51,  2.00s/it]\u001b[A\n",
      " 42%|████▏     | 105/250 [03:33<04:50,  2.00s/it]\u001b[A\n",
      " 42%|████▏     | 106/250 [03:35<04:48,  2.00s/it]\u001b[A\n",
      " 43%|████▎     | 107/250 [03:37<04:46,  2.00s/it]\u001b[A\n",
      " 43%|████▎     | 108/250 [03:39<04:49,  2.04s/it]\u001b[A\n",
      " 44%|████▎     | 109/250 [03:42<04:47,  2.04s/it]\u001b[A\n",
      " 44%|████▍     | 110/250 [03:44<04:47,  2.05s/it]\u001b[A\n",
      " 44%|████▍     | 111/250 [03:46<04:44,  2.05s/it]\u001b[A\n",
      " 45%|████▍     | 112/250 [03:48<04:45,  2.07s/it]\u001b[A\n",
      " 45%|████▌     | 113/250 [03:50<04:43,  2.07s/it]\u001b[A\n",
      " 46%|████▌     | 114/250 [03:52<04:37,  2.04s/it]\u001b[A\n",
      " 46%|████▌     | 115/250 [03:54<04:33,  2.03s/it]\u001b[A\n",
      " 46%|████▋     | 116/250 [03:56<04:29,  2.01s/it]\u001b[A\n",
      " 47%|████▋     | 117/250 [03:58<04:26,  2.01s/it]\u001b[A\n",
      " 47%|████▋     | 118/250 [04:00<04:23,  2.00s/it]\u001b[A\n",
      " 48%|████▊     | 119/250 [04:02<04:21,  2.00s/it]\u001b[A\n",
      " 48%|████▊     | 120/250 [04:04<04:23,  2.03s/it]\u001b[A\n",
      " 48%|████▊     | 121/250 [04:06<04:27,  2.08s/it]\u001b[A\n",
      " 49%|████▉     | 122/250 [04:08<04:22,  2.05s/it]\u001b[A\n",
      " 49%|████▉     | 123/250 [04:10<04:17,  2.03s/it]\u001b[A\n",
      " 50%|████▉     | 124/250 [04:12<04:13,  2.01s/it]\u001b[A\n",
      " 50%|█████     | 125/250 [04:14<04:11,  2.01s/it]\u001b[A\n",
      " 50%|█████     | 126/250 [04:16<04:11,  2.03s/it]\u001b[A\n",
      " 51%|█████     | 127/250 [04:18<04:11,  2.04s/it]\u001b[A\n",
      " 51%|█████     | 128/250 [04:20<04:05,  2.01s/it]\u001b[A\n",
      " 52%|█████▏    | 129/250 [04:22<04:09,  2.06s/it]\u001b[A\n",
      " 52%|█████▏    | 130/250 [04:24<04:04,  2.04s/it]\u001b[A\n",
      " 52%|█████▏    | 131/250 [04:26<04:02,  2.04s/it]\u001b[A\n",
      " 53%|█████▎    | 132/250 [04:28<04:03,  2.06s/it]\u001b[A\n",
      " 53%|█████▎    | 133/250 [04:31<04:07,  2.12s/it]\u001b[A\n",
      " 54%|█████▎    | 134/250 [04:33<04:06,  2.12s/it]\u001b[A\n",
      " 54%|█████▍    | 135/250 [04:35<04:02,  2.11s/it]\u001b[A\n",
      " 54%|█████▍    | 136/250 [04:37<03:59,  2.10s/it]\u001b[A\n",
      " 55%|█████▍    | 137/250 [04:39<03:59,  2.12s/it]\u001b[A\n",
      " 55%|█████▌    | 138/250 [04:41<04:00,  2.15s/it]\u001b[A\n",
      " 56%|█████▌    | 139/250 [04:43<03:58,  2.15s/it]\u001b[A\n",
      " 56%|█████▌    | 140/250 [04:46<03:54,  2.13s/it]\u001b[A\n",
      " 56%|█████▋    | 141/250 [04:48<03:48,  2.09s/it]\u001b[A\n",
      " 57%|█████▋    | 142/250 [04:50<03:43,  2.07s/it]\u001b[A\n",
      " 57%|█████▋    | 143/250 [04:52<03:39,  2.05s/it]\u001b[A\n",
      " 58%|█████▊    | 144/250 [04:54<03:36,  2.04s/it]\u001b[A\n",
      " 58%|█████▊    | 145/250 [04:56<03:33,  2.03s/it]\u001b[A\n",
      " 58%|█████▊    | 146/250 [04:58<03:30,  2.02s/it]\u001b[A\n",
      " 59%|█████▉    | 147/250 [05:00<03:27,  2.02s/it]\u001b[A\n",
      " 59%|█████▉    | 148/250 [05:02<03:24,  2.01s/it]\u001b[A\n",
      " 60%|█████▉    | 149/250 [05:04<03:21,  2.00s/it]\u001b[A\n",
      " 60%|██████    | 150/250 [05:06<03:20,  2.01s/it]\u001b[A\n",
      " 60%|██████    | 151/250 [05:08<03:17,  2.00s/it]\u001b[A\n",
      " 61%|██████    | 152/250 [05:10<03:16,  2.00s/it]\u001b[A\n",
      " 61%|██████    | 153/250 [05:12<03:13,  1.99s/it]\u001b[A\n",
      " 62%|██████▏   | 154/250 [05:14<03:10,  1.99s/it]\u001b[A\n",
      " 62%|██████▏   | 155/250 [05:16<03:08,  1.98s/it]\u001b[A\n",
      " 62%|██████▏   | 156/250 [05:17<03:06,  1.98s/it]\u001b[A\n",
      " 63%|██████▎   | 157/250 [05:19<03:04,  1.98s/it]\u001b[A\n",
      " 63%|██████▎   | 158/250 [05:21<03:01,  1.98s/it]\u001b[A\n",
      " 64%|██████▎   | 159/250 [05:23<02:59,  1.98s/it]\u001b[A\n",
      " 64%|██████▍   | 160/250 [05:25<02:58,  1.98s/it]\u001b[A\n",
      " 64%|██████▍   | 161/250 [05:27<02:56,  1.98s/it]\u001b[A\n",
      " 65%|██████▍   | 162/250 [05:29<02:54,  1.99s/it]\u001b[A\n",
      " 65%|██████▌   | 163/250 [05:31<02:52,  1.98s/it]\u001b[A\n",
      " 66%|██████▌   | 164/250 [05:34<03:08,  2.19s/it]\u001b[A\n",
      " 66%|██████▌   | 165/250 [05:38<03:52,  2.74s/it]\u001b[A\n",
      " 66%|██████▋   | 166/250 [05:43<04:39,  3.33s/it]\u001b[A\n",
      " 67%|██████▋   | 167/250 [05:47<04:51,  3.51s/it]\u001b[A\n",
      " 67%|██████▋   | 168/250 [05:51<04:57,  3.62s/it]\u001b[A\n",
      " 68%|██████▊   | 169/250 [05:54<04:59,  3.70s/it]\u001b[A\n",
      " 68%|██████▊   | 170/250 [05:58<05:00,  3.76s/it]\u001b[A\n",
      " 68%|██████▊   | 171/250 [06:02<04:59,  3.80s/it]\u001b[A\n",
      " 69%|██████▉   | 172/250 [06:06<04:58,  3.83s/it]\u001b[A\n",
      " 69%|██████▉   | 173/250 [06:10<04:56,  3.85s/it]\u001b[A\n",
      " 70%|██████▉   | 174/250 [06:14<04:54,  3.87s/it]\u001b[A\n",
      " 70%|███████   | 175/250 [06:18<04:53,  3.91s/it]\u001b[A\n",
      " 70%|███████   | 176/250 [06:22<04:49,  3.91s/it]\u001b[A\n",
      " 71%|███████   | 177/250 [06:26<04:45,  3.92s/it]\u001b[A\n",
      " 71%|███████   | 178/250 [06:30<04:45,  3.97s/it]\u001b[A\n",
      " 72%|███████▏  | 179/250 [06:34<04:41,  3.97s/it]\u001b[A\n",
      " 72%|███████▏  | 180/250 [06:38<04:37,  3.97s/it]\u001b[A\n",
      " 72%|███████▏  | 181/250 [06:42<04:40,  4.06s/it]\u001b[A\n",
      " 73%|███████▎  | 182/250 [06:46<04:36,  4.06s/it]\u001b[A\n",
      " 73%|███████▎  | 183/250 [06:50<04:31,  4.05s/it]\u001b[A\n",
      " 74%|███████▎  | 184/250 [06:54<04:23,  3.99s/it]\u001b[A\n",
      " 74%|███████▍  | 185/250 [06:57<04:03,  3.74s/it]\u001b[A\n",
      " 74%|███████▍  | 186/250 [07:01<04:07,  3.87s/it]\u001b[A\n",
      " 75%|███████▍  | 187/250 [07:05<04:04,  3.89s/it]\u001b[A\n",
      " 75%|███████▌  | 188/250 [07:09<04:04,  3.94s/it]\u001b[A\n",
      " 76%|███████▌  | 189/250 [07:13<04:01,  3.95s/it]\u001b[A\n",
      " 76%|███████▌  | 190/250 [07:17<03:56,  3.94s/it]\u001b[A\n",
      " 76%|███████▋  | 191/250 [07:21<03:53,  3.95s/it]\u001b[A\n",
      " 77%|███████▋  | 192/250 [07:24<03:23,  3.50s/it]\u001b[A\n",
      " 77%|███████▋  | 193/250 [07:26<02:53,  3.05s/it]\u001b[A\n",
      " 78%|███████▊  | 194/250 [07:28<02:33,  2.74s/it]\u001b[A\n",
      " 78%|███████▊  | 195/250 [07:30<02:18,  2.51s/it]\u001b[A\n",
      " 78%|███████▊  | 196/250 [07:32<02:06,  2.35s/it]\u001b[A\n",
      " 79%|███████▉  | 197/250 [07:34<01:58,  2.24s/it]\u001b[A\n",
      " 79%|███████▉  | 198/250 [07:36<01:54,  2.20s/it]\u001b[A\n",
      " 80%|███████▉  | 199/250 [07:38<01:48,  2.13s/it]\u001b[A\n",
      " 80%|████████  | 200/250 [07:40<01:44,  2.09s/it]\u001b[A\n",
      " 80%|████████  | 201/250 [07:42<01:40,  2.06s/it]\u001b[A\n",
      " 81%|████████  | 202/250 [07:44<01:37,  2.04s/it]\u001b[A\n",
      " 81%|████████  | 203/250 [07:46<01:35,  2.03s/it]\u001b[A\n",
      " 82%|████████▏ | 204/250 [07:48<01:34,  2.06s/it]\u001b[A\n",
      " 82%|████████▏ | 205/250 [07:50<01:31,  2.04s/it]\u001b[A\n",
      " 82%|████████▏ | 206/250 [07:52<01:31,  2.08s/it]\u001b[A\n",
      " 83%|████████▎ | 207/250 [07:54<01:28,  2.07s/it]\u001b[A\n",
      " 83%|████████▎ | 208/250 [07:56<01:27,  2.09s/it]\u001b[A\n"
     ]
    },
    {
     "name": "stderr",
     "output_type": "stream",
     "text": [
      " 84%|████████▎ | 209/250 [07:58<01:28,  2.16s/it]\u001b[A\n",
      " 84%|████████▍ | 210/250 [08:01<01:24,  2.12s/it]\u001b[A\n",
      " 84%|████████▍ | 211/250 [08:03<01:26,  2.21s/it]\u001b[A\n",
      " 85%|████████▍ | 212/250 [08:05<01:23,  2.20s/it]\u001b[A\n",
      " 85%|████████▌ | 213/250 [08:07<01:20,  2.18s/it]\u001b[A\n",
      " 86%|████████▌ | 214/250 [08:09<01:17,  2.16s/it]\u001b[A\n",
      " 86%|████████▌ | 215/250 [08:12<01:19,  2.26s/it]\u001b[A\n",
      " 86%|████████▋ | 216/250 [08:14<01:15,  2.21s/it]\u001b[A\n",
      " 87%|████████▋ | 217/250 [08:16<01:12,  2.20s/it]\u001b[A\n",
      " 87%|████████▋ | 218/250 [08:18<01:10,  2.21s/it]\u001b[A\n",
      " 88%|████████▊ | 219/250 [08:20<01:07,  2.19s/it]\u001b[A\n",
      " 88%|████████▊ | 220/250 [08:23<01:04,  2.14s/it]\u001b[A\n",
      " 88%|████████▊ | 221/250 [08:25<01:01,  2.10s/it]\u001b[A\n",
      " 89%|████████▉ | 222/250 [08:26<00:57,  2.06s/it]\u001b[A\n",
      " 89%|████████▉ | 223/250 [08:28<00:55,  2.05s/it]\u001b[A\n",
      " 90%|████████▉ | 224/250 [08:31<00:53,  2.04s/it]\u001b[A\n",
      " 90%|█████████ | 225/250 [08:33<00:51,  2.04s/it]\u001b[A\n",
      " 90%|█████████ | 226/250 [08:35<00:49,  2.08s/it]\u001b[A\n",
      " 91%|█████████ | 227/250 [08:37<00:48,  2.09s/it]\u001b[A\n",
      " 91%|█████████ | 228/250 [08:39<00:45,  2.07s/it]\u001b[A\n",
      " 92%|█████████▏| 229/250 [08:41<00:43,  2.05s/it]\u001b[A\n",
      " 92%|█████████▏| 230/250 [08:43<00:41,  2.07s/it]\u001b[A\n",
      " 92%|█████████▏| 231/250 [08:45<00:40,  2.14s/it]\u001b[A\n",
      " 93%|█████████▎| 232/250 [08:47<00:38,  2.12s/it]\u001b[A\n",
      " 93%|█████████▎| 233/250 [08:49<00:35,  2.11s/it]\u001b[A\n",
      " 94%|█████████▎| 234/250 [08:51<00:33,  2.08s/it]\u001b[A\n",
      " 94%|█████████▍| 235/250 [08:53<00:30,  2.06s/it]\u001b[A\n",
      " 94%|█████████▍| 236/250 [08:56<00:29,  2.07s/it]\u001b[A\n",
      " 95%|█████████▍| 237/250 [08:58<00:27,  2.12s/it]\u001b[A\n",
      " 95%|█████████▌| 238/250 [09:00<00:25,  2.09s/it]\u001b[A\n",
      " 96%|█████████▌| 239/250 [09:02<00:22,  2.08s/it]\u001b[A\n",
      " 96%|█████████▌| 240/250 [09:04<00:20,  2.06s/it]\u001b[A\n",
      " 96%|█████████▋| 241/250 [09:06<00:18,  2.04s/it]\u001b[A\n",
      " 97%|█████████▋| 242/250 [09:08<00:16,  2.05s/it]\u001b[A\n",
      " 97%|█████████▋| 243/250 [09:10<00:14,  2.04s/it]\u001b[A\n",
      " 98%|█████████▊| 244/250 [09:12<00:12,  2.04s/it]\u001b[A\n",
      " 98%|█████████▊| 245/250 [09:14<00:10,  2.03s/it]\u001b[A\n",
      " 98%|█████████▊| 246/250 [09:16<00:08,  2.03s/it]\u001b[A\n",
      " 99%|█████████▉| 247/250 [09:18<00:06,  2.02s/it]\u001b[A\n",
      " 99%|█████████▉| 248/250 [09:20<00:04,  2.02s/it]\u001b[A\n",
      "100%|█████████▉| 249/250 [09:22<00:02,  2.03s/it]\u001b[A\n",
      "100%|██████████| 250/250 [09:24<00:00,  2.03s/it]\u001b[A"
     ]
    }
   ],
   "source": [
    "y_pool = np.hstack([y_local, y_global])\n",
    "x_new_pool = np.hstack([x_new_local, x_new_global])\n",
    "\n",
    "n_bootstrap = 250\n",
    "n_samples = 300\n",
    "\n",
    "array_shape = [n_bootstrap, x_predict.shape[0]]\n",
    "mB1_mu, mB1_sig = np.zeros(array_shape), np.zeros(array_shape)\n",
    "mB2_mu, mB2_sig = np.zeros(array_shape), np.zeros(array_shape)\n",
    "\n",
    "for itx in tqdm.tqdm(range(n_bootstrap)):\n",
    "    np.random.seed(itx)\n",
    "    \n",
    "    all_boot_samples = np.random.choice(y_pool.shape[0], n_samples * 2, replace = False)\n",
    "    \n",
    "    B1_samples = all_boot_samples[:n_samples]\n",
    "    B2_samples = all_boot_samples[n_samples:]\n",
    "    \n",
    "    # Bootstrap 1\n",
    "    mB1 = GPy.models.GPRegression(\n",
    "        x_new_pool[B1_samples, None],\n",
    "        y_pool[B1_samples, None],\n",
    "        kernel = GPy.kern.RBF(1),\n",
    "    )\n",
    "\n",
    "    mB1.optimize_restarts(1, max_iters = 25, verbose = False)\n",
    "\n",
    "    mB1_mu_temp, mB1_sig_temp = mB1.predict(x_predict[:, None], include_likelihood = False)\n",
    "    mB1_mu[itx, :] = mB1_mu_temp[:, 0]\n",
    "    mB1_sig[itx, :] = mB1_sig_temp[:, 0]\n",
    "    \n",
    "    # Bootstrap 2\n",
    "    mB2 = GPy.models.GPRegression(\n",
    "        x_new_pool[B2_samples, None],\n",
    "        y_pool[B2_samples, None],\n",
    "        kernel = GPy.kern.RBF(1),\n",
    "    )\n",
    "\n",
    "    mB2.optimize_restarts(1, max_iters = 25, verbose = False)\n",
    "\n",
    "    mB2_mu_temp, mB2_sig_temp = mB2.predict(x_predict[:, None], include_likelihood = False)\n",
    "    mB2_mu[itx, :] = mB2_mu_temp[:, 0]\n",
    "    mB2_sig[itx, :] = mB2_sig_temp[:, 0]\n",
    "\n",
    "n_blob_bootstrap = np.zeros([n_bootstrap, n_sigma.shape[0]])\n",
    "\n",
    "for ity in tqdm.tqdm(range(n_bootstrap)):\n",
    "    for itx, sigma in enumerate(n_sigma):\n",
    "        upper, lower = compute_bounds(mB1_mu[ity, :] - mB2_mu[ity, :], mB1_sig[ity, :] + mB2_sig[ity, :], n_sigma = sigma)\n",
    "\n",
    "        diff_mask = (upper < 0) | (lower > 0)\n",
    "\n",
    "        n_blob_bootstrap[ity, itx] = np.unique(np.hstack(label(diff_mask)[0])).max()"
   ]
  },
  {
   "cell_type": "code",
   "execution_count": 55,
   "metadata": {},
   "outputs": [
    {
     "data": {
      "image/png": "[encoded data removed]",
      "text/plain": [
       "<Figure size 864x216 with 3 Axes>"
      ]
     },
     "metadata": {},
     "output_type": "display_data"
    }
   ],
   "source": [
    "sns.set_style('white')\n",
    "\n",
    "fig, ax = plt.subplots(1, 3)\n",
    "\n",
    "ax[0].set_title('Bootstrap Set 1')\n",
    "ax[0].imshow(mB1_mu, cmap = 'viridis')\n",
    "\n",
    "ax[1].set_title('Bootstrap Set 2')\n",
    "ax[1].imshow(mB2_mu, cmap = 'viridis')\n",
    "\n",
    "ax[2].set_title('Difference of Set 1, Set 2')\n",
    "ax[2].imshow(mB1_mu - mB2_mu, cmap = 'viridis')\n",
    "\n",
    "for itx in range(3):\n",
    "    ax[itx].set_xticklabels([]);\n",
    "    ax[itx].set_yticklabels([]);\n",
    "    \n",
    "fig.set_size_inches(12, 3)\n",
    "plt.tight_layout()"
   ]
  },
  {
   "cell_type": "code",
   "execution_count": 56,
   "metadata": {},
   "outputs": [
    {
     "data": {
      "text/plain": [
       "90.6"
      ]
     },
     "execution_count": 56,
     "metadata": {},
     "output_type": "execute_result"
    }
   ],
   "source": [
    "from scipy.stats import percentileofscore\n",
    "\n",
    "def calc_boot_perc(n_blob_bootstrap, n_blob_inner, n_sigma, sigma = 3):\n",
    "    mask = n_sigma < 3\n",
    "    p_ = percentileofscore(\n",
    "        n_blob_bootstrap[:, mask][:, -1], \n",
    "        n_blob_inner[mask][-1]\n",
    "    )\n",
    "\n",
    "    return p_\n",
    "\n",
    "calc_boot_perc(n_blob_bootstrap, n_blob_inner, n_sigma)"
   ]
  },
  {
   "cell_type": "code",
   "execution_count": 57,
   "metadata": {},
   "outputs": [
    {
     "data": {
      "image/png": "[encoded data removed]",
      "text/plain": [
       "<Figure size 288x288 with 1 Axes>"
      ]
     },
     "metadata": {},
     "output_type": "display_data"
    }
   ],
   "source": [
    "sns.set_style('ticks')\n",
    "\n",
    "fig, ax = plt.subplots(1)\n",
    "\n",
    "plt.title('Calcium', fontsize = 12)\n",
    "\n",
    "ax.plot(n_sigma, n_blob_inner, color = 'k', linewidth = 1, clip_on = True, label = 'GP Diff')\n",
    "ax.plot(n_sigma, n_blob_bootstrap.mean(axis = 0), color = 'r', linewidth = 1, label = '$\\mu$ Null');\n",
    "\n",
    "ax.fill_between(\n",
    "    n_sigma, \n",
    "    np.percentile(n_blob_bootstrap, 0.3, axis = 0), \n",
    "    np.percentile(n_blob_bootstrap, 99.7, axis = 0),\n",
    "    facecolor = 'r', alpha = 0.33, clip_on = True,\n",
    "    label = '$\\u00B13\\sigma$ Null'\n",
    ")\n",
    "\n",
    "plt.tick_params(axis='both', which='major', labelsize='medium')\n",
    "ax.set_xlabel('Z-Score Threshold', fontsize = 10)\n",
    "ax.set_ylabel('Euler Characteristic', fontsize = 10)\n",
    "plt.xticks(np.arange(0, 15, 1))\n",
    "plt.yticks(np.arange(0, 280, 40))\n",
    "ax.set_xlim(0, 5)\n",
    "ax.set_ylim(0, 240)\n",
    "plt.legend()\n",
    "\n",
    "sns.despine(ax = ax, offset = 10)\n",
    "fig.set_size_inches(4, 4)\n",
    "\n",
    "plt.savefig(directories['figs'] + 'bootstrap/' + 'calcium-bootstrap.svg', dpi = 300)"
   ]
  },
  {
   "cell_type": "markdown",
   "metadata": {},
   "source": [
    "Classical Comparison"
   ]
  },
  {
   "cell_type": "code",
   "execution_count": 58,
   "metadata": {},
   "outputs": [],
   "source": [
    "# path = '/gpfs01/euler/data/User/lrogerson/imaging_probabilistic/data/'\n",
    "# file = 'SMP_M1_RR2_BC2_ChirpI.h5'\n",
    "\n",
    "local_traces = data_linear['Snippets0'][:16515, :, 0]\n",
    "global_traces = data_linear['Snippets0'][16516:, :, 0]\n",
    "\n",
    "local_mean = local_traces.mean(axis = 1)\n",
    "global_mean = global_traces.mean(axis = 1)\n",
    "\n",
    "local_std = local_traces.std(axis = 1)\n",
    "global_std = global_traces.std(axis = 1)\n",
    "\n",
    "trace_times = data_linear['SnippetsTimes0'][:16515, 0, 0]\n",
    "trace_times -= trace_times.min()"
   ]
  },
  {
   "cell_type": "code",
   "execution_count": 59,
   "metadata": {
    "scrolled": false
   },
   "outputs": [
    {
     "data": {
      "image/png": "[encoded data removed]",
      "text/plain": [
       "<Figure size 122.4x288 with 1 Axes>"
      ]
     },
     "metadata": {},
     "output_type": "display_data"
    }
   ],
   "source": [
    "fig, ax = plt.subplots(1)\n",
    "\n",
    "offset = 18\n",
    "\n",
    "ax.plot(trace_times, local_mean + 2 * offset, color = 'r', linewidth = 0.5)\n",
    "ax.fill_between(trace_times, local_mean - 3 * local_std + 2 * offset,  local_mean + 3 * local_std + 2 * offset,\n",
    "                facecolor = 'r', alpha = 0.33, clip_on = False)\n",
    "\n",
    "ax.plot(trace_times, global_mean + offset, color = 'b', linewidth = 0.5)\n",
    "ax.fill_between(trace_times, global_mean - 3 * global_std + offset,  global_mean + 3 * global_std + offset, \n",
    "                facecolor = 'b', alpha = 0.33, clip_on = False)\n",
    "\n",
    "ax.plot(trace_times, local_mean - global_mean , color = 'g', linewidth = 0.5)\n",
    "ax.plot(x_predict, np.zeros(x_predict.shape), color = 'k', linewidth = 1)\n",
    "\n",
    "ax.fill_between(trace_times, \n",
    "                local_mean - global_mean - 3 * (local_std + global_std),  \n",
    "                local_mean - global_mean + 3 * (local_std + global_std), \n",
    "                facecolor = 'g', alpha = 0.33, clip_on = False)\n",
    "\n",
    "ax.get_yaxis().set_visible(False)\n",
    "ax.get_xaxis().set_visible(False)\n",
    "\n",
    "ax.set_xlim(0, 32)\n",
    "\n",
    "# plt.xticks([0, 8, 16, 24, 32])\n",
    "plt.tick_params(axis = 'both', which = 'major', labelsize = 'medium')\n",
    "ax.set_xlabel('Time (s)', fontsize = 10)\n",
    "\n",
    "sns.despine(left = True, bottom = True, ax = ax, offset = 10)\n",
    "\n",
    "fig.set_size_inches(1.7, 4)\n",
    "\n",
    "plt.savefig(directories['figs'] + 'warping/' + 'classical_diff.pdf', dpi = 300)"
   ]
  },
  {
   "cell_type": "code",
   "execution_count": 60,
   "metadata": {},
   "outputs": [],
   "source": [
    "n_blob_inner = np.zeros(n_sigma.shape[0])\n",
    "\n",
    "for itx, sigma in enumerate(n_sigma):\n",
    "    # Compute EC\n",
    "    upper, lower = compute_bounds(local_mean - global_mean, local_std + global_std, n_sigma = sigma)\n",
    "    ax.fill_between(trace_times, upper, lower, facecolor = '#1a9850', alpha = 0.33)\n",
    "\n",
    "    diff_mask = (upper < 0) | (lower > 0)\n",
    "    \n",
    "    n_blob_inner[itx] = np.unique(np.hstack(label(diff_mask)[0])).max()"
   ]
  },
  {
   "cell_type": "code",
   "execution_count": 61,
   "metadata": {},
   "outputs": [
    {
     "data": {
      "image/png": "[encoded data removed]",
      "text/plain": [
       "<Figure size 144x100.8 with 1 Axes>"
      ]
     },
     "metadata": {},
     "output_type": "display_data"
    }
   ],
   "source": [
    "sns.set_style('ticks')\n",
    "\n",
    "fig, ax = plt.subplots(1)\n",
    "\n",
    "ax.plot(n_sigma, n_blob_inner, color = 'k', label = 'Latent', linewidth = 1, clip_on = False)\n",
    "ax.plot(np.ones(240) * 3, np.arange(240), color = 'k', linewidth = 1, linestyle = ':')\n",
    "\n",
    "sigma_mask = n_sigma > 3\n",
    "ax.fill_between(\n",
    "    n_sigma[sigma_mask], \n",
    "    np.zeros(n_sigma[sigma_mask].shape), \n",
    "    n_blob_inner[sigma_mask],\n",
    "    facecolor = 'k', \n",
    "    alpha = 0.66,\n",
    "    clip_on = False\n",
    ")\n",
    "\n",
    "ax.set_xlim(0, 10)\n",
    "ax.set_ylim(0, 240)\n",
    "plt.tick_params(axis='both', which='major', labelsize='medium')\n",
    "ax.set_xlabel('Z-Score Threshold', fontsize = 10)\n",
    "ax.set_ylabel('Euler Characteristic', fontsize = 10)\n",
    "plt.xticks(np.arange(0, 15, 5))\n",
    "plt.yticks(np.arange(0, 280, 40))\n",
    "\n",
    "sns.despine(ax = ax, offset = 10)\n",
    "\n",
    "fig.set_size_inches(2, 1.4)\n",
    "\n",
    "plt.savefig(directories['figs'] + 'warping/' + 'classical_EC.svg', dpi = 300)"
   ]
  },
  {
   "cell_type": "code",
   "execution_count": 63,
   "metadata": {},
   "outputs": [
    {
     "name": "stderr",
     "output_type": "stream",
     "text": [
      "\n",
      "  0%|          | 0/250 [00:00<?, ?it/s]\u001b[A\n",
      " 40%|███▉      | 99/250 [00:00<00:00, 984.55it/s]\u001b[A\n",
      " 60%|██████    | 150/250 [00:00<00:00, 756.88it/s]\u001b[A\n",
      " 94%|█████████▍| 236/250 [00:00<00:00, 784.76it/s]\u001b[A\n",
      "100%|██████████| 250/250 [00:00<00:00, 746.71it/s]\u001b[A\n",
      "  0%|          | 0/250 [00:00<?, ?it/s]\u001b[A\n",
      "  0%|          | 1/250 [00:20<1:25:25, 20.58s/it]\u001b[A\n",
      "  1%|          | 2/250 [00:31<1:13:35, 17.80s/it]\u001b[A\n",
      "  1%|          | 3/250 [00:40<1:01:59, 15.06s/it]\u001b[A\n",
      "  2%|▏         | 4/250 [00:48<53:17, 13.00s/it]  \u001b[A\n",
      "  2%|▏         | 5/250 [00:56<46:38, 11.42s/it]\u001b[A\n",
      "  2%|▏         | 6/250 [01:04<41:52, 10.30s/it]\u001b[A\n",
      "  3%|▎         | 7/250 [01:16<44:45, 11.05s/it]\u001b[A\n",
      "  3%|▎         | 8/250 [01:37<56:19, 13.97s/it]\u001b[A\n",
      "  4%|▎         | 9/250 [01:59<1:05:03, 16.20s/it]\u001b[A\n",
      "  4%|▍         | 10/250 [02:18<1:08:52, 17.22s/it]\u001b[A\n",
      "  4%|▍         | 11/250 [02:38<1:11:20, 17.91s/it]\u001b[A\n",
      "  5%|▍         | 12/250 [02:57<1:12:56, 18.39s/it]\u001b[A\n",
      "  5%|▌         | 13/250 [03:17<1:13:54, 18.71s/it]\u001b[A\n",
      "  6%|▌         | 14/250 [03:37<1:14:50, 19.03s/it]\u001b[A\n",
      "  6%|▌         | 15/250 [03:58<1:16:58, 19.65s/it]\u001b[A\n",
      "  6%|▋         | 16/250 [04:18<1:17:46, 19.94s/it]\u001b[A\n",
      "  7%|▋         | 17/250 [04:39<1:18:00, 20.09s/it]\u001b[A\n",
      "  7%|▋         | 18/250 [05:00<1:18:37, 20.33s/it]\u001b[A\n",
      "  8%|▊         | 19/250 [05:20<1:18:51, 20.48s/it]\u001b[A\n",
      "  8%|▊         | 20/250 [05:43<1:20:43, 21.06s/it]\u001b[A\n",
      "  8%|▊         | 21/250 [06:00<1:15:57, 19.90s/it]\u001b[A\n",
      "  9%|▉         | 22/250 [06:08<1:01:51, 16.28s/it]\u001b[A\n",
      "  9%|▉         | 23/250 [06:16<51:54, 13.72s/it]  \u001b[A\n",
      " 10%|▉         | 24/250 [06:25<46:26, 12.33s/it]\u001b[A\n",
      " 10%|█         | 25/250 [06:33<41:52, 11.17s/it]\u001b[A\n",
      " 10%|█         | 26/250 [06:41<38:07, 10.21s/it]\u001b[A\n",
      " 11%|█         | 27/250 [06:49<35:50,  9.64s/it]\u001b[A\n",
      " 11%|█         | 28/250 [07:09<46:57, 12.69s/it]\u001b[A\n",
      " 12%|█▏        | 29/250 [07:29<54:51, 14.89s/it]\u001b[A\n",
      " 12%|█▏        | 30/250 [07:49<59:43, 16.29s/it]\u001b[A\n",
      " 12%|█▏        | 31/250 [08:09<1:03:25, 17.38s/it]\u001b[A\n",
      " 13%|█▎        | 32/250 [08:28<1:05:30, 18.03s/it]\u001b[A\n",
      " 13%|█▎        | 33/250 [08:48<1:06:54, 18.50s/it]\u001b[A\n",
      " 14%|█▎        | 34/250 [09:08<1:07:58, 18.88s/it]\u001b[A\n",
      " 14%|█▍        | 35/250 [09:27<1:08:27, 19.10s/it]\u001b[A\n",
      " 14%|█▍        | 36/250 [09:47<1:08:42, 19.26s/it]\u001b[A\n",
      " 15%|█▍        | 37/250 [10:06<1:08:37, 19.33s/it]\u001b[A\n",
      " 15%|█▌        | 38/250 [10:26<1:08:31, 19.39s/it]\u001b[A\n",
      " 16%|█▌        | 39/250 [10:45<1:08:14, 19.41s/it]\u001b[A\n",
      " 16%|█▌        | 40/250 [11:05<1:07:52, 19.39s/it]\u001b[A\n",
      " 16%|█▋        | 41/250 [11:24<1:07:38, 19.42s/it]\u001b[A\n",
      " 17%|█▋        | 42/250 [11:43<1:07:08, 19.37s/it]\u001b[A\n",
      " 17%|█▋        | 43/250 [11:52<55:40, 16.14s/it]  \u001b[A\n",
      " 18%|█▊        | 44/250 [12:00<46:49, 13.64s/it]\u001b[A\n",
      " 18%|█▊        | 45/250 [12:08<40:41, 11.91s/it]\u001b[A\n",
      " 18%|█▊        | 46/250 [12:15<36:14, 10.66s/it]\u001b[A\n",
      " 19%|█▉        | 47/250 [12:23<33:14,  9.82s/it]\u001b[A\n",
      " 19%|█▉        | 48/250 [12:31<30:58,  9.20s/it]\u001b[A\n",
      " 20%|█▉        | 49/250 [12:39<29:28,  8.80s/it]\u001b[A\n",
      " 20%|██        | 50/250 [12:47<28:23,  8.52s/it]\u001b[A\n",
      " 20%|██        | 51/250 [12:55<27:30,  8.30s/it]\u001b[A\n",
      " 21%|██        | 52/250 [13:02<26:48,  8.12s/it]\u001b[A\n",
      " 21%|██        | 53/250 [13:10<26:25,  8.05s/it]\u001b[A\n",
      " 22%|██▏       | 54/250 [13:18<26:00,  7.96s/it]\u001b[A\n",
      " 22%|██▏       | 55/250 [13:26<25:42,  7.91s/it]\u001b[A\n",
      " 22%|██▏       | 56/250 [13:34<25:26,  7.87s/it]\u001b[A\n",
      " 23%|██▎       | 57/250 [13:41<25:14,  7.85s/it]\u001b[A\n",
      " 23%|██▎       | 58/250 [13:49<25:03,  7.83s/it]\u001b[A\n",
      " 24%|██▎       | 59/250 [13:57<24:49,  7.80s/it]\u001b[A\n",
      " 24%|██▍       | 60/250 [14:05<24:40,  7.79s/it]\u001b[A\n",
      " 24%|██▍       | 61/250 [14:12<24:31,  7.78s/it]\u001b[A\n",
      " 25%|██▍       | 62/250 [14:20<24:21,  7.77s/it]\u001b[A\n",
      " 25%|██▌       | 63/250 [14:28<24:13,  7.78s/it]\u001b[A\n",
      " 26%|██▌       | 64/250 [14:36<24:04,  7.77s/it]\u001b[A\n",
      " 26%|██▌       | 65/250 [14:43<23:56,  7.77s/it]\u001b[A\n",
      " 26%|██▋       | 66/250 [14:51<23:49,  7.77s/it]\u001b[A\n",
      " 27%|██▋       | 67/250 [14:59<23:44,  7.78s/it]\u001b[A\n",
      " 27%|██▋       | 68/250 [15:07<23:40,  7.81s/it]\u001b[A\n",
      " 28%|██▊       | 69/250 [15:15<23:29,  7.79s/it]\u001b[A\n",
      " 28%|██▊       | 70/250 [15:22<23:21,  7.78s/it]\u001b[A\n",
      " 28%|██▊       | 71/250 [15:30<23:10,  7.77s/it]\u001b[A\n",
      " 29%|██▉       | 72/250 [15:38<23:06,  7.79s/it]\u001b[A\n",
      " 29%|██▉       | 73/250 [15:46<22:55,  7.77s/it]\u001b[A\n",
      " 30%|██▉       | 74/250 [15:54<22:53,  7.80s/it]\u001b[A\n",
      " 30%|███       | 75/250 [16:01<22:47,  7.81s/it]\u001b[A\n",
      " 30%|███       | 76/250 [16:09<22:40,  7.82s/it]\u001b[A\n",
      " 31%|███       | 77/250 [16:17<22:31,  7.81s/it]\u001b[A\n",
      " 31%|███       | 78/250 [16:25<22:17,  7.78s/it]\u001b[A\n",
      " 32%|███▏      | 79/250 [16:33<22:11,  7.79s/it]\u001b[A\n",
      " 32%|███▏      | 80/250 [16:40<22:04,  7.79s/it]\u001b[A\n",
      " 32%|███▏      | 81/250 [16:48<21:57,  7.79s/it]\u001b[A\n",
      " 33%|███▎      | 82/250 [16:56<21:51,  7.81s/it]\u001b[A\n",
      " 33%|███▎      | 83/250 [17:04<22:02,  7.92s/it]\u001b[A\n",
      " 34%|███▎      | 84/250 [17:13<22:33,  8.16s/it]\u001b[A\n",
      " 34%|███▍      | 85/250 [17:22<23:27,  8.53s/it]\u001b[A\n",
      " 34%|███▍      | 86/250 [17:32<23:54,  8.74s/it]\u001b[A\n",
      " 35%|███▍      | 87/250 [17:41<24:44,  9.11s/it]\u001b[A\n",
      " 35%|███▌      | 88/250 [17:50<24:12,  8.96s/it]\u001b[A\n",
      " 36%|███▌      | 89/250 [17:58<23:19,  8.69s/it]\u001b[A\n",
      " 36%|███▌      | 90/250 [18:06<22:49,  8.56s/it]\u001b[A\n",
      " 36%|███▋      | 91/250 [18:14<22:05,  8.34s/it]\u001b[A\n",
      " 37%|███▋      | 92/250 [18:22<21:29,  8.16s/it]\u001b[A\n",
      " 37%|███▋      | 93/250 [18:30<21:03,  8.05s/it]\u001b[A\n",
      " 38%|███▊      | 94/250 [18:38<20:44,  7.98s/it]\u001b[A\n",
      " 38%|███▊      | 95/250 [18:45<20:26,  7.91s/it]\u001b[A\n",
      " 38%|███▊      | 96/250 [18:53<20:19,  7.92s/it]\u001b[A\n",
      " 39%|███▉      | 97/250 [19:01<20:15,  7.94s/it]\u001b[A\n",
      " 39%|███▉      | 98/250 [19:09<20:08,  7.95s/it]\u001b[A\n",
      " 40%|███▉      | 99/250 [19:17<19:52,  7.90s/it]\u001b[A\n",
      " 40%|████      | 100/250 [19:25<19:38,  7.86s/it]\u001b[A\n",
      " 40%|████      | 101/250 [19:33<19:28,  7.85s/it]\u001b[A\n",
      " 41%|████      | 102/250 [19:40<19:19,  7.83s/it]\u001b[A\n",
      " 41%|████      | 103/250 [19:48<19:13,  7.85s/it]\u001b[A\n",
      " 42%|████▏     | 104/250 [19:56<19:06,  7.86s/it]\u001b[A\n",
      " 42%|████▏     | 105/250 [20:04<18:56,  7.84s/it]\u001b[A\n",
      " 42%|████▏     | 106/250 [20:12<18:57,  7.90s/it]\u001b[A\n",
      " 43%|████▎     | 107/250 [20:20<18:43,  7.86s/it]\u001b[A\n",
      " 43%|████▎     | 108/250 [20:27<18:27,  7.80s/it]\u001b[A\n",
      " 44%|████▎     | 109/250 [20:35<18:21,  7.81s/it]\u001b[A\n",
      " 44%|████▍     | 110/250 [20:43<18:10,  7.79s/it]\u001b[A\n",
      " 44%|████▍     | 111/250 [20:51<18:06,  7.82s/it]\u001b[A\n",
      " 45%|████▍     | 112/250 [20:59<17:52,  7.77s/it]\u001b[A\n",
      " 45%|████▌     | 113/250 [21:06<17:45,  7.77s/it]\u001b[A\n",
      " 46%|████▌     | 114/250 [21:14<17:36,  7.77s/it]\u001b[A\n",
      " 46%|████▌     | 115/250 [21:22<17:26,  7.75s/it]\u001b[A\n",
      " 46%|████▋     | 116/250 [21:29<17:15,  7.73s/it]\u001b[A\n",
      " 47%|████▋     | 117/250 [21:37<17:07,  7.72s/it]\u001b[A\n",
      " 47%|████▋     | 118/250 [21:45<17:00,  7.73s/it]\u001b[A\n",
      " 48%|████▊     | 119/250 [21:53<17:02,  7.81s/it]\u001b[A\n",
      " 48%|████▊     | 120/250 [22:01<16:52,  7.79s/it]\u001b[A\n",
      " 48%|████▊     | 121/250 [22:08<16:45,  7.79s/it]\u001b[A\n",
      " 49%|████▉     | 122/250 [22:16<16:36,  7.78s/it]\u001b[A\n",
      " 49%|████▉     | 123/250 [22:24<16:30,  7.80s/it]\u001b[A\n",
      " 50%|████▉     | 124/250 [22:32<16:21,  7.79s/it]\u001b[A\n",
      " 50%|█████     | 125/250 [22:40<16:14,  7.80s/it]\u001b[A\n",
      " 50%|█████     | 126/250 [22:47<16:05,  7.79s/it]\u001b[A\n",
      " 51%|█████     | 127/250 [22:55<15:56,  7.78s/it]\u001b[A\n",
      " 51%|█████     | 128/250 [23:03<15:49,  7.79s/it]\u001b[A\n",
      " 52%|█████▏    | 129/250 [23:11<15:42,  7.79s/it]\u001b[A\n",
      " 52%|█████▏    | 130/250 [23:18<15:32,  7.77s/it]\u001b[A\n",
      " 52%|█████▏    | 131/250 [23:26<15:23,  7.76s/it]\u001b[A\n",
      " 53%|█████▎    | 132/250 [23:34<15:10,  7.71s/it]\u001b[A\n",
      " 53%|█████▎    | 133/250 [23:41<15:00,  7.70s/it]\u001b[A\n",
      " 54%|█████▎    | 134/250 [23:49<14:50,  7.68s/it]\u001b[A\n",
      " 54%|█████▍    | 135/250 [23:57<14:39,  7.65s/it]\u001b[A\n",
      " 54%|█████▍    | 136/250 [24:04<14:30,  7.64s/it]\u001b[A\n",
      " 55%|█████▍    | 137/250 [24:12<14:23,  7.64s/it]\u001b[A\n",
      " 55%|█████▌    | 138/250 [24:20<14:13,  7.62s/it]\u001b[A\n",
      " 56%|█████▌    | 139/250 [24:27<14:04,  7.61s/it]\u001b[A\n",
      " 56%|█████▌    | 140/250 [24:35<13:57,  7.61s/it]\u001b[A\n",
      " 56%|█████▋    | 141/250 [24:42<13:49,  7.61s/it]\u001b[A\n",
      " 57%|█████▋    | 142/250 [24:50<13:41,  7.61s/it]\u001b[A\n",
      " 57%|█████▋    | 143/250 [24:58<13:33,  7.61s/it]\u001b[A\n",
      " 58%|█████▊    | 144/250 [25:05<13:26,  7.61s/it]\u001b[A\n",
      " 58%|█████▊    | 145/250 [25:13<13:19,  7.61s/it]\u001b[A\n",
      " 58%|█████▊    | 146/250 [25:20<13:11,  7.61s/it]\u001b[A\n",
      " 59%|█████▉    | 147/250 [25:28<13:02,  7.60s/it]\u001b[A\n",
      " 59%|█████▉    | 148/250 [25:36<12:54,  7.59s/it]\u001b[A\n",
      " 60%|█████▉    | 149/250 [25:43<12:48,  7.61s/it]\u001b[A\n"
     ]
    },
    {
     "name": "stderr",
     "output_type": "stream",
     "text": [
      " 60%|██████    | 150/250 [25:51<12:46,  7.67s/it]\u001b[A\n",
      " 60%|██████    | 151/250 [25:59<12:37,  7.65s/it]\u001b[A\n",
      " 61%|██████    | 152/250 [26:06<12:29,  7.64s/it]\u001b[A\n",
      " 61%|██████    | 153/250 [26:14<12:20,  7.63s/it]\u001b[A\n",
      " 62%|██████▏   | 154/250 [26:21<12:11,  7.62s/it]\u001b[A\n",
      " 62%|██████▏   | 155/250 [26:29<12:03,  7.62s/it]\u001b[A\n",
      " 62%|██████▏   | 156/250 [26:37<11:56,  7.63s/it]\u001b[A\n",
      " 63%|██████▎   | 157/250 [26:44<11:54,  7.68s/it]\u001b[A\n",
      " 63%|██████▎   | 158/250 [26:52<11:43,  7.65s/it]\u001b[A\n",
      " 64%|██████▎   | 159/250 [27:00<11:34,  7.63s/it]\u001b[A\n",
      " 64%|██████▍   | 160/250 [27:07<11:26,  7.63s/it]\u001b[A\n",
      " 64%|██████▍   | 161/250 [27:15<11:18,  7.62s/it]\u001b[A\n",
      " 65%|██████▍   | 162/250 [27:22<11:09,  7.61s/it]\u001b[A\n",
      " 65%|██████▌   | 163/250 [27:30<11:01,  7.61s/it]\u001b[A\n",
      " 66%|██████▌   | 164/250 [27:38<10:55,  7.62s/it]\u001b[A\n",
      " 66%|██████▌   | 165/250 [27:45<10:46,  7.61s/it]\u001b[A\n",
      " 66%|██████▋   | 166/250 [27:53<10:38,  7.60s/it]\u001b[A\n",
      " 67%|██████▋   | 167/250 [28:00<10:30,  7.60s/it]\u001b[A\n",
      " 67%|██████▋   | 168/250 [28:08<10:23,  7.61s/it]\u001b[A\n",
      " 68%|██████▊   | 169/250 [28:16<10:15,  7.60s/it]\u001b[A\n",
      " 68%|██████▊   | 170/250 [28:23<10:08,  7.60s/it]\u001b[A\n",
      " 68%|██████▊   | 171/250 [28:31<10:00,  7.60s/it]\u001b[A\n",
      " 69%|██████▉   | 172/250 [28:38<09:53,  7.61s/it]\u001b[A\n",
      " 69%|██████▉   | 173/250 [28:46<09:45,  7.61s/it]\u001b[A\n",
      " 70%|██████▉   | 174/250 [28:54<09:38,  7.62s/it]\u001b[A\n",
      " 70%|███████   | 175/250 [29:01<09:31,  7.61s/it]\u001b[A\n",
      " 70%|███████   | 176/250 [29:09<09:23,  7.61s/it]\u001b[A\n",
      " 71%|███████   | 177/250 [29:17<09:15,  7.60s/it]\u001b[A\n",
      " 71%|███████   | 178/250 [29:24<09:07,  7.60s/it]\u001b[A\n",
      " 72%|███████▏  | 179/250 [29:32<08:59,  7.61s/it]\u001b[A\n",
      " 72%|███████▏  | 180/250 [29:39<08:52,  7.61s/it]\u001b[A\n",
      " 72%|███████▏  | 181/250 [29:47<08:45,  7.61s/it]\u001b[A\n",
      " 73%|███████▎  | 182/250 [29:55<08:37,  7.61s/it]\u001b[A\n",
      " 73%|███████▎  | 183/250 [30:02<08:29,  7.61s/it]\u001b[A\n",
      " 74%|███████▎  | 184/250 [30:10<08:21,  7.60s/it]\u001b[A\n",
      " 74%|███████▍  | 185/250 [30:17<08:14,  7.60s/it]\u001b[A\n",
      " 74%|███████▍  | 186/250 [30:25<08:07,  7.62s/it]\u001b[A\n",
      " 75%|███████▍  | 187/250 [30:33<07:59,  7.61s/it]\u001b[A\n",
      " 75%|███████▌  | 188/250 [30:40<07:52,  7.62s/it]\u001b[A\n",
      " 76%|███████▌  | 189/250 [30:48<07:44,  7.62s/it]\u001b[A\n",
      " 76%|███████▌  | 190/250 [30:56<07:37,  7.62s/it]\u001b[A\n",
      " 76%|███████▋  | 191/250 [31:03<07:29,  7.62s/it]\u001b[A\n",
      " 77%|███████▋  | 192/250 [31:11<07:22,  7.63s/it]\u001b[A\n",
      " 77%|███████▋  | 193/250 [31:18<07:14,  7.62s/it]\u001b[A\n",
      " 78%|███████▊  | 194/250 [31:26<07:07,  7.64s/it]\u001b[A\n",
      " 78%|███████▊  | 195/250 [31:34<07:00,  7.64s/it]\u001b[A\n",
      " 78%|███████▊  | 196/250 [31:41<06:51,  7.63s/it]\u001b[A\n",
      " 79%|███████▉  | 197/250 [31:49<06:43,  7.61s/it]\u001b[A\n",
      " 79%|███████▉  | 198/250 [31:56<06:35,  7.61s/it]\u001b[A\n",
      " 80%|███████▉  | 199/250 [32:04<06:27,  7.60s/it]\u001b[A\n",
      " 80%|████████  | 200/250 [32:12<06:19,  7.60s/it]\u001b[A\n",
      " 80%|████████  | 201/250 [32:19<06:12,  7.60s/it]\u001b[A\n",
      " 81%|████████  | 202/250 [32:27<06:04,  7.60s/it]\u001b[A\n",
      " 81%|████████  | 203/250 [32:34<05:56,  7.59s/it]\u001b[A\n",
      " 82%|████████▏ | 204/250 [32:42<05:49,  7.60s/it]\u001b[A\n",
      " 82%|████████▏ | 205/250 [32:50<05:41,  7.59s/it]\u001b[A\n",
      " 82%|████████▏ | 206/250 [32:57<05:34,  7.60s/it]\u001b[A\n",
      " 83%|████████▎ | 207/250 [33:05<05:27,  7.61s/it]\u001b[A\n",
      " 83%|████████▎ | 208/250 [33:12<05:19,  7.61s/it]\u001b[A\n",
      " 84%|████████▎ | 209/250 [33:20<05:11,  7.60s/it]\u001b[A\n",
      " 84%|████████▍ | 210/250 [33:28<05:03,  7.59s/it]\u001b[A\n",
      " 84%|████████▍ | 211/250 [33:35<04:56,  7.61s/it]\u001b[A\n",
      " 85%|████████▍ | 212/250 [33:43<04:48,  7.60s/it]\u001b[A\n",
      " 85%|████████▌ | 213/250 [33:50<04:41,  7.60s/it]\u001b[A\n",
      " 86%|████████▌ | 214/250 [33:58<04:33,  7.60s/it]\u001b[A\n",
      " 86%|████████▌ | 215/250 [34:06<04:25,  7.59s/it]\u001b[A\n",
      " 86%|████████▋ | 216/250 [34:13<04:19,  7.62s/it]\u001b[A\n",
      " 87%|████████▋ | 217/250 [34:21<04:11,  7.61s/it]\u001b[A\n",
      " 87%|████████▋ | 218/250 [34:29<04:03,  7.61s/it]\u001b[A\n",
      " 88%|████████▊ | 219/250 [34:36<03:55,  7.60s/it]\u001b[A\n",
      " 88%|████████▊ | 220/250 [34:44<03:48,  7.61s/it]\u001b[A\n",
      " 88%|████████▊ | 221/250 [34:51<03:40,  7.60s/it]\u001b[A\n",
      " 89%|████████▉ | 222/250 [34:59<03:32,  7.59s/it]\u001b[A\n",
      " 89%|████████▉ | 223/250 [35:06<03:25,  7.60s/it]\u001b[A\n",
      " 90%|████████▉ | 224/250 [35:14<03:17,  7.60s/it]\u001b[A\n",
      " 90%|█████████ | 225/250 [35:22<03:09,  7.60s/it]\u001b[A\n",
      " 90%|█████████ | 226/250 [35:29<03:02,  7.60s/it]\u001b[A\n",
      " 91%|█████████ | 227/250 [35:37<02:54,  7.60s/it]\u001b[A\n",
      " 91%|█████████ | 228/250 [35:44<02:47,  7.60s/it]\u001b[A\n",
      " 92%|█████████▏| 229/250 [35:52<02:39,  7.60s/it]\u001b[A\n",
      " 92%|█████████▏| 230/250 [36:00<02:31,  7.60s/it]\u001b[A\n",
      " 92%|█████████▏| 231/250 [36:07<02:24,  7.61s/it]\u001b[A\n",
      " 93%|█████████▎| 232/250 [36:15<02:17,  7.61s/it]\u001b[A\n",
      " 93%|█████████▎| 233/250 [36:23<02:09,  7.61s/it]\u001b[A\n",
      " 94%|█████████▎| 234/250 [36:30<02:01,  7.61s/it]\u001b[A\n",
      " 94%|█████████▍| 235/250 [36:38<01:54,  7.61s/it]\u001b[A\n",
      " 94%|█████████▍| 236/250 [36:45<01:46,  7.60s/it]\u001b[A\n",
      " 95%|█████████▍| 237/250 [36:53<01:38,  7.61s/it]\u001b[A\n",
      " 95%|█████████▌| 238/250 [37:01<01:31,  7.60s/it]\u001b[A\n",
      " 96%|█████████▌| 239/250 [37:08<01:23,  7.61s/it]\u001b[A\n",
      " 96%|█████████▌| 240/250 [37:16<01:16,  7.61s/it]\u001b[A\n",
      " 96%|█████████▋| 241/250 [37:23<01:08,  7.60s/it]\u001b[A\n",
      " 97%|█████████▋| 242/250 [37:31<01:00,  7.60s/it]\u001b[A\n",
      " 97%|█████████▋| 243/250 [37:39<00:53,  7.60s/it]\u001b[A\n",
      " 98%|█████████▊| 244/250 [37:46<00:45,  7.59s/it]\u001b[A\n",
      " 98%|█████████▊| 245/250 [37:54<00:37,  7.59s/it]\u001b[A\n",
      " 98%|█████████▊| 246/250 [38:01<00:30,  7.60s/it]\u001b[A\n",
      " 99%|█████████▉| 247/250 [38:09<00:22,  7.60s/it]\u001b[A\n",
      " 99%|█████████▉| 248/250 [38:17<00:15,  7.60s/it]\u001b[A\n",
      "100%|█████████▉| 249/250 [38:24<00:07,  7.60s/it]\u001b[A\n",
      "100%|██████████| 250/250 [38:32<00:00,  7.59s/it]\u001b[A"
     ]
    }
   ],
   "source": [
    "y_pool = np.hstack([local_traces, global_traces])\n",
    "y_sig_pool = np.hstack([local_std, global_std])\n",
    "x_new_pool = np.hstack([trace_times, trace_times])\n",
    "\n",
    "n_blob_out = []\n",
    "\n",
    "n_bootstrap = 250\n",
    "\n",
    "array_shape = [n_bootstrap, 16515]\n",
    "mB1_mu, mB1_sig = np.zeros(array_shape), np.zeros(array_shape)\n",
    "mB2_mu, mB2_sig = np.zeros(array_shape), np.zeros(array_shape)\n",
    "\n",
    "for itx in tqdm.tqdm(range(n_bootstrap)):\n",
    "    np.random.seed(itx)\n",
    "\n",
    "    all_boot_samples = np.random.choice(y_pool.shape[1], y_pool.shape[1], replace = False)\n",
    "    n_samples = y_pool.shape[1] // 2\n",
    "\n",
    "    B1_samples = all_boot_samples[:n_samples]\n",
    "    B2_samples = all_boot_samples[n_samples:]\n",
    "\n",
    "    # Bootstrap 1\n",
    "    mB1_mu[itx, :] = y_pool[:, B1_samples].mean(axis = 1)\n",
    "    mB1_sig[itx, :] = y_pool[:, B1_samples].std(axis = 1)\n",
    "\n",
    "    # Bootstrap 2\n",
    "    mB2_mu[itx, :] = y_pool[:, B2_samples].mean(axis = 1)\n",
    "    mB2_sig[itx, :] = y_pool[:, B2_samples].std(axis = 1)\n",
    "\n",
    "n_blob_bootstrap = np.zeros([n_bootstrap, n_sigma.shape[0]])\n",
    "\n",
    "for ity in tqdm.tqdm(range(n_bootstrap)):\n",
    "    for itx, sigma in enumerate(n_sigma):\n",
    "        upper, lower = compute_bounds(mB1_mu[ity, :] - mB2_mu[ity, :], mB1_sig[ity, :] + mB2_sig[ity, :], n_sigma = sigma)\n",
    "\n",
    "        diff_mask = (upper < 0) | (lower > 0)\n",
    "\n",
    "        n_blob_bootstrap[ity, itx] = np.unique(np.hstack(label(diff_mask)[0])).max()"
   ]
  },
  {
   "cell_type": "raw",
   "metadata": {},
   "source": [
    "y_pool = np.hstack([local_traces.mean(axis = 1), global_traces.mean(axis = 1)])\n",
    "y_sig_pool = np.hstack([local_std, global_std])\n",
    "x_new_pool = np.hstack([trace_times, trace_times])\n",
    "\n",
    "n_bootstrap = 250\n",
    "n_samples = 300\n",
    "\n",
    "array_shape = [n_bootstrap, n_samples]\n",
    "mB1_mu, mB1_sig = np.zeros(array_shape), np.zeros(array_shape)\n",
    "mB2_mu, mB2_sig = np.zeros(array_shape), np.zeros(array_shape)\n",
    "\n",
    "for itx in tqdm.tqdm(range(n_bootstrap)):\n",
    "    np.random.seed(itx)\n",
    "    \n",
    "    all_boot_samples = np.random.choice(y_pool.shape[0], n_samples * 2, replace = False)\n",
    "    \n",
    "    B1_samples = all_boot_samples[:n_samples]\n",
    "    B2_samples = all_boot_samples[n_samples:]\n",
    "    \n",
    "    # Bootstrap 1\n",
    "    mB1_mu[itx, :] = y_pool[B1_samples]\n",
    "    mB1_sig[itx, :] = y_sig_pool[B1_samples]\n",
    "    \n",
    "    # Bootstrap 2\n",
    "    mB2_mu[itx, :] = y_pool[B2_samples]\n",
    "    mB2_sig[itx, :] = y_sig_pool[B2_samples]\n",
    "\n",
    "n_blob_bootstrap = np.zeros([n_bootstrap, n_sigma.shape[0]])\n",
    "\n",
    "for ity in tqdm.tqdm(range(n_bootstrap)):\n",
    "    for itx, sigma in enumerate(n_sigma):\n",
    "        upper, lower = compute_bounds(mB1_mu[ity, :] - mB2_mu[ity, :], mB1_sig[ity, :] + mB2_sig[ity, :], n_sigma = sigma)\n",
    "\n",
    "        diff_mask = (upper < 0) | (lower > 0)\n",
    "\n",
    "        n_blob_bootstrap[ity, itx] = np.unique(np.hstack(label(diff_mask)[0])).max()"
   ]
  },
  {
   "cell_type": "code",
   "execution_count": 64,
   "metadata": {
    "scrolled": false
   },
   "outputs": [
    {
     "data": {
      "text/plain": [
       "94.4"
      ]
     },
     "execution_count": 64,
     "metadata": {},
     "output_type": "execute_result"
    }
   ],
   "source": [
    "from scipy.stats import percentileofscore\n",
    "\n",
    "def calc_boot_perc(n_blob_bootstrap, n_blob_inner, n_sigma, sigma = 3):\n",
    "    mask = n_sigma < 3\n",
    "    p_ = percentileofscore(\n",
    "        n_blob_bootstrap[:, mask][:, -1], \n",
    "        n_blob_inner[mask][-1]\n",
    "    )\n",
    "\n",
    "    return p_\n",
    "\n",
    "calc_boot_perc(n_blob_bootstrap, n_blob_inner, n_sigma)"
   ]
  },
  {
   "cell_type": "code",
   "execution_count": 65,
   "metadata": {},
   "outputs": [
    {
     "data": {
      "image/png": "[encoded data removed]",
      "text/plain": [
       "<Figure size 288x288 with 1 Axes>"
      ]
     },
     "metadata": {},
     "output_type": "display_data"
    }
   ],
   "source": [
    "sns.set_style('ticks')\n",
    "\n",
    "fig, ax = plt.subplots(1)\n",
    "\n",
    "plt.title('Calcium', fontsize = 12)\n",
    "\n",
    "ax.plot(n_sigma, n_blob_inner, color = 'k', linewidth = 1, clip_on = True, label = 'GP Diff')\n",
    "ax.plot(n_sigma, n_blob_bootstrap.mean(axis = 0), color = 'r', linewidth = 1, label = '$\\mu$ Null');\n",
    "\n",
    "ax.fill_between(\n",
    "    n_sigma, \n",
    "    np.percentile(n_blob_bootstrap, 0.3, axis = 0), \n",
    "    np.percentile(n_blob_bootstrap, 99.7, axis = 0),\n",
    "    facecolor = 'r', alpha = 0.33, clip_on = True,\n",
    "    label = '$\\u00B13\\sigma$ Null'\n",
    ")\n",
    "\n",
    "plt.tick_params(axis='both', which='major', labelsize='medium')\n",
    "ax.set_xlabel('Z-Score Threshold', fontsize = 10)\n",
    "ax.set_ylabel('Euler Characteristic', fontsize = 10)\n",
    "plt.xticks(np.arange(0, 15, 1))\n",
    "plt.yticks(np.arange(0, 280, 40))\n",
    "ax.set_xlim(0, 5)\n",
    "ax.set_ylim(0, 240)\n",
    "plt.legend()\n",
    "\n",
    "sns.despine(ax = ax, offset = 10)\n",
    "fig.set_size_inches(4, 4)\n",
    "\n",
    "plt.savefig(directories['figs'] + 'bootstrap/' + 'calcium-classical-bootstrap.svg', dpi = 300)"
   ]
  }
 ],
 "metadata": {
  "kernelspec": {
   "display_name": "Python 3",
   "language": "python",
   "name": "python3"
  },
  "language_info": {
   "codemirror_mode": {
    "name": "ipython",
    "version": 3
   },
   "file_extension": ".py",
   "mimetype": "text/x-python",
   "name": "python",
   "nbconvert_exporter": "python",
   "pygments_lexer": "ipython3",
   "version": "3.6.7"
  },
  "varInspector": {
   "cols": {
    "lenName": 16,
    "lenType": 16,
    "lenVar": 40
   },
   "kernels_config": {
    "python": {
     "delete_cmd_postfix": "",
     "delete_cmd_prefix": "del ",
     "library": "var_list.py",
     "varRefreshCmd": "print(var_dic_list())"
    },
    "r": {
     "delete_cmd_postfix": ") ",
     "delete_cmd_prefix": "rm(",
     "library": "var_list.r",
     "varRefreshCmd": "cat(var_dic_list()) "
    }
   },
   "types_to_exclude": [
    "module",
    "function",
    "builtin_function_or_method",
    "instance",
    "_Feature"
   ],
   "window_display": false
  }
 },
 "nbformat": 4,
 "nbformat_minor": 1
}
