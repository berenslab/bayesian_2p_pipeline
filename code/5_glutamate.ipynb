{
 "cells": [
  {
   "cell_type": "markdown",
   "metadata": {},
   "source": [
    "This notebook provides the plotting functions for Figure 4 a-c, rightmost columns. This is the equality test for functional equality using glutamate responses to local and global chirp."
   ]
  },
  {
   "cell_type": "code",
   "execution_count": 1,
   "metadata": {},
   "outputs": [
    {
     "name": "stderr",
     "output_type": "stream",
     "text": [
      " /usr/local/lib/python3.5/dist-packages/h5py/__init__.py:36: FutureWarning:Conversion of the second argument of issubdtype from `float` to `np.floating` is deprecated. In future, it will be treated as `np.float64 == np.dtype(float).type`.\n"
     ]
    }
   ],
   "source": [
    "%matplotlib inline\n",
    "\n",
    "from datetime import datetime \n",
    "import GPy\n",
    "import h5py\n",
    "import json\n",
    "import matplotlib.pyplot as plt\n",
    "import numpy as np\n",
    "from numpy.random import choice\n",
    "import os\n",
    "import pandas as pd\n",
    "import seaborn as sns"
   ]
  },
  {
   "cell_type": "code",
   "execution_count": 2,
   "metadata": {},
   "outputs": [],
   "source": [
    "from util.load_hdf5 import *\n",
    "from util.zscore import *\n",
    "from util.compute_bounds import *\n",
    "from util.plot_roi import *\n",
    "from util.fill_bounds import *"
   ]
  },
  {
   "cell_type": "code",
   "execution_count": 3,
   "metadata": {},
   "outputs": [],
   "source": [
    "import matplotlib as mpl\n",
    "mpl.rcParams['font.family'] = 'sans-serif'\n",
    "mpl.rcParams['font.sans-serif'] = \"arial\"\n",
    "\n",
    "%config InlineBackend.figure_format = 'png'\n",
    "\n",
    "sns.set_style('white')\n",
    "\n",
    "title_fontsize = 13\n",
    "label_fontsize = 12\n",
    "\n",
    "fig_p = {\n",
    "    'dpi': 600, \n",
    "    'bbox_inches': 'tight'\n",
    "}"
   ]
  },
  {
   "cell_type": "code",
   "execution_count": 4,
   "metadata": {},
   "outputs": [],
   "source": [
    "directories = json.load(open('directories.json'))\n",
    "\n",
    "data_spiral = load_hdf5(directories['data'] + 'SMP_M1_RR2_IPL2OFF_ChirpI.h5')\n",
    "data_spiral_df = pd.read_csv(directories['data'] + 'SMP_M1_RR2_IPL2OFF_ChirpI.csv', index_col = 0)\n",
    "data_spiral_df = data_spiral_df.groupby(['roi', 'frame']).mean().reset_index()"
   ]
  },
  {
   "cell_type": "code",
   "execution_count": 5,
   "metadata": {},
   "outputs": [],
   "source": [
    "zscore_single = lambda ndarray: (ndarray - ndarray.mean()) / ndarray.std()"
   ]
  },
  {
   "cell_type": "raw",
   "metadata": {},
   "source": [
    "data_spiral_df = pd.read_csv(directories['data'] + 'chirp_spiral.csv', index_col = 0)\n",
    "\n",
    "roi = np.unique(data_spiral_df['roi'])[5]\n",
    "\n",
    "traces = data_spiral_df.loc[data_spiral_df['roi'] == roi, 'y']\n",
    "tpnts  = data_spiral_df.loc[data_spiral_df['roi'] == roi, 'x_t']\n",
    "\n",
    "stimulus_duration = 66\n",
    "\n",
    "stimulus_mask = tpnts < (stimulus_duration / 2)\n",
    "traces  = traces[stimulus_mask] \n",
    "traces /= np.diff(np.histogram(traces[::50])[1]).mean()\n",
    "tpnts  = tpnts[stimulus_mask]\n",
    "\n",
    "fig, ax = plt.subplots(1)\n",
    "\n",
    "ax.scatter(tpnts, traces, color = 'k', s = 0.5)\n",
    "\n",
    "y_min, y_max = np.percentile(traces, [0.01, 99.99])\n",
    "ax.set_ylim(y_min, y_max)\n",
    "ax.set_xlim(0, stimulus_duration / 2);\n",
    "plt.tick_params(axis='both', which='major', labelsize='small')\n",
    "ax.set_xlabel('', fontsize=10)\n",
    "ax.set_xticklabels([]);\n",
    "ax.set_yticklabels([]);\n",
    "sns.despine(left = True, bottom = True, ax = ax)\n",
    "ax.set_aspect(1)\n",
    "\n",
    "fig.set_size_inches(2.25, 1.75)\n",
    "\n",
    "plt.savefig(directories['figs'] + 'glutamate/' + 'pre_averaging_points_glu.png', **fig_p)"
   ]
  },
  {
   "cell_type": "code",
   "execution_count": 6,
   "metadata": {
    "scrolled": true
   },
   "outputs": [
    {
     "data": {
      "image/png": "[encoded data removed]",
      "text/plain": [
       "<matplotlib.figure.Figure at 0x7fa6d4fca908>"
      ]
     },
     "metadata": {},
     "output_type": "display_data"
    }
   ],
   "source": [
    "sns.set_style('white')\n",
    "\n",
    "roi = np.unique(data_spiral_df['roi'])[3]\n",
    "\n",
    "traces = data_spiral_df.loc[data_spiral_df['roi'] == roi, 'y']\n",
    "tpnts  = data_spiral_df.loc[data_spiral_df['roi'] == roi, 'x_t']\n",
    "tpnts_warp  = data_spiral_df.loc[data_spiral_df['roi'] == roi, 'x_t_warped']\n",
    "\n",
    "stimulus_duration = 66\n",
    "\n",
    "stimulus_mask = tpnts < (stimulus_duration / 2)\n",
    "traces  = traces[stimulus_mask]\n",
    "tpnts  = tpnts[stimulus_mask]\n",
    "tpnts_warp = tpnts_warp[stimulus_mask]\n",
    "\n",
    "fig, ax = plt.subplots(1)\n",
    "\n",
    "ax.scatter(tpnts, traces, color = 'k', s = 0.5)\n",
    "\n",
    "ax.set_xlim(0, stimulus_duration / 2);\n",
    "ax.set_ylim(-3, 3)\n",
    "plt.tick_params(axis='both', which='major', labelsize='small')\n",
    "ax.set_xlabel('', fontsize=10)\n",
    "ax.set_xticklabels([]);\n",
    "ax.set_yticklabels([]);\n",
    "sns.despine(left = True, bottom = True, ax = ax)\n",
    "\n",
    "fig.set_size_inches(3, 1.5)\n",
    "\n",
    "# plt.tight_layout()\n",
    "\n",
    "plt.savefig(directories['figs'] + 'reconstruct/' + 'raw_data_points_glu.svg', **fig_p)"
   ]
  },
  {
   "cell_type": "code",
   "execution_count": 7,
   "metadata": {},
   "outputs": [],
   "source": [
    "y = traces[:, None]\n",
    "x = tpnts[:, None] #- stimulus_duration / 2"
   ]
  },
  {
   "cell_type": "code",
   "execution_count": 8,
   "metadata": {},
   "outputs": [
    {
     "data": {
      "application/vnd.jupyter.widget-view+json": {
       "model_id": "97101c1cd5e2401390a22c0a82e44ec4",
       "version_major": 2,
       "version_minor": 0
      },
      "text/html": [
       "<p>Failed to display Jupyter Widget of type <code>HBox</code>.</p>\n",
       "<p>\n",
       "  If you're reading this message in the Jupyter Notebook or JupyterLab Notebook, it may mean\n",
       "  that the widgets JavaScript is still loading. If this message persists, it\n",
       "  likely means that the widgets JavaScript library is either not installed or\n",
       "  not enabled. See the <a href=\"https://ipywidgets.readthedocs.io/en/stable/user_install.html\">Jupyter\n",
       "  Widgets Documentation</a> for setup instructions.\n",
       "</p>\n",
       "<p>\n",
       "  If you're reading this message in another frontend (for example, a static\n",
       "  rendering on GitHub or <a href=\"https://nbviewer.jupyter.org/\">NBViewer</a>),\n",
       "  it may mean that your frontend doesn't currently support widgets.\n",
       "</p>\n"
      ],
      "text/plain": [
       "HBox(children=(VBox(children=(IntProgress(value=0, max=25), HTML(value=''))), Box(children=(HTML(value=''),))))"
      ]
     },
     "metadata": {},
     "output_type": "display_data"
    },
    {
     "name": "stdout",
     "output_type": "stream",
     "text": [
      "Optimization restart 1/4, f = 2679.2109383299858\n"
     ]
    },
    {
     "data": {
      "application/vnd.jupyter.widget-view+json": {
       "model_id": "483030b743474c2aad6c374fd3a97160",
       "version_major": 2,
       "version_minor": 0
      },
      "text/html": [
       "<p>Failed to display Jupyter Widget of type <code>HBox</code>.</p>\n",
       "<p>\n",
       "  If you're reading this message in the Jupyter Notebook or JupyterLab Notebook, it may mean\n",
       "  that the widgets JavaScript is still loading. If this message persists, it\n",
       "  likely means that the widgets JavaScript library is either not installed or\n",
       "  not enabled. See the <a href=\"https://ipywidgets.readthedocs.io/en/stable/user_install.html\">Jupyter\n",
       "  Widgets Documentation</a> for setup instructions.\n",
       "</p>\n",
       "<p>\n",
       "  If you're reading this message in another frontend (for example, a static\n",
       "  rendering on GitHub or <a href=\"https://nbviewer.jupyter.org/\">NBViewer</a>),\n",
       "  it may mean that your frontend doesn't currently support widgets.\n",
       "</p>\n"
      ],
      "text/plain": [
       "HBox(children=(VBox(children=(IntProgress(value=0, max=25), HTML(value=''))), Box(children=(HTML(value=''),))))"
      ]
     },
     "metadata": {},
     "output_type": "display_data"
    },
    {
     "name": "stdout",
     "output_type": "stream",
     "text": [
      "Optimization restart 2/4, f = 4293.653098381009\n"
     ]
    },
    {
     "data": {
      "application/vnd.jupyter.widget-view+json": {
       "model_id": "aea129067300442393d577dbb01c0d2f",
       "version_major": 2,
       "version_minor": 0
      },
      "text/html": [
       "<p>Failed to display Jupyter Widget of type <code>HBox</code>.</p>\n",
       "<p>\n",
       "  If you're reading this message in the Jupyter Notebook or JupyterLab Notebook, it may mean\n",
       "  that the widgets JavaScript is still loading. If this message persists, it\n",
       "  likely means that the widgets JavaScript library is either not installed or\n",
       "  not enabled. See the <a href=\"https://ipywidgets.readthedocs.io/en/stable/user_install.html\">Jupyter\n",
       "  Widgets Documentation</a> for setup instructions.\n",
       "</p>\n",
       "<p>\n",
       "  If you're reading this message in another frontend (for example, a static\n",
       "  rendering on GitHub or <a href=\"https://nbviewer.jupyter.org/\">NBViewer</a>),\n",
       "  it may mean that your frontend doesn't currently support widgets.\n",
       "</p>\n"
      ],
      "text/plain": [
       "HBox(children=(VBox(children=(IntProgress(value=0, max=25), HTML(value=''))), Box(children=(HTML(value=''),))))"
      ]
     },
     "metadata": {},
     "output_type": "display_data"
    },
    {
     "name": "stdout",
     "output_type": "stream",
     "text": [
      "Optimization restart 3/4, f = 4253.225562578583\n"
     ]
    },
    {
     "data": {
      "application/vnd.jupyter.widget-view+json": {
       "model_id": "510f8efa16e54dda86faf5301462216f",
       "version_major": 2,
       "version_minor": 0
      },
      "text/html": [
       "<p>Failed to display Jupyter Widget of type <code>HBox</code>.</p>\n",
       "<p>\n",
       "  If you're reading this message in the Jupyter Notebook or JupyterLab Notebook, it may mean\n",
       "  that the widgets JavaScript is still loading. If this message persists, it\n",
       "  likely means that the widgets JavaScript library is either not installed or\n",
       "  not enabled. See the <a href=\"https://ipywidgets.readthedocs.io/en/stable/user_install.html\">Jupyter\n",
       "  Widgets Documentation</a> for setup instructions.\n",
       "</p>\n",
       "<p>\n",
       "  If you're reading this message in another frontend (for example, a static\n",
       "  rendering on GitHub or <a href=\"https://nbviewer.jupyter.org/\">NBViewer</a>),\n",
       "  it may mean that your frontend doesn't currently support widgets.\n",
       "</p>\n"
      ],
      "text/plain": [
       "HBox(children=(VBox(children=(IntProgress(value=0, max=25), HTML(value=''))), Box(children=(HTML(value=''),))))"
      ]
     },
     "metadata": {},
     "output_type": "display_data"
    },
    {
     "name": "stdout",
     "output_type": "stream",
     "text": [
      "Optimization restart 4/4, f = 4293.688833084857\n"
     ]
    },
    {
     "data": {
      "text/plain": [
       "[<paramz.optimization.optimization.opt_lbfgsb at 0x7fa6d4fb85c0>,\n",
       " <paramz.optimization.optimization.opt_lbfgsb at 0x7fa6d2fa9668>,\n",
       " <paramz.optimization.optimization.opt_lbfgsb at 0x7fa7506980f0>,\n",
       " <paramz.optimization.optimization.opt_lbfgsb at 0x7fa6d4fbdba8>]"
      ]
     },
     "execution_count": 8,
     "metadata": {},
     "output_type": "execute_result"
    }
   ],
   "source": [
    "m1 = GPy.models.SparseGPRegression(\n",
    "    x,\n",
    "    y,\n",
    "    num_inducing = 300,\n",
    "    kernel = GPy.kern.RBF(1)\n",
    ")\n",
    "\n",
    "m1.optimize_restarts(4, messages = True, max_iters = 25)"
   ]
  },
  {
   "cell_type": "code",
   "execution_count": 9,
   "metadata": {},
   "outputs": [],
   "source": [
    "x_new = np.linspace(0, stimulus_duration / 2, 33 * 24)[:, None]\n",
    "\n",
    "mu, sig = m1.predict(x_new, include_likelihood = False)\n",
    "_, sig_outer = m1.predict(x_new, include_likelihood = True)"
   ]
  },
  {
   "cell_type": "code",
   "execution_count": 10,
   "metadata": {},
   "outputs": [
    {
     "data": {
      "image/png": "[encoded data removed]",
      "text/plain": [
       "<matplotlib.figure.Figure at 0x7fa6d2ef27f0>"
      ]
     },
     "metadata": {},
     "output_type": "display_data"
    }
   ],
   "source": [
    "sns.set_style('white')\n",
    "\n",
    "fig, ax = plt.subplots(1)\n",
    "\n",
    "ax.plot(x_new, mu, color = 'k', linewidth = 0.5)\n",
    "\n",
    "upper, lower = compute_bounds(mu, sig, n_sigma = 3)\n",
    "  \n",
    "ax.fill_between(\n",
    "    x_new[:, 0], \n",
    "    upper[:, 0], \n",
    "    lower[:, 0], \n",
    "    facecolor = 'k',\n",
    "    alpha = 0.33\n",
    ")\n",
    "\n",
    "upper, lower = compute_bounds(mu, sig_outer, n_sigma = 3)\n",
    "  \n",
    "ax.fill_between(\n",
    "    x_new[:, 0], \n",
    "    upper[:, 0], \n",
    "    lower[:, 0], \n",
    "    facecolor = 'k',\n",
    "    alpha = 0.1\n",
    ")\n",
    "\n",
    "ax.set_xlim(0, stimulus_duration / 2);\n",
    "ax.set_ylim(-3, 4);\n",
    "plt.tick_params(axis='both', which='major', labelsize='small')\n",
    "ax.set_xlabel('', fontsize=10)\n",
    "ax.set_xticklabels([]);\n",
    "ax.set_yticklabels([]);\n",
    "sns.despine(left = True, bottom = True, ax = ax)\n",
    "ax.set_aspect(2)\n",
    "\n",
    "fig.set_size_inches(3, 1.5)\n",
    "\n",
    "plt.savefig(directories['figs'] + 'reconstruct/' + 'fitted_gaussian_process_glu.svg', **fig_p)"
   ]
  },
  {
   "cell_type": "code",
   "execution_count": 11,
   "metadata": {
    "collapsed": true
   },
   "outputs": [
    {
     "data": {
      "application/vnd.jupyter.widget-view+json": {
       "model_id": "91396ca4ad084878ae824d55d3e57633",
       "version_major": 2,
       "version_minor": 0
      },
      "text/html": [
       "<p>Failed to display Jupyter Widget of type <code>HBox</code>.</p>\n",
       "<p>\n",
       "  If you're reading this message in the Jupyter Notebook or JupyterLab Notebook, it may mean\n",
       "  that the widgets JavaScript is still loading. If this message persists, it\n",
       "  likely means that the widgets JavaScript library is either not installed or\n",
       "  not enabled. See the <a href=\"https://ipywidgets.readthedocs.io/en/stable/user_install.html\">Jupyter\n",
       "  Widgets Documentation</a> for setup instructions.\n",
       "</p>\n",
       "<p>\n",
       "  If you're reading this message in another frontend (for example, a static\n",
       "  rendering on GitHub or <a href=\"https://nbviewer.jupyter.org/\">NBViewer</a>),\n",
       "  it may mean that your frontend doesn't currently support widgets.\n",
       "</p>\n"
      ],
      "text/plain": [
       "HBox(children=(VBox(children=(IntProgress(value=0, max=20), HTML(value=''))), Box(children=(HTML(value=''),))))"
      ]
     },
     "metadata": {},
     "output_type": "display_data"
    },
    {
     "name": "stdout",
     "output_type": "stream",
     "text": [
      "Optimization restart 1/4, f = 2907.2205177244887\n"
     ]
    },
    {
     "data": {
      "application/vnd.jupyter.widget-view+json": {
       "model_id": "38e84c7ee47044bd84dd85a641cdea6e",
       "version_major": 2,
       "version_minor": 0
      },
      "text/html": [
       "<p>Failed to display Jupyter Widget of type <code>HBox</code>.</p>\n",
       "<p>\n",
       "  If you're reading this message in the Jupyter Notebook or JupyterLab Notebook, it may mean\n",
       "  that the widgets JavaScript is still loading. If this message persists, it\n",
       "  likely means that the widgets JavaScript library is either not installed or\n",
       "  not enabled. See the <a href=\"https://ipywidgets.readthedocs.io/en/stable/user_install.html\">Jupyter\n",
       "  Widgets Documentation</a> for setup instructions.\n",
       "</p>\n",
       "<p>\n",
       "  If you're reading this message in another frontend (for example, a static\n",
       "  rendering on GitHub or <a href=\"https://nbviewer.jupyter.org/\">NBViewer</a>),\n",
       "  it may mean that your frontend doesn't currently support widgets.\n",
       "</p>\n"
      ],
      "text/plain": [
       "HBox(children=(VBox(children=(IntProgress(value=0, max=20), HTML(value=''))), Box(children=(HTML(value=''),))))"
      ]
     },
     "metadata": {},
     "output_type": "display_data"
    },
    {
     "name": "stdout",
     "output_type": "stream",
     "text": [
      "Optimization restart 2/4, f = 4188.532742844549\n"
     ]
    },
    {
     "data": {
      "application/vnd.jupyter.widget-view+json": {
       "model_id": "2a290124d0104b41bd16200abb00fb0f",
       "version_major": 2,
       "version_minor": 0
      },
      "text/html": [
       "<p>Failed to display Jupyter Widget of type <code>HBox</code>.</p>\n",
       "<p>\n",
       "  If you're reading this message in the Jupyter Notebook or JupyterLab Notebook, it may mean\n",
       "  that the widgets JavaScript is still loading. If this message persists, it\n",
       "  likely means that the widgets JavaScript library is either not installed or\n",
       "  not enabled. See the <a href=\"https://ipywidgets.readthedocs.io/en/stable/user_install.html\">Jupyter\n",
       "  Widgets Documentation</a> for setup instructions.\n",
       "</p>\n",
       "<p>\n",
       "  If you're reading this message in another frontend (for example, a static\n",
       "  rendering on GitHub or <a href=\"https://nbviewer.jupyter.org/\">NBViewer</a>),\n",
       "  it may mean that your frontend doesn't currently support widgets.\n",
       "</p>\n"
      ],
      "text/plain": [
       "HBox(children=(VBox(children=(IntProgress(value=0, max=20), HTML(value=''))), Box(children=(HTML(value=''),))))"
      ]
     },
     "metadata": {},
     "output_type": "display_data"
    },
    {
     "name": "stdout",
     "output_type": "stream",
     "text": [
      "Optimization restart 3/4, f = 4217.531553664974\n"
     ]
    },
    {
     "data": {
      "application/vnd.jupyter.widget-view+json": {
       "model_id": "23ee1e052dc34bc2b96fa4f308ade09f",
       "version_major": 2,
       "version_minor": 0
      },
      "text/html": [
       "<p>Failed to display Jupyter Widget of type <code>HBox</code>.</p>\n",
       "<p>\n",
       "  If you're reading this message in the Jupyter Notebook or JupyterLab Notebook, it may mean\n",
       "  that the widgets JavaScript is still loading. If this message persists, it\n",
       "  likely means that the widgets JavaScript library is either not installed or\n",
       "  not enabled. See the <a href=\"https://ipywidgets.readthedocs.io/en/stable/user_install.html\">Jupyter\n",
       "  Widgets Documentation</a> for setup instructions.\n",
       "</p>\n",
       "<p>\n",
       "  If you're reading this message in another frontend (for example, a static\n",
       "  rendering on GitHub or <a href=\"https://nbviewer.jupyter.org/\">NBViewer</a>),\n",
       "  it may mean that your frontend doesn't currently support widgets.\n",
       "</p>\n"
      ],
      "text/plain": [
       "HBox(children=(VBox(children=(IntProgress(value=0, max=20), HTML(value=''))), Box(children=(HTML(value=''),))))"
      ]
     },
     "metadata": {},
     "output_type": "display_data"
    },
    {
     "name": "stdout",
     "output_type": "stream",
     "text": [
      "Optimization restart 4/4, f = 4202.090979226047\n"
     ]
    },
    {
     "data": {
      "text/plain": [
       "[<paramz.optimization.optimization.opt_lbfgsb at 0x7fa6d2f1c0f0>,\n",
       " <paramz.optimization.optimization.opt_lbfgsb at 0x7fa6d4fb87f0>,\n",
       " <paramz.optimization.optimization.opt_lbfgsb at 0x7fa750698780>,\n",
       " <paramz.optimization.optimization.opt_lbfgsb at 0x7fa6bf659908>]"
      ]
     },
     "execution_count": 11,
     "metadata": {},
     "output_type": "execute_result"
    }
   ],
   "source": [
    "y = traces[:, None]\n",
    "X = tpnts_warp[:, None]\n",
    "\n",
    "m2 = GPy.models.SparseGPRegression(\n",
    "    X,\n",
    "    y,\n",
    "    num_inducing = 300,\n",
    "    kernel = GPy.kern.RBF(1)\n",
    ")\n",
    "\n",
    "m2.optimize_restarts(4, messages = False, max_iters = 20)"
   ]
  },
  {
   "cell_type": "code",
   "execution_count": 12,
   "metadata": {},
   "outputs": [],
   "source": [
    "from sklearn.isotonic import IsotonicRegression\n",
    "\n",
    "iso_reg = IsotonicRegression()\n",
    "stimulus_mask = data_spiral_df['x_t'] < 33\n",
    "iso_reg.fit(data_spiral_df['x_t_warped'][stimulus_mask], data_spiral_df['x_t'][stimulus_mask])\n",
    "\n",
    "n_tpnts = 32 * 20\n",
    "x_new = np.linspace(data_spiral_df['x_t'].min(), data_spiral_df['x_t'].max() / 2, n_tpnts)\n",
    "x_new_unwarp = iso_reg.transform(x_new)\n",
    "\n",
    "mu, sig = m2.predict(x_new[:, None], include_likelihood = False)\n",
    "_, sig_outer = m2.predict(x_new[:, None], include_likelihood = True)"
   ]
  },
  {
   "cell_type": "code",
   "execution_count": 13,
   "metadata": {},
   "outputs": [
    {
     "data": {
      "image/png": "[encoded data removed]",
      "text/plain": [
       "<matplotlib.figure.Figure at 0x7fa6bef13898>"
      ]
     },
     "metadata": {},
     "output_type": "display_data"
    }
   ],
   "source": [
    "sns.set_style('white')\n",
    "\n",
    "fig, ax = plt.subplots(1)\n",
    "\n",
    "ax.plot(x_new_unwarp, mu, color = 'k', linewidth = 0.5)\n",
    "\n",
    "upper, lower = compute_bounds(mu, sig, n_sigma = 3)\n",
    "  \n",
    "ax.fill_between(\n",
    "    x_new_unwarp, \n",
    "    upper[:, 0], \n",
    "    lower[:, 0], \n",
    "    facecolor = 'k',\n",
    "    alpha = 0.33\n",
    ")\n",
    "\n",
    "upper, lower = compute_bounds(mu, sig_outer, n_sigma = 3)\n",
    "  \n",
    "ax.fill_between(\n",
    "    x_new_unwarp, \n",
    "    upper[:, 0], \n",
    "    lower[:, 0], \n",
    "    facecolor = 'k',\n",
    "    alpha = 0.1\n",
    ")\n",
    "\n",
    "ax.set_xlim(0, 32);\n",
    "ax.set_ylim(-3, 4);\n",
    "plt.tick_params(axis='both', which='major', labelsize='small')\n",
    "ax.set_xlabel('', fontsize=10)\n",
    "ax.set_xticklabels([]);\n",
    "ax.set_yticklabels([]);\n",
    "sns.despine(left = True, bottom = True, ax = ax)\n",
    "ax.set_aspect(2)\n",
    "\n",
    "fig.set_size_inches(3, 1.5)\n",
    "\n",
    "plt.savefig(directories['figs'] + 'reconstruct/' + 'fitted_gaussian_process_glu_warp.svg', **fig_p)"
   ]
  },
  {
   "cell_type": "code",
   "execution_count": 17,
   "metadata": {
    "scrolled": false
   },
   "outputs": [
    {
     "name": "stderr",
     "output_type": "stream",
     "text": [
      " /usr/local/lib/python3.5/dist-packages/GPy/core/gp.py:590: RuntimeWarning:covariance is not positive-semidefinite.\n"
     ]
    }
   ],
   "source": [
    "# x_new = np.linspace(0, stimulus_duration / 2, 33 * 16)[:, None]\n",
    "n_samples = 5\n",
    "mu_post = m1.posterior_samples_f(x_new[:, None], size = n_samples)"
   ]
  },
  {
   "cell_type": "code",
   "execution_count": 18,
   "metadata": {},
   "outputs": [
    {
     "data": {
      "image/png": "[encoded data removed]",
      "text/plain": [
       "<matplotlib.figure.Figure at 0x7fa6bef43f28>"
      ]
     },
     "metadata": {},
     "output_type": "display_data"
    }
   ],
   "source": [
    "sns.set_style('ticks')\n",
    "\n",
    "fig, ax = plt.subplots(1)\n",
    "\n",
    "sample_colors = sns.color_palette('hls', n_samples)\n",
    "\n",
    "offset = 0\n",
    "\n",
    "for itx in range(n_samples):\n",
    "    ax.plot(x_new, mu_post[:, itx] + itx * offset, color = 'k', alpha = 0.5, linewidth = 0.5)\n",
    "    \n",
    "ax.set_xlim(0, 32);\n",
    "ax.set_ylim(-2, 4);\n",
    "plt.tick_params(axis='both', which='major', labelsize='small')\n",
    "ax.set_xlabel('Time(s)', fontsize=10)\n",
    "ax.set_yticklabels([]);\n",
    "plt.xticks([0, 8, 16, 24, 32])\n",
    "sns.despine(left = True, ax = ax)\n",
    "ax.get_yaxis().set_visible(False)\n",
    "# ax.set_aspect(2)\n",
    "\n",
    "fig.set_size_inches(3, 1.5)\n",
    "\n",
    "plt.savefig(directories['figs'] + 'reconstruct/' + 'posterior_samples_glu.svg', **fig_p)"
   ]
  },
  {
   "cell_type": "code",
   "execution_count": 19,
   "metadata": {},
   "outputs": [
    {
     "data": {
      "image/png": "[encoded data removed]",
      "text/plain": [
       "<matplotlib.figure.Figure at 0x7fa6bf685860>"
      ]
     },
     "metadata": {},
     "output_type": "display_data"
    }
   ],
   "source": [
    "sns.set_style('white')\n",
    "\n",
    "stimulus = load_hdf5(directories['misc'] + 'chirp.h5')['chirp']\n",
    "stimulus_range = stimulus.max() - stimulus.min()\n",
    "\n",
    "stimulus_time = np.linspace(0, 32, stimulus.shape[0])\n",
    "\n",
    "fig, ax = plt.subplots(1)\n",
    "\n",
    "ax.plot(stimulus_time, zscore(stimulus, single = False), color = 'k', linewidth = 0.5)\n",
    "\n",
    "sns.despine(left = True, bottom = True, ax = ax)\n",
    "plt.tick_params(axis='both', which='major', labelsize='small')\n",
    "\n",
    "ax.set_xticklabels([]);\n",
    "ax.set_yticklabels([]);\n",
    "ax.set_xlim(0, 32)\n",
    "# ax.set_aspect(1)\n",
    "\n",
    "fig.set_size_inches(3, 0.75)\n",
    "\n",
    "plt.savefig(directories['figs'] + 'reconstruct/' + 'chirp_stimulus_glu.svg', **fig_p)"
   ]
  },
  {
   "cell_type": "code",
   "execution_count": 23,
   "metadata": {},
   "outputs": [
    {
     "data": {
      "image/png": "[encoded data removed]",
      "text/plain": [
       "<matplotlib.figure.Figure at 0x7fa6bedc0780>"
      ]
     },
     "metadata": {},
     "output_type": "display_data"
    }
   ],
   "source": [
    "sns.set_style('white')\n",
    "\n",
    "i_roi = 1\n",
    "\n",
    "trace_mean = zscore(data_spiral['Snippets0'][:, :, i_roi], single = False).mean(axis = 1)\n",
    "trace_std = zscore(data_spiral['Snippets0'][:, :, i_roi], single = False).std()\n",
    "trace_time = data_spiral['SnippetsTimes0'][:, 0, i_roi]\n",
    "trace_time -= trace_time.min()\n",
    "\n",
    "fig, ax = plt.subplots(1)\n",
    "\n",
    "ax.plot(trace_time, trace_mean, color = 'k', linewidth = 0.5)\n",
    "\n",
    "ax.fill_between(\n",
    "    trace_time,\n",
    "    trace_mean + 2 * trace_std, \n",
    "    trace_mean - 2 * trace_std, \n",
    "    facecolor = 'k',\n",
    "    alpha = 0.16\n",
    ")\n",
    "\n",
    "sns.despine(left = True, ax = ax)\n",
    "ax.set_xlim(0, 66)\n",
    "plt.tick_params(axis='both', which='major', labelsize='small')\n",
    "ax.set_xlabel('', fontsize=10)\n",
    "ax.set_xticklabels([]);\n",
    "ax.set_yticklabels([]);\n",
    "sns.despine(left = True, bottom = True, ax = ax)\n",
    "# ax.set_aspect(1)\n",
    "\n",
    "fig.set_size_inches(3, 1.5)\n",
    "\n",
    "plt.savefig(directories['figs'] + 'reconstruct/' + 'mean_trace_glu.svg', **fig_p)"
   ]
  },
  {
   "cell_type": "code",
   "execution_count": 91,
   "metadata": {},
   "outputs": [],
   "source": [
    "roi = np.unique(data_spiral_df['roi'])[0]\n",
    "\n",
    "traces = data_spiral_df.loc[data_spiral_df['roi'] == roi, 'y']\n",
    "tpnts  = data_spiral_df.loc[data_spiral_df['roi'] == roi, 'x_t']\n",
    "tpnts_warp  = data_spiral_df.loc[data_spiral_df['roi'] == roi, 'x_t_warped']\n",
    "\n",
    "stimulus_duration = 66\n",
    "\n",
    "stimulus_mask = tpnts > (stimulus_duration / 2)\n",
    "\n",
    "global_traces  = traces[stimulus_mask]\n",
    "global_tpnts  = tpnts[stimulus_mask]\n",
    "global_tpnts_warp = tpnts_warp[stimulus_mask]\n",
    "\n",
    "local_traces  = traces[~stimulus_mask]\n",
    "local_tpnts  = tpnts[~stimulus_mask]\n",
    "local_tpnts_warp = tpnts_warp[~stimulus_mask]"
   ]
  },
  {
   "cell_type": "code",
   "execution_count": 92,
   "metadata": {
    "scrolled": true
   },
   "outputs": [
    {
     "data": {
      "image/png": "[encoded data removed]",
      "text/plain": [
       "<matplotlib.figure.Figure at 0x7fa6be3f7f60>"
      ]
     },
     "metadata": {},
     "output_type": "display_data"
    }
   ],
   "source": [
    "fig, ax = plt.subplots(1)\n",
    "\n",
    "sample_colors = sns.color_palette('hls', n_samples)\n",
    "\n",
    "offset = 0\n",
    "\n",
    "for itx in range(n_samples):\n",
    "    ax.plot(x_new, mu_post[:, itx] + itx * offset, color = 'b', alpha = 0.5, linewidth = 0.5)\n",
    "    \n",
    "ax.set_xlim(0, 32)\n",
    "plt.xticks([0, 8, 16, 24, 32])\n",
    "plt.tick_params(axis = 'both', which = 'major', labelsize = 'medium')\n",
    "ax.set_xlabel('Time (s)', fontsize = 10)\n",
    "ax.set_yticklabels([]);\n",
    "ax.get_yaxis().set_visible(False)\n",
    "sns.despine(ax = ax, left = True)\n",
    "ax.set_ylim(-3, 3)\n",
    "\n",
    "fig.set_size_inches(2.8, 1.5)\n",
    "\n",
    "plt.savefig(directories['figs'] + 'warping/' + 'warped_gp_samples.svg', dpi = 300)"
   ]
  },
  {
   "cell_type": "code",
   "execution_count": 93,
   "metadata": {},
   "outputs": [
    {
     "data": {
      "application/vnd.jupyter.widget-view+json": {
       "model_id": "3c1630e19fcb423cbc9ed4a6e8885d10",
       "version_major": 2,
       "version_minor": 0
      },
      "text/html": [
       "<p>Failed to display Jupyter Widget of type <code>HBox</code>.</p>\n",
       "<p>\n",
       "  If you're reading this message in the Jupyter Notebook or JupyterLab Notebook, it may mean\n",
       "  that the widgets JavaScript is still loading. If this message persists, it\n",
       "  likely means that the widgets JavaScript library is either not installed or\n",
       "  not enabled. See the <a href=\"https://ipywidgets.readthedocs.io/en/stable/user_install.html\">Jupyter\n",
       "  Widgets Documentation</a> for setup instructions.\n",
       "</p>\n",
       "<p>\n",
       "  If you're reading this message in another frontend (for example, a static\n",
       "  rendering on GitHub or <a href=\"https://nbviewer.jupyter.org/\">NBViewer</a>),\n",
       "  it may mean that your frontend doesn't currently support widgets.\n",
       "</p>\n"
      ],
      "text/plain": [
       "HBox(children=(VBox(children=(IntProgress(value=0, max=25), HTML(value=''))), Box(children=(HTML(value=''),))))"
      ]
     },
     "metadata": {},
     "output_type": "display_data"
    },
    {
     "name": "stdout",
     "output_type": "stream",
     "text": [
      "Optimization restart 1/4, f = 2795.6464913786835\n"
     ]
    },
    {
     "data": {
      "application/vnd.jupyter.widget-view+json": {
       "model_id": "f3eccbb0a38b4fe98aac1c758a104297",
       "version_major": 2,
       "version_minor": 0
      },
      "text/html": [
       "<p>Failed to display Jupyter Widget of type <code>HBox</code>.</p>\n",
       "<p>\n",
       "  If you're reading this message in the Jupyter Notebook or JupyterLab Notebook, it may mean\n",
       "  that the widgets JavaScript is still loading. If this message persists, it\n",
       "  likely means that the widgets JavaScript library is either not installed or\n",
       "  not enabled. See the <a href=\"https://ipywidgets.readthedocs.io/en/stable/user_install.html\">Jupyter\n",
       "  Widgets Documentation</a> for setup instructions.\n",
       "</p>\n",
       "<p>\n",
       "  If you're reading this message in another frontend (for example, a static\n",
       "  rendering on GitHub or <a href=\"https://nbviewer.jupyter.org/\">NBViewer</a>),\n",
       "  it may mean that your frontend doesn't currently support widgets.\n",
       "</p>\n"
      ],
      "text/plain": [
       "HBox(children=(VBox(children=(IntProgress(value=0, max=25), HTML(value=''))), Box(children=(HTML(value=''),))))"
      ]
     },
     "metadata": {},
     "output_type": "display_data"
    },
    {
     "name": "stdout",
     "output_type": "stream",
     "text": [
      "Optimization restart 2/4, f = 3052.0523802481075\n"
     ]
    },
    {
     "data": {
      "application/vnd.jupyter.widget-view+json": {
       "model_id": "22f8760694bd42c28189cfcd4f4ef4c8",
       "version_major": 2,
       "version_minor": 0
      },
      "text/html": [
       "<p>Failed to display Jupyter Widget of type <code>HBox</code>.</p>\n",
       "<p>\n",
       "  If you're reading this message in the Jupyter Notebook or JupyterLab Notebook, it may mean\n",
       "  that the widgets JavaScript is still loading. If this message persists, it\n",
       "  likely means that the widgets JavaScript library is either not installed or\n",
       "  not enabled. See the <a href=\"https://ipywidgets.readthedocs.io/en/stable/user_install.html\">Jupyter\n",
       "  Widgets Documentation</a> for setup instructions.\n",
       "</p>\n",
       "<p>\n",
       "  If you're reading this message in another frontend (for example, a static\n",
       "  rendering on GitHub or <a href=\"https://nbviewer.jupyter.org/\">NBViewer</a>),\n",
       "  it may mean that your frontend doesn't currently support widgets.\n",
       "</p>\n"
      ],
      "text/plain": [
       "HBox(children=(VBox(children=(IntProgress(value=0, max=25), HTML(value=''))), Box(children=(HTML(value=''),))))"
      ]
     },
     "metadata": {},
     "output_type": "display_data"
    },
    {
     "name": "stdout",
     "output_type": "stream",
     "text": [
      "Optimization restart 3/4, f = 3039.9090521541266\n"
     ]
    },
    {
     "data": {
      "application/vnd.jupyter.widget-view+json": {
       "model_id": "6d9baafb6e4842949adb23a26d1006f7",
       "version_major": 2,
       "version_minor": 0
      },
      "text/html": [
       "<p>Failed to display Jupyter Widget of type <code>HBox</code>.</p>\n",
       "<p>\n",
       "  If you're reading this message in the Jupyter Notebook or JupyterLab Notebook, it may mean\n",
       "  that the widgets JavaScript is still loading. If this message persists, it\n",
       "  likely means that the widgets JavaScript library is either not installed or\n",
       "  not enabled. See the <a href=\"https://ipywidgets.readthedocs.io/en/stable/user_install.html\">Jupyter\n",
       "  Widgets Documentation</a> for setup instructions.\n",
       "</p>\n",
       "<p>\n",
       "  If you're reading this message in another frontend (for example, a static\n",
       "  rendering on GitHub or <a href=\"https://nbviewer.jupyter.org/\">NBViewer</a>),\n",
       "  it may mean that your frontend doesn't currently support widgets.\n",
       "</p>\n"
      ],
      "text/plain": [
       "HBox(children=(VBox(children=(IntProgress(value=0, max=25), HTML(value=''))), Box(children=(HTML(value=''),))))"
      ]
     },
     "metadata": {},
     "output_type": "display_data"
    },
    {
     "name": "stdout",
     "output_type": "stream",
     "text": [
      "Optimization restart 4/4, f = 3047.405588118654\n"
     ]
    },
    {
     "data": {
      "application/vnd.jupyter.widget-view+json": {
       "model_id": "f8a7789c507048c998dd088e2b71b79a",
       "version_major": 2,
       "version_minor": 0
      },
      "text/html": [
       "<p>Failed to display Jupyter Widget of type <code>HBox</code>.</p>\n",
       "<p>\n",
       "  If you're reading this message in the Jupyter Notebook or JupyterLab Notebook, it may mean\n",
       "  that the widgets JavaScript is still loading. If this message persists, it\n",
       "  likely means that the widgets JavaScript library is either not installed or\n",
       "  not enabled. See the <a href=\"https://ipywidgets.readthedocs.io/en/stable/user_install.html\">Jupyter\n",
       "  Widgets Documentation</a> for setup instructions.\n",
       "</p>\n",
       "<p>\n",
       "  If you're reading this message in another frontend (for example, a static\n",
       "  rendering on GitHub or <a href=\"https://nbviewer.jupyter.org/\">NBViewer</a>),\n",
       "  it may mean that your frontend doesn't currently support widgets.\n",
       "</p>\n"
      ],
      "text/plain": [
       "HBox(children=(VBox(children=(IntProgress(value=0, max=25), HTML(value=''))), Box(children=(HTML(value=''),))))"
      ]
     },
     "metadata": {},
     "output_type": "display_data"
    },
    {
     "name": "stdout",
     "output_type": "stream",
     "text": [
      "Optimization restart 1/4, f = 2799.276135515322\n"
     ]
    },
    {
     "data": {
      "application/vnd.jupyter.widget-view+json": {
       "model_id": "b6da8a59fd784d0b871f0137b3cda45d",
       "version_major": 2,
       "version_minor": 0
      },
      "text/html": [
       "<p>Failed to display Jupyter Widget of type <code>HBox</code>.</p>\n",
       "<p>\n",
       "  If you're reading this message in the Jupyter Notebook or JupyterLab Notebook, it may mean\n",
       "  that the widgets JavaScript is still loading. If this message persists, it\n",
       "  likely means that the widgets JavaScript library is either not installed or\n",
       "  not enabled. See the <a href=\"https://ipywidgets.readthedocs.io/en/stable/user_install.html\">Jupyter\n",
       "  Widgets Documentation</a> for setup instructions.\n",
       "</p>\n",
       "<p>\n",
       "  If you're reading this message in another frontend (for example, a static\n",
       "  rendering on GitHub or <a href=\"https://nbviewer.jupyter.org/\">NBViewer</a>),\n",
       "  it may mean that your frontend doesn't currently support widgets.\n",
       "</p>\n"
      ],
      "text/plain": [
       "HBox(children=(VBox(children=(IntProgress(value=0, max=25), HTML(value=''))), Box(children=(HTML(value=''),))))"
      ]
     },
     "metadata": {},
     "output_type": "display_data"
    },
    {
     "name": "stdout",
     "output_type": "stream",
     "text": [
      "Optimization restart 2/4, f = 4025.939861247662\n"
     ]
    },
    {
     "data": {
      "application/vnd.jupyter.widget-view+json": {
       "model_id": "f241008ae29c4210be467f93e278ab68",
       "version_major": 2,
       "version_minor": 0
      },
      "text/html": [
       "<p>Failed to display Jupyter Widget of type <code>HBox</code>.</p>\n",
       "<p>\n",
       "  If you're reading this message in the Jupyter Notebook or JupyterLab Notebook, it may mean\n",
       "  that the widgets JavaScript is still loading. If this message persists, it\n",
       "  likely means that the widgets JavaScript library is either not installed or\n",
       "  not enabled. See the <a href=\"https://ipywidgets.readthedocs.io/en/stable/user_install.html\">Jupyter\n",
       "  Widgets Documentation</a> for setup instructions.\n",
       "</p>\n",
       "<p>\n",
       "  If you're reading this message in another frontend (for example, a static\n",
       "  rendering on GitHub or <a href=\"https://nbviewer.jupyter.org/\">NBViewer</a>),\n",
       "  it may mean that your frontend doesn't currently support widgets.\n",
       "</p>\n"
      ],
      "text/plain": [
       "HBox(children=(VBox(children=(IntProgress(value=0, max=25), HTML(value=''))), Box(children=(HTML(value=''),))))"
      ]
     },
     "metadata": {},
     "output_type": "display_data"
    },
    {
     "name": "stdout",
     "output_type": "stream",
     "text": [
      "Optimization restart 3/4, f = 4039.5913587921814\n"
     ]
    },
    {
     "data": {
      "application/vnd.jupyter.widget-view+json": {
       "model_id": "09224bcd323842f3a09e3fe72fadf99a",
       "version_major": 2,
       "version_minor": 0
      },
      "text/html": [
       "<p>Failed to display Jupyter Widget of type <code>HBox</code>.</p>\n",
       "<p>\n",
       "  If you're reading this message in the Jupyter Notebook or JupyterLab Notebook, it may mean\n",
       "  that the widgets JavaScript is still loading. If this message persists, it\n",
       "  likely means that the widgets JavaScript library is either not installed or\n",
       "  not enabled. See the <a href=\"https://ipywidgets.readthedocs.io/en/stable/user_install.html\">Jupyter\n",
       "  Widgets Documentation</a> for setup instructions.\n",
       "</p>\n",
       "<p>\n",
       "  If you're reading this message in another frontend (for example, a static\n",
       "  rendering on GitHub or <a href=\"https://nbviewer.jupyter.org/\">NBViewer</a>),\n",
       "  it may mean that your frontend doesn't currently support widgets.\n",
       "</p>\n"
      ],
      "text/plain": [
       "HBox(children=(VBox(children=(IntProgress(value=0, max=25), HTML(value=''))), Box(children=(HTML(value=''),))))"
      ]
     },
     "metadata": {},
     "output_type": "display_data"
    },
    {
     "name": "stdout",
     "output_type": "stream",
     "text": [
      "Optimization restart 4/4, f = 4055.513027130617\n"
     ]
    },
    {
     "data": {
      "text/plain": [
       "[<paramz.optimization.optimization.opt_lbfgsb at 0x7fa6bef13048>,\n",
       " <paramz.optimization.optimization.opt_lbfgsb at 0x7fa6be38c0b8>,\n",
       " <paramz.optimization.optimization.opt_lbfgsb at 0x7fa6be340da0>,\n",
       " <paramz.optimization.optimization.opt_lbfgsb at 0x7fa6be318cf8>]"
      ]
     },
     "execution_count": 93,
     "metadata": {},
     "output_type": "execute_result"
    }
   ],
   "source": [
    "y = global_traces[:, None]\n",
    "X = global_tpnts_warp[:, None]\n",
    "\n",
    "m_global = GPy.models.SparseGPRegression(\n",
    "    X,\n",
    "    y,\n",
    "    num_inducing = 300,\n",
    "    kernel = GPy.kern.RBF(1)\n",
    ")\n",
    "\n",
    "m_global.optimize_restarts(4, messages = True, max_iters = 25)\n",
    "\n",
    "y = local_traces[:, None]\n",
    "X = local_tpnts_warp[:, None]\n",
    "\n",
    "m_local = GPy.models.SparseGPRegression(\n",
    "    X,\n",
    "    y,\n",
    "    num_inducing = 300,\n",
    "    kernel = GPy.kern.RBF(1)\n",
    ")\n",
    "\n",
    "m_local.optimize_restarts(4, messages = True, max_iters = 25)"
   ]
  },
  {
   "cell_type": "code",
   "execution_count": 94,
   "metadata": {},
   "outputs": [],
   "source": [
    "mu_local, sig_local = m_local.predict(x_new[:, None], include_likelihood = False)\n",
    "_, sig_local_outer = m_local.predict(x_new[:, None], include_likelihood = True)\n",
    "\n",
    "mu_global, sig_global = m_global.predict(x_new[:, None], include_likelihood = False)\n",
    "_, sig_global_outer = m_global.predict(x_new[:, None], include_likelihood = True)"
   ]
  },
  {
   "cell_type": "code",
   "execution_count": 95,
   "metadata": {
    "scrolled": false
   },
   "outputs": [
    {
     "data": {
      "image/png": "[encoded data removed]",
      "text/plain": [
       "<matplotlib.figure.Figure at 0x7fa6be445198>"
      ]
     },
     "metadata": {},
     "output_type": "display_data"
    }
   ],
   "source": [
    "fig, ax = plt.subplots(1)\n",
    "\n",
    "ax.plot(x_new_unwarp, mu_local, color = 'r', linewidth = 0.5)\n",
    "upper, lower = compute_bounds(mu_local, sig_local, n_sigma = 2)\n",
    "ax.fill_between(x_new_unwarp, upper[:, 0], lower[:, 0], facecolor = 'r', alpha = 0.33)\n",
    "upper, lower = compute_bounds(mu_local, sig_local_outer, n_sigma = 2)\n",
    "ax.fill_between(x_new_unwarp, upper[:, 0], lower[:, 0], facecolor = 'r', alpha = 0.16)\n",
    "\n",
    "ax.set_xlim(0, 32)\n",
    "plt.xticks([0, 8, 16, 24, 32])\n",
    "plt.tick_params(axis = 'both', which = 'major', labelsize = 'medium')\n",
    "ax.set_xlabel('Time (s)', fontsize = 10)\n",
    "ax.set_yticklabels([]);\n",
    "ax.get_yaxis().set_visible(False)\n",
    "sns.despine(ax = ax, left = True)\n",
    "ax.set_ylim(-3, 3)\n",
    "\n",
    "fig.set_size_inches(2, 1)\n",
    "\n",
    "plt.savefig(directories['figs'] + 'glutamate/' + 'warped_gp_local.svg', dpi = 300)"
   ]
  },
  {
   "cell_type": "code",
   "execution_count": 96,
   "metadata": {},
   "outputs": [
    {
     "data": {
      "image/png": "[encoded data removed]",
      "text/plain": [
       "<matplotlib.figure.Figure at 0x7fa6be351eb8>"
      ]
     },
     "metadata": {},
     "output_type": "display_data"
    }
   ],
   "source": [
    "fig, ax = plt.subplots(1)\n",
    "\n",
    "ax.plot(x_new_unwarp, mu_global, color = 'b', linewidth = 0.5)\n",
    "upper, lower = compute_bounds(mu_global, sig_global, n_sigma = 2)\n",
    "ax.fill_between(x_new_unwarp, upper[:, 0], lower[:, 0], facecolor = 'b', alpha = 0.33)\n",
    "upper, lower = compute_bounds(mu_global, sig_global_outer, n_sigma = 2)\n",
    "ax.fill_between(x_new_unwarp, upper[:, 0], lower[:, 0], facecolor = 'b', alpha = 0.16)\n",
    "\n",
    "ax.set_xlim(0, 32)\n",
    "plt.xticks([0, 8, 16, 24, 32])\n",
    "plt.tick_params(axis = 'both', which = 'major', labelsize = 'medium')\n",
    "ax.set_xlabel('Time (s)', fontsize = 10)\n",
    "ax.set_yticklabels([]);\n",
    "ax.get_yaxis().set_visible(False)\n",
    "sns.despine(ax = ax, left = True)\n",
    "ax.set_ylim(-3, 3)\n",
    "\n",
    "fig.set_size_inches(2, 1)\n",
    "\n",
    "plt.savefig(directories['figs'] + 'glutamate/' + 'warped_gp_global.svg', dpi = 300)"
   ]
  },
  {
   "cell_type": "code",
   "execution_count": 97,
   "metadata": {},
   "outputs": [
    {
     "data": {
      "image/png": "[encoded data removed]",
      "text/plain": [
       "<matplotlib.figure.Figure at 0x7fa6be37c588>"
      ]
     },
     "metadata": {},
     "output_type": "display_data"
    }
   ],
   "source": [
    "x_new_unwarp = iso_reg.transform(x_new)\n",
    "\n",
    "fig, ax = plt.subplots(1)\n",
    "\n",
    "ax.plot(x_new_unwarp, mu_global - mu_local, color = '#1a9850', linewidth = 0.5)\n",
    "ax.plot(x_new_unwarp, np.zeros(x_new.shape), color = 'k', linewidth = 0.5)\n",
    "\n",
    "upper, lower = compute_bounds(mu_global - mu_local, sig_global + sig_local, n_sigma = 3)\n",
    "ax.fill_between(x_new_unwarp, upper[:, 0], lower[:, 0], facecolor = '#1a9850', alpha = 0.33)\n",
    "\n",
    "diff_mask = (upper < 0) | (lower > 0)\n",
    "\n",
    "y_min = - 1\n",
    "\n",
    "ax.fill_between(\n",
    "    x_new_unwarp, \n",
    "    np.ones(x_new_unwarp.shape) * 2 * y_min, \n",
    "    np.ones(x_new_unwarp.shape) * y_min, \n",
    "    where = diff_mask[:, 0], \n",
    "    facecolor = 'k', \n",
    "    alpha = 0.16\n",
    ")\n",
    "\n",
    "ax.set_xlim(0, 32)\n",
    "plt.xticks([0, 8, 16, 24, 32])\n",
    "plt.tick_params(axis = 'both', which = 'major', labelsize = 'medium')\n",
    "ax.set_xlabel('Time (s)', fontsize = 10)\n",
    "ax.set_yticklabels([]);\n",
    "ax.get_yaxis().set_visible(False)\n",
    "sns.despine(ax = ax, left = True)\n",
    "ax.set_ylim(-3, 3)\n",
    "\n",
    "fig.set_size_inches(2, 1)\n",
    "\n",
    "plt.savefig(directories['figs'] + 'glutamate/' + 'diff_gp.svg', dpi = 300)"
   ]
  },
  {
   "cell_type": "code",
   "execution_count": 98,
   "metadata": {},
   "outputs": [],
   "source": [
    "n_sigma = np.linspace(0, 10, 200)\n",
    "\n",
    "n_blob_inner = np.zeros(n_sigma.shape[0])\n",
    "n_blob_outer = np.zeros(n_sigma.shape[0])"
   ]
  },
  {
   "cell_type": "code",
   "execution_count": 99,
   "metadata": {},
   "outputs": [],
   "source": [
    "from scipy.ndimage import label\n",
    "\n",
    "for itx, sigma in enumerate(n_sigma):\n",
    "    # Compute inner EC\n",
    "    upper, lower = compute_bounds(mu_global - mu_local, sig_global + sig_local, n_sigma = sigma)\n",
    "    ax.fill_between(x_new_unwarp, upper[:, 0], lower[:, 0], facecolor = '#1a9850', alpha = 0.33)\n",
    "\n",
    "    diff_mask = (upper < 0) | (lower > 0)\n",
    "    \n",
    "    n_blob_inner[itx] = np.unique(np.hstack(label(diff_mask)[0])).max()\n",
    "\n",
    "    # Compute outer EC\n",
    "    upper, lower = compute_bounds(mu_global - mu_local, sig_global_outer + sig_local_outer, n_sigma = sigma)\n",
    "    ax.fill_between(x_new_unwarp, upper[:, 0], lower[:, 0], facecolor = '#1a9850', alpha = 0.33)\n",
    "    \n",
    "    diff_mask = (upper < 0) | (lower > 0)\n",
    "    n_blob_outer[itx] = np.unique(np.hstack(label(diff_mask)[0])).max()"
   ]
  },
  {
   "cell_type": "code",
   "execution_count": 101,
   "metadata": {
    "scrolled": true
   },
   "outputs": [
    {
     "data": {
      "image/png": "[encoded data removed]",
      "text/plain": [
       "<matplotlib.figure.Figure at 0x7fa6bee75c50>"
      ]
     },
     "metadata": {},
     "output_type": "display_data"
    }
   ],
   "source": [
    "sns.set_style('ticks')\n",
    "\n",
    "fig, ax = plt.subplots(1)\n",
    "\n",
    "ax.plot(n_sigma, n_blob_inner, color = 'k', label = 'Latent', linewidth = 1, clip_on = False)\n",
    "ax.plot(np.ones(240) * 3, np.arange(240), color = 'k', linewidth = 1, linestyle = ':')\n",
    "\n",
    "sigma_mask = n_sigma > 3\n",
    "ax.fill_between(\n",
    "    n_sigma[sigma_mask], \n",
    "    np.zeros(n_sigma[sigma_mask].shape), \n",
    "    n_blob_inner[sigma_mask],\n",
    "    facecolor = 'k', \n",
    "    alpha = 0.66,\n",
    "    clip_on = False\n",
    ")\n",
    "\n",
    "ax.set_xlim(0, 10)\n",
    "ax.set_ylim(0, 240)\n",
    "plt.tick_params(axis='both', which='major', labelsize='medium')\n",
    "ax.set_xlabel('Z-Score Threshold', fontsize = 10)\n",
    "ax.set_ylabel('Euler Characteristic', fontsize = 10)\n",
    "plt.xticks(np.arange(0, 15, 5))\n",
    "plt.yticks(np.arange(0, 280, 40))\n",
    "\n",
    "sns.despine(ax = ax, offset = 10)\n",
    "\n",
    "fig.set_size_inches(2, 1.4)\n",
    "\n",
    "plt.savefig(directories['figs'] + 'glutamate/' + 'zscore_vs_ec.svg', dpi = 300)"
   ]
  },
  {
   "cell_type": "markdown",
   "metadata": {},
   "source": [
    "Classical Comparison"
   ]
  },
  {
   "cell_type": "code",
   "execution_count": 89,
   "metadata": {},
   "outputs": [],
   "source": [
    "i_roi = 1\n",
    "local_traces = data_spiral['Snippets0'][:16515, :, i_roi]\n",
    "global_traces = data_spiral['Snippets0'][16515:, :, i_roi]\n",
    "\n",
    "local_mean = local_traces.mean(axis = 1)\n",
    "global_mean = global_traces.mean(axis = 1)\n",
    "\n",
    "local_std = local_traces.std(axis = 1)\n",
    "global_std = global_traces.std(axis = 1)\n",
    "\n",
    "trace_times = data_spiral['SnippetsTimes0'][:16515, 0, i_roi] / 2\n",
    "trace_times -= trace_times.min()"
   ]
  },
  {
   "cell_type": "code",
   "execution_count": 139,
   "metadata": {},
   "outputs": [
    {
     "data": {
      "image/png": "[encoded data removed]",
      "text/plain": [
       "<matplotlib.figure.Figure at 0x7fa6be74a438>"
      ]
     },
     "metadata": {},
     "output_type": "display_data"
    }
   ],
   "source": [
    "fig, ax = plt.subplots(1)\n",
    "\n",
    "offset = 15\n",
    "\n",
    "ax.plot(trace_times, local_mean + 2 * offset, color = 'r', linewidth = 0.5)\n",
    "ax.fill_between(trace_times, local_mean - 3 * local_std + 2 * offset,  local_mean + 3 * local_std + 2 * offset,\n",
    "                facecolor = 'r', alpha = 0.33, clip_on = False)\n",
    "\n",
    "ax.plot(trace_times, global_mean + offset, color = 'b', linewidth = 0.5)\n",
    "ax.fill_between(trace_times, global_mean - 3 * global_std + offset,  global_mean + 3 * global_std + offset, \n",
    "                facecolor = 'b', alpha = 0.33, clip_on = False)\n",
    "\n",
    "ax.plot(trace_times, local_mean - global_mean, color = 'g', linewidth = 0.5)\n",
    "ax.plot(np.arange(33), np.zeros(33), color = 'k', linewidth = 1)\n",
    "\n",
    "ax.fill_between(trace_times, \n",
    "                local_mean - global_mean - 3 * (local_std + global_std),  \n",
    "                local_mean - global_mean + 3 * (local_std + global_std), \n",
    "                facecolor = 'g', alpha = 0.33, clip_on = False)\n",
    "\n",
    "\n",
    "upper, lower = compute_bounds(local_mean - global_mean, local_std + global_std, n_sigma = 3)\n",
    "ax.fill_between(trace_times, upper, lower, facecolor = '#1a9850', alpha = 0.33)\n",
    "\n",
    "diff_mask = (upper < 0) | (lower > 0)\n",
    "\n",
    "y_min = - 5.5\n",
    "\n",
    "ax.fill_between(\n",
    "    trace_times, \n",
    "    np.ones(trace_times.shape) * y_min, \n",
    "    np.ones(trace_times.shape) * y_min - 3.5, \n",
    "    where = diff_mask, \n",
    "    facecolor = 'k', \n",
    "    alpha = 0.16\n",
    ")\n",
    "\n",
    "ax.get_yaxis().set_visible(False)\n",
    "ax.get_xaxis().set_visible(False)\n",
    "\n",
    "ax.set_xlim(0, 32)\n",
    "ax.set_ylim(-11, 40)\n",
    "\n",
    "plt.tick_params(axis = 'both', which = 'major', labelsize = 'medium')\n",
    "ax.set_xlabel('Time (s)', fontsize = 10)\n",
    "\n",
    "sns.despine(left = True, bottom = True, ax = ax, offset = 10)\n",
    "\n",
    "fig.set_size_inches(1.9, 5)\n",
    "\n",
    "plt.savefig(directories['figs'] + 'glutamate/' + 'classical_diff.pdf', dpi = 300)"
   ]
  },
  {
   "cell_type": "code",
   "execution_count": 121,
   "metadata": {},
   "outputs": [],
   "source": [
    "n_blob_inner = np.zeros(n_sigma.shape[0])\n",
    "\n",
    "for itx, sigma in enumerate(n_sigma):\n",
    "    # Compute EC\n",
    "    upper, lower = compute_bounds(local_mean - global_mean, local_std + global_std, n_sigma = sigma)\n",
    "    ax.fill_between(trace_times, upper, lower, facecolor = '#1a9850', alpha = 0.33)\n",
    "\n",
    "    diff_mask = (upper < 0) | (lower > 0)\n",
    "    \n",
    "    n_blob_inner[itx] = np.unique(np.hstack(label(diff_mask)[0])).max()"
   ]
  },
  {
   "cell_type": "code",
   "execution_count": 122,
   "metadata": {},
   "outputs": [
    {
     "data": {
      "image/png": "[encoded data removed]",
      "text/plain": [
       "<matplotlib.figure.Figure at 0x7fa6d2f4ef28>"
      ]
     },
     "metadata": {},
     "output_type": "display_data"
    }
   ],
   "source": [
    "sns.set_style('ticks')\n",
    "\n",
    "fig, ax = plt.subplots(1)\n",
    "\n",
    "ax.plot(n_sigma, n_blob_inner, color = 'k', label = 'Latent', linewidth = 1, clip_on = False)\n",
    "ax.plot(np.ones(240) * 3, np.arange(240), color = 'k', linewidth = 1, linestyle = ':')\n",
    "\n",
    "sigma_mask = n_sigma > 3\n",
    "ax.fill_between(\n",
    "    n_sigma[sigma_mask], \n",
    "    np.zeros(n_sigma[sigma_mask].shape), \n",
    "    n_blob_inner[sigma_mask],\n",
    "    facecolor = 'k', \n",
    "    alpha = 0.66,\n",
    "    clip_on = False\n",
    ")\n",
    "\n",
    "ax.set_xlim(0, 10)\n",
    "ax.set_ylim(0, 240)\n",
    "plt.tick_params(axis='both', which='major', labelsize='medium')\n",
    "ax.set_xlabel('Z-Score Threshold', fontsize = 10)\n",
    "ax.set_ylabel('Euler Characteristic', fontsize = 10)\n",
    "plt.xticks(np.arange(0, 15, 5))\n",
    "plt.yticks(np.arange(0, 280, 40))\n",
    "\n",
    "sns.despine(ax = ax, offset = 10)\n",
    "\n",
    "fig.set_size_inches(2, 1.4)\n",
    "\n",
    "plt.savefig(directories['figs'] + 'glutamate/' + 'classical_EC_glu.svg', dpi = 300)"
   ]
  }
 ],
 "metadata": {
  "kernelspec": {
   "display_name": "Python 3",
   "language": "python",
   "name": "python3"
  },
  "language_info": {
   "codemirror_mode": {
    "name": "ipython",
    "version": 3
   },
   "file_extension": ".py",
   "mimetype": "text/x-python",
   "name": "python",
   "nbconvert_exporter": "python",
   "pygments_lexer": "ipython3",
   "version": "3.7.3"
  }
 },
 "nbformat": 4,
 "nbformat_minor": 1
}
