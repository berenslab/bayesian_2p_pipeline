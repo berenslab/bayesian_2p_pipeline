{
 "cells": [
  {
   "cell_type": "markdown",
   "metadata": {},
   "source": [
    "This notebook provides code for transforming raw .h5 files generated from the data preprocessing into .csv files which are easily manipulated in pandas. It consists of the function preprocess(), which is general enough to handle chirp, sine and ds stimuli, and can accomodate both linear and spiral scan configurations. Functions for each of the datasets in the paper have their own cells, with a section at the end for the data generated in the closed loop experiment."
   ]
  },
  {
   "cell_type": "code",
   "execution_count": 2,
   "metadata": {},
   "outputs": [
    {
     "name": "stderr",
     "output_type": "stream",
     "text": [
      "/usr/local/lib/python3.5/dist-packages/h5py/__init__.py:36: FutureWarning: Conversion of the second argument of issubdtype from `float` to `np.floating` is deprecated. In future, it will be treated as `np.float64 == np.dtype(float).type`.\n",
      "  from ._conv import register_converters as _register_converters\n"
     ]
    }
   ],
   "source": [
    "import h5py\n",
    "import json\n",
    "import matplotlib.pyplot as plt\n",
    "import numpy as np\n",
    "import pandas as pd\n",
    "from skimage.transform import resize\n",
    "\n",
    "from util.load_hdf5 import * \n",
    "from util.zscore import *\n",
    "\n",
    "%matplotlib inline\n",
    "\n",
    "directories = json.load(open('directories.json'))"
   ]
  },
  {
   "cell_type": "code",
   "execution_count": 12,
   "metadata": {},
   "outputs": [],
   "source": [
    "def preprocess(data, roi_template, mode = 'linear', n_triggers = 1, trajectory = trajectory):\n",
    "\n",
    "    \"\"\"\n",
    "\n",
    "    Input\n",
    "      data: Dictionary containing hdf5 file\n",
    "      roi_template: roi template, typically higher resolution\n",
    "      mode: linear or spiral\n",
    "      n_triggers: number of triggers per stimulus trial\n",
    "\n",
    "    \"\"\"\n",
    "\n",
    "    ## Generate Feature Arrays\n",
    "\n",
    "    # Copy data points from file\n",
    "    if mode is 'linear':\n",
    "        data_points = data['wDataCh0'][:]\n",
    "    else:\n",
    "        if 'wRawCh0' in data:\n",
    "            data_points = data['wRawCh0'][:].astype(float)\n",
    "        else:\n",
    "            data_points = data['wDataCh0_raw'][:].astype(float)\n",
    "\n",
    "    # Generate time_points\n",
    "    x, y, t = data_points.shape\n",
    "\n",
    "    line_duration = 0.002\n",
    "    time_points = np.zeros((x, y, t))\n",
    "\n",
    "    time_points += np.linspace(0, line_duration, x)[:, None, None]\n",
    "    time_points += np.linspace(0, (y - 1) * line_duration, y)[None, :, None]\n",
    "    time_points += np.linspace(0, y * (t - 1) * line_duration, t)[None, None, :]\n",
    "\n",
    "    # Compute stimulus start and duration\n",
    "    if 'Triggertimes' in data.keys():\n",
    "        stimulus_start = data['Triggertimes'][0]\n",
    "        stimulus_duration = np.mean(np.diff(data['Triggertimes'][::n_triggers]))\n",
    "        stimulus_stop = data['Triggertimes'][::n_triggers].max() + stimulus_duration\n",
    "    else: \n",
    "        stimulus_start = 0\n",
    "        stimulus_duration = time_points.max()\n",
    "        stimulus_stop = time_points.max()\n",
    "        \n",
    "    # Generate vertical_ and frame_ position\n",
    "    vertical_position = np.zeros((x, y, t))\n",
    "    vertical_position += np.linspace(0, y - 1, y)[None, :, None]\n",
    "\n",
    "    frame_position = np.zeros((x, y, t))\n",
    "    frame_position += np.linspace(0, t - 1, t)[None, None, :]\n",
    "\n",
    "    ## ROI Handling\n",
    "    if mode is 'linear':\n",
    "        ## Extract ROIs from HD image\n",
    "        x_target, y_target, _ = data['wDataCh0'].shape\n",
    "\n",
    "        rois = roi_template ## data['ROIs']\n",
    "\n",
    "    else:\n",
    "        rois_hd = roi_template ## data['ROIs']\n",
    "        \n",
    "        blanking_mask = trajectory[2, :] != 0\n",
    "\n",
    "        x, y = rois_hd.shape\n",
    "\n",
    "        x_pixel = np.abs(trajectory[0, :][:, None] - np.linspace(-0.5, 0.5, x)[None, :])\n",
    "        y_pixel = np.abs(trajectory[1, :][:, None] - np.linspace(-0.5, 0.5, y)[None, :])\n",
    "\n",
    "        x_pixel = x_pixel.argmin(axis = 1)\n",
    "        y_pixel = y_pixel.argmin(axis = 1)\n",
    "\n",
    "        rois = np.empty(trajectory.shape[1])\n",
    "\n",
    "        ## Performance barrier?\n",
    "        for itx in range(x):\n",
    "            for ity in range(y):\n",
    "                rois[(x_pixel == itx) & (y_pixel == ity)] = rois_hd[itx, ity]\n",
    "\n",
    "        rois[~blanking_mask] = 1\n",
    "\n",
    "    i_rois = np.unique(rois)\n",
    "    i_rois = i_rois[i_rois != 1]\n",
    "    n_rois = len(i_rois)\n",
    "\n",
    "    ## Convert arrays into dataframe\n",
    "    columns = ['y',  't', 'x_t', 'trial', 'roi', 'line', 'frame']\n",
    "    data_df = pd.DataFrame(columns = columns)\n",
    "\n",
    "    # For each ROI, copy features and observations\n",
    "    for itx, roi in enumerate(i_rois):\n",
    "        x, y, t = data_points.shape\n",
    "        roi_mask = rois.reshape(x, y, order = 'f') == roi\n",
    "        trace = data_points[roi_mask, :]\n",
    "        trace = zscore(trace.astype(float), single = False)\n",
    "        tpnts = time_points[roi_mask, :]\n",
    "        line = vertical_position[roi_mask, :]\n",
    "        frame = frame_position[roi_mask, :]\n",
    "\n",
    "        # Only copy features occuring within stimulus presentation\n",
    "        x_tpnts = tpnts - stimulus_start\n",
    "        time_mask = (tpnts > stimulus_start) & (tpnts < stimulus_stop)\n",
    "        x_tpnts = x_tpnts[time_mask]\n",
    "        x_trial = x_tpnts // stimulus_duration\n",
    "        x_tpnts = x_tpnts % stimulus_duration\n",
    "\n",
    "        trace = trace[time_mask]\n",
    "        tpnts = tpnts[time_mask]\n",
    "        line = line[time_mask]\n",
    "        frame = frame[time_mask]\n",
    "\n",
    "        n_tpnts = tpnts.shape[0]\n",
    "        x_roi = np.ones(n_tpnts) * roi * -1\n",
    "\n",
    "        roi_var = np.stack([trace, tpnts, x_tpnts, x_trial, x_roi, line, frame], axis = 1)\n",
    "\n",
    "        data_df = pd.concat([data_df, pd.DataFrame(roi_var, columns = columns)])\n",
    "\n",
    "    # Line averaging\n",
    "    data_df = data_df.groupby(['roi', 'frame', 'line', 'trial']).mean().reset_index()\n",
    "\n",
    "    # Line standardise\n",
    "    data_df['y'] = data_df.groupby(['roi', 'line'])['y'].transform(lambda x: (x - x.mean()) / x.std())\n",
    "\n",
    "    # Frame averaging\n",
    "#     data_df = data_df.groupby(['roi', 'frame']).mean().reset_index()\n",
    "\n",
    "    return data_df"
   ]
  },
  {
   "cell_type": "raw",
   "metadata": {},
   "source": [
    "# BC Terminals, OGB-1, Chirp, Linear\n",
    "\n",
    "hdf5_file = 'SMP_M1_RR2_BC2_ChirpI'\n",
    "\n",
    "roi_mask = load_hdf5(directories['data'] + 'SMP_M1_RR2_BC2_HD.h5')['ROIs']\n",
    "roi_mask_ds = load_hdf5(directories['data'] + 'SMP_M1_RR2_BC2_HD.h5')['ROIs']\n",
    "n_roi = roi_mask.min()\n",
    "roi_mask_ds /= n_roi\n",
    "roi_mask_ds = resize(roi_mask_ds, (32, 32), \n",
    "                     preserve_range = True, order = 0, mode = 'reflect')\n",
    "roi_mask_ds *= n_roi\n",
    "\n",
    "data = load_hdf5(directories['data'] + hdf5_file + '.h5')\n",
    "data_df = preprocess(data, roi_mask_ds, n_triggers = 4)\n",
    "data_df.to_csv(directories['data'] + hdf5_file + '.csv')"
   ]
  },
  {
   "cell_type": "raw",
   "metadata": {},
   "source": [
    "# BC Terminals, OGB-1, Chirp, Spiral\n",
    "\n",
    "hdf5_file = 'SMP_M1_RR2_BC2_ChirpI2'\n",
    "roi_mask = load_hdf5(directories['data'] + 'SMP_M1_RR2_BC2_HD.h5')['ROIs']\n",
    "trajectory = np.loadtxt(directories['home'] + 'misc/pwStimBufData_1os.txt')\n",
    "\n",
    "data = load_hdf5(directories['data'] + hdf5_file + '.h5')\n",
    "data_df = preprocess(data, roi_mask, n_triggers = 4, mode = 'spiral', trajectory = trajectory)\n",
    "data_df.to_csv(directories['data'] + hdf5_file + '.csv')"
   ]
  },
  {
   "cell_type": "raw",
   "metadata": {},
   "source": [
    "# BC Terminals, OGB-1, Chirp, Linear [Hierarchical]\n",
    "\n",
    "hdf5_file = 'SMP_BC4_lChirp'\n",
    "\n",
    "data = load_hdf5(directories['data'] + hdf5_file + '.h5')\n",
    "data_df = preprocess(data, data['ROIs'], n_triggers = 2)\n",
    "data_df.to_csv(directories['data'] + hdf5_file + '.csv')"
   ]
  },
  {
   "cell_type": "raw",
   "metadata": {},
   "source": [
    "# IPL (OFF), Glutamate, Chirp, Linear\n",
    "\n",
    "hdf5_file = 'SMP_M1_RR2_IPL2OFF_ChirpI'\n",
    "trajectory = np.loadtxt(directories['home'] + 'misc/pwStimBufData_5os.txt')\n",
    "\n",
    "data = load_hdf5(directories['data'] + hdf5_file + '.h5')\n",
    "data_df = preprocess(data, data['ROIs'], n_triggers = 4, mode = 'spiral', trajectory = trajectory)\n",
    "data_df.to_csv(directories['data'] + hdf5_file + '.csv')"
   ]
  },
  {
   "cell_type": "raw",
   "metadata": {},
   "source": [
    "# IPL (OFF), Glutamate, Sine, Linear\n",
    "\n",
    "hdf5_file = 'SMP_M1_RR2_IPL2OFF_Sine'\n",
    "trajectory = np.loadtxt(directories['home'] + 'misc/pwStimBufData_5os.txt')\n",
    "\n",
    "data = load_hdf5(directories['data'] + hdf5_file + '.h5')\n",
    "data_df = preprocess(data, data['ROIs'], n_triggers = 1, mode = 'spiral', trajectory = trajectory)\n",
    "data_df.to_csv(directories['data'] + hdf5_file + '.csv')"
   ]
  },
  {
   "cell_type": "raw",
   "metadata": {
    "collapsed": true
   },
   "source": [
    "# GC Soma, OGB-1, DS, Spiral\n",
    "\n",
    "hdf5_file = 'SMP_M1_LR_GCL0_DS_r16'\n",
    "roi_mask = load_hdf5(directories['data'] + 'SMP_M1_LR_GCL0_HR.h5')['ROIs']\n",
    "trajectory = np.loadtxt(directories['home'] + 'misc/pwStimBufData_5os.txt')\n",
    "\n",
    "data = load_hdf5(directories['data'] + hdf5_file + '.h5')\n",
    "data_df = preprocess(data, roi_mask, n_triggers = 1, mode = 'spiral', trajectory = trajectory)\n",
    "data_df.to_csv(directories['data'] + hdf5_file + '.csv')"
   ]
  },
  {
   "cell_type": "markdown",
   "metadata": {},
   "source": [
    "Closed Loop Experiment"
   ]
  },
  {
   "cell_type": "code",
   "execution_count": 7,
   "metadata": {},
   "outputs": [],
   "source": [
    "exchange_path = directories['data'] + 'exchange/1/'\n",
    "\n",
    "trajectory = np.loadtxt(directories['home'] + 'misc/pwStimBufData_5os.txt')"
   ]
  },
  {
   "cell_type": "code",
   "execution_count": 45,
   "metadata": {},
   "outputs": [],
   "source": [
    "# Exchange: Chirp\n",
    "\n",
    "hdf5_file = 'SMP_M1_RR2_IPL1_LChirp'\n",
    "\n",
    "data = load_hdf5(exchange_path + hdf5_file + '.h5')\n",
    "data_df = preprocess(data, data['ROIs'], n_triggers = 2, mode = 'spiral', trajectory = trajectory)\n",
    "data_df.to_csv(directories['data'] + hdf5_file + '.csv')"
   ]
  },
  {
   "cell_type": "code",
   "execution_count": 52,
   "metadata": {},
   "outputs": [],
   "source": [
    "# Exchange: Sine Control\n",
    "\n",
    "hdf5_file = 'SMP_M1_RR1_IPL6_SineControl'\n",
    "\n",
    "data = load_hdf5(exchange_path + hdf5_file + '.h5')\n",
    "data_df = preprocess(data, data['ROIs'], n_triggers = 1, mode = 'spiral', trajectory = trajectory)\n",
    "data_df.to_csv(directories['data'] + hdf5_file + '.csv')"
   ]
  },
  {
   "cell_type": "code",
   "execution_count": 14,
   "metadata": {},
   "outputs": [],
   "source": [
    "# Exchange: Sine 0\n",
    "\n",
    "hdf5_file = 'SMP_M1_RL_IPL1r_ActiveI'\n",
    "\n",
    "data = load_hdf5(exchange_path + hdf5_file + '.h5')\n",
    "data_df = preprocess(data, data['ROIs'], n_triggers = 1, mode = 'spiral', trajectory = trajectory)\n",
    "data_df.to_csv(directories['data'] + hdf5_file + '.csv')"
   ]
  },
  {
   "cell_type": "code",
   "execution_count": 51,
   "metadata": {},
   "outputs": [],
   "source": [
    "# Exchange: Sine 1\n",
    "\n",
    "hdf5_file = 'SMP_M1_RR2_IPL3_Sine1'\n",
    "\n",
    "data = load_hdf5(exchange_path + hdf5_file + '.h5')\n",
    "data_df = preprocess(data, data['ROIs'], n_triggers = 1, mode = 'spiral', trajectory = trajectory)\n",
    "data_df.to_csv(directories['data'] + hdf5_file + '.csv')"
   ]
  },
  {
   "cell_type": "code",
   "execution_count": 48,
   "metadata": {
    "collapsed": true
   },
   "outputs": [],
   "source": [
    "# Exchange: Sine 2\n",
    "\n",
    "hdf5_file = 'SMP_M1_RR2_IPL1_Sine2'\n",
    "\n",
    "data = load_hdf5(exchange_path + hdf5_file + '.h5')\n",
    "data_df = preprocess(data, data['ROIs'], n_triggers = 1, mode = 'spiral', trajectory = trajectory)\n",
    "data_df.to_csv(directories['data'] + hdf5_file + '.csv')"
   ]
  }
 ],
 "metadata": {
  "kernelspec": {
   "display_name": "Python 3",
   "language": "python",
   "name": "python3"
  },
  "language_info": {
   "codemirror_mode": {
    "name": "ipython",
    "version": 3
   },
   "file_extension": ".py",
   "mimetype": "text/x-python",
   "name": "python",
   "nbconvert_exporter": "python",
   "pygments_lexer": "ipython3",
   "version": "3.7.3"
  }
 },
 "nbformat": 4,
 "nbformat_minor": 1
}
