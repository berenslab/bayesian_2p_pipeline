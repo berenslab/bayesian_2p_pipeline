{
 "cells": [
  {
   "cell_type": "markdown",
   "metadata": {},
   "source": [
    "This notebook provides the plotting functions for Figure 5 a-g. These figures show the evaluation of a hierarchical clustering of chirp responses using sequential equality tests, and estimate the relative evidence for each of the first three nodes in the hierarchy."
   ]
  },
  {
   "cell_type": "code",
   "execution_count": 1,
   "metadata": {},
   "outputs": [
    {
     "name": "stderr",
     "output_type": "stream",
     "text": [
      " /usr/local/lib/python3.5/dist-packages/h5py/__init__.py:36: FutureWarning:Conversion of the second argument of issubdtype from `float` to `np.floating` is deprecated. In future, it will be treated as `np.float64 == np.dtype(float).type`.\n"
     ]
    }
   ],
   "source": [
    "%matplotlib inline\n",
    "\n",
    "import GPy\n",
    "import h5py\n",
    "import json\n",
    "from matplotlib_scalebar.scalebar import ScaleBar\n",
    "import matplotlib.pyplot as plt\n",
    "import numpy as np\n",
    "import os\n",
    "import pandas as pd\n",
    "from scipy.cluster.hierarchy import dendrogram, fcluster, linkage, cut_tree\n",
    "from scipy.interpolate import interp1d\n",
    "from sklearn.isotonic import IsotonicRegression\n",
    "import seaborn as sns"
   ]
  },
  {
   "cell_type": "code",
   "execution_count": 2,
   "metadata": {
    "scrolled": true
   },
   "outputs": [],
   "source": [
    "from util.generate_contrasts import *\n",
    "from util.load_hdf5 import *\n",
    "from util.zscore import *\n",
    "from util.compute_bounds import *\n",
    "from util.plot_roi import *\n",
    "from util.fill_bounds import *\n",
    "from util.compute_cluster_freq import *"
   ]
  },
  {
   "cell_type": "code",
   "execution_count": 3,
   "metadata": {},
   "outputs": [],
   "source": [
    "%config InlineBackend.figure_format = 'png'\n",
    "\n",
    "sns.set_style('white')\n",
    "\n",
    "title_fontsize = 13\n",
    "label_fontsize = 10\n",
    "\n",
    "fig_p = {\n",
    "    'dpi': 600, \n",
    "    'bbox_inches': 'tight'\n",
    "}"
   ]
  },
  {
   "cell_type": "code",
   "execution_count": 4,
   "metadata": {},
   "outputs": [],
   "source": [
    "directories = json.load(open('directories.json'))\n",
    "\n",
    "data_linear = load_hdf5(directories['data'] + 'SMP_BC4_lChirp.h5')\n",
    "\n",
    "data_df = pd.read_csv(directories['data'] + 'SMP_BC4_lChirp.csv', index_col = 0)\n",
    "data_df = data_df.groupby(['roi', 'frame']).mean().reset_index()\n",
    "\n",
    "data_df = data_df.loc[data_df['roi'] != 15, :]"
   ]
  },
  {
   "cell_type": "code",
   "execution_count": 5,
   "metadata": {},
   "outputs": [],
   "source": [
    "data = data_linear\n",
    "\n",
    "triggers = data['Triggertimes']\n",
    "\n",
    "stim_duration = np.mean(np.diff(triggers[::2]))\n",
    "frame_duration = data['wDataCh0'].shape[1] * 0.002\n",
    "new_tpnts = np.arange(0, stim_duration, frame_duration)\n",
    "\n",
    "raw_traces = data['Traces0_raw']\n",
    "raw_tpnts = data['Tracetimes0']\n",
    "\n",
    "interp_f = interp1d(raw_tpnts[:, 0], raw_traces, axis = 0)\n",
    "new_traces = np.dstack([interp_f(new_tpnts + start) for start in triggers[::2]])\n",
    "\n",
    "traces = new_traces[:, :, ::2].mean(axis = 2)\n",
    "traces = ((traces - traces.mean(axis = 0)) / traces.std(axis = 0))\n",
    "\n",
    "n_tpnts, n_rois = traces.shape\n",
    "tpnts = np.tile(new_tpnts[:, None], [1, n_rois])"
   ]
  },
  {
   "cell_type": "code",
   "execution_count": 6,
   "metadata": {},
   "outputs": [
    {
     "name": "stdout",
     "output_type": "stream",
     "text": [
      "Optimization restart 1/1, f = 2309.7144007440843\n",
      "Optimization restart 1/1, f = 2684.046995391687\n",
      "Optimization restart 1/1, f = 2909.0741153271074\n",
      "Optimization restart 1/1, f = 2502.404948031766\n",
      "Optimization restart 1/1, f = 2813.854541411437\n",
      "Optimization restart 1/1, f = 2975.618638414472\n",
      "Optimization restart 1/1, f = 2431.894183948527\n",
      "Optimization restart 1/1, f = 2973.9715221998276\n",
      "Optimization restart 1/1, f = 3467.456754672796\n",
      "Optimization restart 1/1, f = 3016.4196079621424\n",
      "Optimization restart 1/1, f = 2785.8339982111956\n",
      "Optimization restart 1/1, f = 2575.7804286359965\n",
      "Optimization restart 1/1, f = 3051.4199300548303\n",
      "Optimization restart 1/1, f = 2917.7128274315396\n",
      "Optimization restart 1/1, f = 3002.8697684119415\n",
      "Optimization restart 1/1, f = 3277.7712694231723\n",
      "Optimization restart 1/1, f = 3017.3320537022255\n",
      "Optimization restart 1/1, f = 3365.3709899223354\n",
      "Optimization restart 1/1, f = 3350.8038512356925\n",
      "Optimization restart 1/1, f = 3051.624062620947\n",
      "Optimization restart 1/1, f = 3053.3397206202303\n",
      "Optimization restart 1/1, f = 3172.267069865794\n",
      "Optimization restart 1/1, f = 3076.034446966977\n",
      "Optimization restart 1/1, f = 2706.2319160338548\n"
     ]
    }
   ],
   "source": [
    "i_roi = np.unique(data_df['roi'])\n",
    "x_predict = np.linspace(data_df['x_t'].min(), data_df['x_t'].max(), 32 * 20)\n",
    "\n",
    "iso_reg = IsotonicRegression()\n",
    "iso_reg.fit(data_df['x_t'], data_df['x_t_warped'])\n",
    "x_predict_warp = iso_reg.transform(x_predict)\n",
    "\n",
    "posterior_mean = np.empty([x_predict.shape[0], i_roi.shape[0]])\n",
    "\n",
    "for itx, roi in enumerate(i_roi):\n",
    "    roi_bool = data_df['roi'] == roi\n",
    "    x_t_warped = data_df.loc[roi_bool, 'x_t_warped'][:, None]\n",
    "    y = zscore(data_df.loc[roi_bool, 'y'][:, None])\n",
    "    \n",
    "    m = GPy.models.SparseGPRegression(x_t_warped, y, num_inducing = 300, kernel = GPy.kern.RBF(1))\n",
    "    m.optimize_restarts(1, max_iters = 25)\n",
    "    posterior_mean[:, itx] = m.predict(x_predict_warp[:, None], include_likelihood = False)[0][:, 0]"
   ]
  },
  {
   "cell_type": "code",
   "execution_count": 7,
   "metadata": {
    "scrolled": false
   },
   "outputs": [
    {
     "data": {
      "image/png": "[encoded data removed]",
      "text/plain": [
       "<matplotlib.figure.Figure at 0x7f5b4c6999e8>"
      ]
     },
     "metadata": {},
     "output_type": "display_data"
    }
   ],
   "source": [
    "sns.set_style('white')\n",
    "\n",
    "Z = linkage(posterior_mean.T, method = 'average')\n",
    "\n",
    "D = dendrogram(Z, color_threshold = 0)\n",
    "\n",
    "maxclust = 4\n",
    "\n",
    "clusters = fcluster(Z, maxclust, criterion = 'maxclust')\n",
    "clusters_order = clusters.argsort()\n",
    "cluster_colours = sns.color_palette('hls', maxclust)\n",
    "\n",
    "h_clusters = np.fliplr(cut_tree(Z)[:, -maxclust:]).T\n",
    "\n",
    "posterior_sorted = posterior_mean[:, np.array(D['leaves'])]"
   ]
  },
  {
   "cell_type": "code",
   "execution_count": 8,
   "metadata": {
    "scrolled": true
   },
   "outputs": [
    {
     "data": {
      "image/png": "[encoded data removed]",
      "text/plain": [
       "<matplotlib.figure.Figure at 0x7f5b4c6b41d0>"
      ]
     },
     "metadata": {},
     "output_type": "display_data"
    }
   ],
   "source": [
    "sns.set_style('white')\n",
    "\n",
    "Z = linkage(posterior_sorted.T, method = 'ward')\n",
    "\n",
    "fig, ax = plt.subplots(1)\n",
    "\n",
    "D = dendrogram(Z, color_threshold = 0, ax = ax, orientation = 'left')\n",
    "\n",
    "ax.set_xticklabels([]);\n",
    "\n",
    "n_nodes = len(D['dcoord'])\n",
    "for ind,(i, d) in enumerate(zip(D['icoord'], D['dcoord'])):\n",
    "    x = 0.5 * sum(i[1:3])\n",
    "    y = d[1]\n",
    "    \n",
    "    if (ind > (n_nodes - 4)):\n",
    "        node_idx = n_nodes - ind - 1\n",
    "        plt.plot(y, x, 'ko')\n",
    "        plt.annotate('N$_{' + str(node_idx) + '}$', (y, x), xytext=(-10, 15),\n",
    "                     textcoords='offset points',\n",
    "                     va='top', ha='center', fontsize = 10)\n",
    "\n",
    "ax.tick_params(axis='y', which='major', labelsize = 6)\n",
    "ax.set_yticklabels([]);\n",
    "sns.despine(left = True, bottom = True, right = True, ax = ax)\n",
    "\n",
    "fig.set_size_inches(2.25, 2.25)\n",
    "\n",
    "plt.savefig(directories['figs'] + 'hierarchical/' + 'dendrogram.svg', **fig_p)"
   ]
  },
  {
   "cell_type": "code",
   "execution_count": 9,
   "metadata": {
    "scrolled": false
   },
   "outputs": [
    {
     "data": {
      "image/png": "[encoded data removed]",
      "text/plain": [
       "<matplotlib.figure.Figure at 0x7f5b4c579550>"
      ]
     },
     "metadata": {},
     "output_type": "display_data"
    }
   ],
   "source": [
    "roi_colours = sns.color_palette('hls', traces.shape[1])\n",
    "trace_offset = 2.5\n",
    "\n",
    "sns.set_style('ticks')\n",
    "\n",
    "fig, ax = plt.subplots(1)\n",
    "# ax.set_title('ROI Mean Traces', fontsize = title_fontsize)\n",
    "\n",
    "n_rois = len(D['dcoord']) + 1\n",
    "for itx in range(n_rois):\n",
    "    ax.plot(\n",
    "        x_predict, \n",
    "        posterior_sorted[:, itx] + trace_offset * itx, \n",
    "        color = 'k',\n",
    "        linewidth = 0.5\n",
    "    )\n",
    "#     ax.text(-0.5, itx * trace_offset, \"R$_{\" + str(itx) + \"}$\", fontsize = 10, ha = 'right')\n",
    "    \n",
    "fig.set_size_inches(2.4, 6)\n",
    "\n",
    "ax.set_xlabel('Time (s)', fontsize = 10)\n",
    "ax.set_xlim(0, 32)\n",
    "plt.xticks([0, 8, 16, 24, 32])\n",
    "ax.set_yticklabels([]);\n",
    "plt.tick_params(axis='both', which='major', labelsize='medium')\n",
    "ax.get_yaxis().set_visible(False)\n",
    "sns.despine(left = True, ax = ax)\n",
    "\n",
    "plt.savefig(directories['figs'] + 'hierarchical/' + 'roi_mean_traces.svg', **fig_p)"
   ]
  },
  {
   "cell_type": "code",
   "execution_count": 10,
   "metadata": {
    "scrolled": true
   },
   "outputs": [
    {
     "data": {
      "text/plain": [
       "array([4, 4, 4, 4, 3, 3, 3, 3, 3, 3, 3, 2, 2, 2, 2, 2, 2, 2, 2, 2, 2, 1,\n",
       "       1, 1], dtype=int32)"
      ]
     },
     "execution_count": 10,
     "metadata": {},
     "output_type": "execute_result"
    }
   ],
   "source": [
    "maxclust = 4\n",
    "clusters = fcluster(Z, maxclust, criterion = 'maxclust')\n",
    "\n",
    "clusters"
   ]
  },
  {
   "cell_type": "markdown",
   "metadata": {},
   "source": [
    "1 vs 2\n",
    "2 vs 3\n",
    "3 vs 4"
   ]
  },
  {
   "cell_type": "code",
   "execution_count": 11,
   "metadata": {},
   "outputs": [
    {
     "name": "stdout",
     "output_type": "stream",
     "text": [
      "Optimization restart 1/1, f = 30345.53634496607\n",
      "Optimization restart 1/1, f = 23089.067849122068\n"
     ]
    }
   ],
   "source": [
    "maxclust = 2\n",
    "clusters = fcluster(Z, maxclust, criterion = 'maxclust')\n",
    "\n",
    "n1_c1 = clusters == 1\n",
    "n1_c1_df = data_df.loc[data_df.loc[:, 'roi'].isin(i_roi[n1_c1]), :]\n",
    "n1_c1_x = n1_c1_df['x_t_warped'][:, None]\n",
    "n1_c1_y = n1_c1_df['y'][:, None]\n",
    "\n",
    "n1_c1_m = GPy.models.SparseGPRegression(n1_c1_x, n1_c1_y, num_inducing = 300, kernel = GPy.kern.RBF(1))\n",
    "n1_c1_m.optimize_restarts(1, max_iters = 20)\n",
    "n1_c1_mu, n1_c1_sig = n1_c1_m.predict(x_predict_warp[:, None], include_likelihood = False)\n",
    "\n",
    "n1_c2 = clusters == 2\n",
    "n1_c2_df = data_df.loc[data_df.loc[:, 'roi'].isin(i_roi[n1_c2]), :]\n",
    "n1_c2_x = n1_c2_df['x_t_warped'][:, None]\n",
    "n1_c2_y = n1_c2_df['y'][:, None]\n",
    "\n",
    "n1_c2_m = GPy.models.SparseGPRegression(n1_c2_x, n1_c2_y, num_inducing = 300, kernel = GPy.kern.RBF(1))\n",
    "n1_c2_m.optimize_restarts(1, max_iters = 20)\n",
    "n1_c2_mu, n1_c2_sig = n1_c2_m.predict(x_predict_warp[:, None], include_likelihood = False)"
   ]
  },
  {
   "cell_type": "code",
   "execution_count": 12,
   "metadata": {},
   "outputs": [
    {
     "name": "stdout",
     "output_type": "stream",
     "text": [
      "Optimization restart 1/1, f = 15499.541703404713\n",
      "Optimization restart 1/1, f = 8093.5756711869135\n"
     ]
    }
   ],
   "source": [
    "maxclust = 3\n",
    "clusters = fcluster(Z, maxclust, criterion = 'maxclust')\n",
    "\n",
    "n2_c1 = clusters == 2\n",
    "n2_c1_df = data_df.loc[data_df.loc[:, 'roi'].isin(i_roi[n2_c1]), :]\n",
    "n2_c1_x = n2_c1_df['x_t_warped'][:, None]\n",
    "n2_c1_y = n2_c1_df['y'][:, None]\n",
    "\n",
    "n2_c1_m = GPy.models.SparseGPRegression(n2_c1_x, n2_c1_y, num_inducing = 300, kernel = GPy.kern.RBF(1))\n",
    "n2_c1_m.optimize_restarts(1, max_iters = 20)\n",
    "n2_c1_mu, n2_c1_sig = n2_c1_m.predict(x_predict_warp[:, None], include_likelihood = False)\n",
    "\n",
    "n2_c2 = clusters == 3\n",
    "n2_c2_df = data_df.loc[data_df.loc[:, 'roi'].isin(i_roi[n2_c2]), :]\n",
    "n2_c2_x = n2_c2_df['x_t_warped'][:, None]\n",
    "n2_c2_y = n2_c2_df['y'][:, None]\n",
    "\n",
    "n2_c2_m = GPy.models.SparseGPRegression(n2_c2_x, n2_c2_y, num_inducing = 300, kernel = GPy.kern.RBF(1))\n",
    "n2_c2_m.optimize_restarts(1, max_iters = 20)\n",
    "n2_c2_mu, n2_c2_sig = n2_c2_m.predict(x_predict_warp[:, None], include_likelihood = False)"
   ]
  },
  {
   "cell_type": "code",
   "execution_count": 13,
   "metadata": {},
   "outputs": [
    {
     "name": "stdout",
     "output_type": "stream",
     "text": [
      "Optimization restart 1/1, f = 30044.851140320483\n",
      "Optimization restart 1/1, f = 23715.53297773222\n"
     ]
    }
   ],
   "source": [
    "maxclust = 4\n",
    "clusters = fcluster(Z, maxclust, criterion = 'maxclust')\n",
    "\n",
    "n3_c1 = clusters == 1\n",
    "n3_c1_df = data_df.loc[data_df.loc[:, 'roi'].isin(i_roi[n3_c1]), :]\n",
    "n3_c1_x = n1_c1_df['x_t_warped'][:, None]\n",
    "n3_c1_y = n1_c1_df['y'][:, None]\n",
    "\n",
    "n3_c1_m = GPy.models.SparseGPRegression(n3_c1_x, n3_c1_y, num_inducing = 300, kernel = GPy.kern.RBF(1))\n",
    "n3_c1_m.optimize_restarts(1, max_iters = 20)\n",
    "n3_c1_mu, n3_c1_sig = n3_c1_m.predict(x_predict_warp[:, None], include_likelihood = False)\n",
    "\n",
    "n3_c2 = clusters == 2\n",
    "n3_c2_df = data_df.loc[data_df.loc[:, 'roi'].isin(i_roi[n3_c2]), :]\n",
    "n3_c2_x = n3_c2_df['x_t_warped'][:, None]\n",
    "n3_c2_y = n3_c2_df['y'][:, None]\n",
    "\n",
    "n3_c2_m = GPy.models.SparseGPRegression(n3_c2_x, n3_c2_y, num_inducing = 300, kernel = GPy.kern.RBF(1))\n",
    "n3_c2_m.optimize_restarts(1, max_iters = 20)\n",
    "n3_c2_mu, n3_c2_sig = n3_c2_m.predict(x_predict_warp[:, None], include_likelihood = False)"
   ]
  },
  {
   "cell_type": "code",
   "execution_count": 14,
   "metadata": {},
   "outputs": [
    {
     "data": {
      "image/png": "[encoded data removed]",
      "text/plain": [
       "<matplotlib.figure.Figure at 0x7f5b4c47acc0>"
      ]
     },
     "metadata": {},
     "output_type": "display_data"
    }
   ],
   "source": [
    "fig, ax = plt.subplots(1)\n",
    "\n",
    "offset = 3\n",
    "\n",
    "ax.plot(x_predict, n1_c1_mu + offset * 2, color = '#00ff00', linewidth = 0.5)\n",
    "upper, lower = compute_bounds(n1_c1_mu, n1_c1_sig, n_sigma = 3)\n",
    "ax.fill_between(x_predict, upper[:, 0] + offset * 2, lower[:, 0] + offset * 2, facecolor = '#00ff00', alpha = 0.33)\n",
    "\n",
    "ax.plot(x_predict, n1_c2_mu + offset, color = '#8000FF', linewidth = 0.5)\n",
    "upper, lower = compute_bounds(n1_c2_mu, n1_c2_sig, n_sigma = 3)\n",
    "ax.fill_between(x_predict, upper[:, 0] + offset, lower[:, 0] + offset, facecolor = '#8000FF', alpha = 0.33)\n",
    "\n",
    "ax.plot(x_predict, n1_c1_mu - n1_c2_mu, color = 'k', linewidth = 0.5)\n",
    "ax.plot(x_predict, np.zeros(x_predict.shape), color = 'k', linewidth = 0.5)\n",
    "\n",
    "upper, lower = compute_bounds(n1_c1_mu - n1_c2_mu, n1_c1_sig + n1_c2_sig, n_sigma = 3)\n",
    "ax.fill_between(x_predict, upper[:, 0], lower[:, 0], facecolor = 'k', alpha = 0.33)\n",
    "\n",
    "diff_mask = (upper < 0) | (lower > 0)\n",
    "\n",
    "y_min = - 1\n",
    "\n",
    "ax.fill_between(\n",
    "    x_predict, \n",
    "    np.ones(x_predict.shape) * 2 * y_min, \n",
    "    np.ones(x_predict.shape) * y_min, \n",
    "    where = diff_mask[:, 0], \n",
    "    facecolor = 'k', \n",
    "    alpha = 0.5\n",
    ")\n",
    "\n",
    "ax.set_xlim(-3, 12)\n",
    "ax.set_xlim(0, 32)\n",
    "plt.xticks([0, 8, 16, 24, 32])\n",
    "plt.tick_params(axis = 'both', which = 'major', labelsize = 'medium')\n",
    "ax.set_xlabel('Time (s)', fontsize = 10)\n",
    "ax.set_yticklabels([]);\n",
    "ax.get_yaxis().set_visible(False)\n",
    "sns.despine(ax = ax, left = True)\n",
    "\n",
    "fig.set_size_inches(2, 2.5)\n",
    "\n",
    "plt.savefig(directories['figs'] + 'hierarchical/' + 'N0 Diff.svg', **fig_p)"
   ]
  },
  {
   "cell_type": "code",
   "execution_count": 15,
   "metadata": {},
   "outputs": [
    {
     "data": {
      "image/png": "[encoded data removed]",
      "text/plain": [
       "<matplotlib.figure.Figure at 0x7f5b4c4137b8>"
      ]
     },
     "metadata": {},
     "output_type": "display_data"
    }
   ],
   "source": [
    "fig, ax = plt.subplots(1)\n",
    "\n",
    "offset = 3\n",
    "\n",
    "ax.plot(x_predict, n2_c1_mu + offset * 2, color = '#00ff00', linewidth = 0.5)\n",
    "upper, lower = compute_bounds(n2_c1_mu, n2_c1_sig, n_sigma = 3)\n",
    "ax.fill_between(x_predict, upper[:, 0] + offset * 2, lower[:, 0] + offset * 2, facecolor = '#00ff00', alpha = 0.33)\n",
    "\n",
    "ax.plot(x_predict, n2_c2_mu + offset, color = '#ce2029', linewidth = 0.5)\n",
    "upper, lower = compute_bounds(n2_c2_mu, n2_c2_sig, n_sigma = 3)\n",
    "ax.fill_between(x_predict, upper[:, 0] + offset, lower[:, 0] + offset, facecolor = '#ce2029', alpha = 0.33)\n",
    "\n",
    "ax.plot(x_predict, n2_c1_mu - n2_c2_mu, color = 'k', linewidth = 0.5)\n",
    "ax.plot(x_predict, np.zeros(x_predict.shape), color = 'k', linewidth = 0.5)\n",
    "\n",
    "upper, lower = compute_bounds(n2_c1_mu - n2_c2_mu, n2_c1_sig + n2_c2_sig, n_sigma = 3)\n",
    "ax.fill_between(x_predict, upper[:, 0], lower[:, 0], facecolor = 'k', alpha = 0.33)\n",
    "\n",
    "diff_mask = (upper < 0) | (lower > 0)\n",
    "\n",
    "y_min = - 1\n",
    "\n",
    "ax.fill_between(\n",
    "    x_predict, \n",
    "    np.ones(x_predict.shape) * 2 * y_min, \n",
    "    np.ones(x_predict.shape) * y_min, \n",
    "    where = diff_mask[:, 0], \n",
    "    facecolor = 'k', \n",
    "    alpha = 0.5\n",
    ")\n",
    "\n",
    "ax.set_xlim(-3, 12)\n",
    "ax.set_xlim(0, 32)\n",
    "plt.xticks([0, 8, 16, 24, 32])\n",
    "plt.tick_params(axis = 'both', which = 'major', labelsize = 'medium')\n",
    "ax.set_xlabel('Time (s)', fontsize = 10)\n",
    "ax.set_yticklabels([]);\n",
    "ax.get_yaxis().set_visible(False)\n",
    "sns.despine(ax = ax, left = True)\n",
    "\n",
    "fig.set_size_inches(2, 2.5)\n",
    "\n",
    "plt.savefig(directories['figs'] + 'hierarchical/' + 'N1 Diff.svg', **fig_p)"
   ]
  },
  {
   "cell_type": "code",
   "execution_count": 16,
   "metadata": {
    "scrolled": true
   },
   "outputs": [
    {
     "data": {
      "image/png": "[encoded data removed]",
      "text/plain": [
       "<matplotlib.figure.Figure at 0x7f5b4c422048>"
      ]
     },
     "metadata": {},
     "output_type": "display_data"
    }
   ],
   "source": [
    "fig, ax = plt.subplots(1)\n",
    "\n",
    "offset = 3\n",
    "\n",
    "ax.plot(x_predict, n3_c1_mu + offset * 2, color = '#009FDF', linewidth = 0.5)\n",
    "upper, lower = compute_bounds(n3_c1_mu, n3_c1_sig, n_sigma = 3)\n",
    "ax.fill_between(x_predict, upper[:, 0] + offset * 2, lower[:, 0] + offset * 2, facecolor = '#009FDF', alpha = 0.33)\n",
    "\n",
    "ax.plot(x_predict, n3_c2_mu + offset, color = '#8000FF', linewidth = 0.5)\n",
    "upper, lower = compute_bounds(n3_c2_mu, n3_c2_sig, n_sigma = 3)\n",
    "ax.fill_between(x_predict, upper[:, 0] + offset, lower[:, 0] + offset, facecolor = '#8000FF', alpha = 0.33)\n",
    "\n",
    "ax.plot(x_predict, n3_c1_mu - n3_c2_mu, color = 'k', linewidth = 0.5)\n",
    "ax.plot(x_predict, np.zeros(x_predict.shape), color = 'k', linewidth = 0.5)\n",
    "\n",
    "upper, lower = compute_bounds(n3_c1_mu - n3_c2_mu, n3_c1_sig + n3_c2_sig, n_sigma = 3)\n",
    "ax.fill_between(x_predict, upper[:, 0], lower[:, 0], facecolor = 'k', alpha = 0.33)\n",
    "\n",
    "diff_mask = (upper < 0) | (lower > 0)\n",
    "\n",
    "y_min = - 1\n",
    "\n",
    "ax.fill_between(\n",
    "    x_predict, \n",
    "    np.ones(x_predict.shape) * 2 * y_min, \n",
    "    np.ones(x_predict.shape) * y_min, \n",
    "    where = diff_mask[:, 0], \n",
    "    facecolor = 'k', \n",
    "    alpha = 0.5\n",
    ")\n",
    "\n",
    "ax.set_xlim(-3, 12)\n",
    "ax.set_xlim(0, 32)\n",
    "plt.xticks([0, 8, 16, 24, 32])\n",
    "plt.tick_params(axis = 'both', which = 'major', labelsize = 'medium')\n",
    "ax.set_xlabel('Time (s)', fontsize = 10)\n",
    "ax.set_yticklabels([]);\n",
    "ax.get_yaxis().set_visible(False)\n",
    "sns.despine(ax = ax, left = True)\n",
    "\n",
    "fig.set_size_inches(2, 2.5)\n",
    "\n",
    "plt.savefig(directories['figs'] + 'hierarchical/' + 'N2 Diff.svg', **fig_p)"
   ]
  },
  {
   "cell_type": "code",
   "execution_count": 17,
   "metadata": {},
   "outputs": [],
   "source": [
    "from scipy.ndimage import label\n",
    "\n",
    "n_sigma = np.linspace(0, 10, 100)\n",
    "\n",
    "n_blob_n1 = np.zeros(n_sigma.shape[0])\n",
    "n_blob_n2 = np.zeros(n_sigma.shape[0])\n",
    "n_blob_n3 = np.zeros(n_sigma.shape[0])\n",
    "\n",
    "for itx, sigma in enumerate(n_sigma):\n",
    "    # N1\n",
    "    upper, lower = compute_bounds(n1_c1_mu - n1_c2_mu, n1_c1_sig + n1_c2_sig, n_sigma = sigma)\n",
    "    ax.fill_between(x_predict, upper[:, 0], lower[:, 0], facecolor = '#1a9850', alpha = 0.33)\n",
    "\n",
    "    diff_mask = (upper < 0) | (lower > 0)\n",
    "    \n",
    "    n_blob_n1[itx] = np.unique(np.hstack(label(diff_mask)[0])).max()\n",
    "    \n",
    "    # N2\n",
    "    upper, lower = compute_bounds(n2_c1_mu - n2_c2_mu, n2_c1_sig + n2_c2_sig, n_sigma = sigma)\n",
    "    ax.fill_between(x_predict, upper[:, 0], lower[:, 0], facecolor = '#1a9850', alpha = 0.33)\n",
    "\n",
    "    diff_mask = (upper < 0) | (lower > 0)\n",
    "    \n",
    "    n_blob_n2[itx] = np.unique(np.hstack(label(diff_mask)[0])).max()\n",
    "    \n",
    "    # N3\n",
    "    upper, lower = compute_bounds(n3_c1_mu - n3_c2_mu, n3_c1_sig + n3_c2_sig, n_sigma = sigma)\n",
    "    ax.fill_between(x_predict, upper[:, 0], lower[:, 0], facecolor = '#1a9850', alpha = 0.33)\n",
    "\n",
    "    diff_mask = (upper < 0) | (lower > 0)\n",
    "    \n",
    "    n_blob_n3[itx] = np.unique(np.hstack(label(diff_mask)[0])).max()"
   ]
  },
  {
   "cell_type": "code",
   "execution_count": 27,
   "metadata": {},
   "outputs": [
    {
     "data": {
      "image/png": "[encoded data removed]",
      "text/plain": [
       "<matplotlib.figure.Figure at 0x7f5b4c417470>"
      ]
     },
     "metadata": {},
     "output_type": "display_data"
    }
   ],
   "source": [
    "sns.set_style('ticks')\n",
    "\n",
    "fig, ax = plt.subplots(1)\n",
    "\n",
    "ax.plot(n_sigma, n_blob_n1, linestyle = ':', label = 'N$_{0}$', linewidth = 1, color = 'k')\n",
    "ax.plot(n_sigma, n_blob_n2, linestyle = '--', label = 'N$_{1}$', linewidth = 1, color = 'k')\n",
    "ax.plot(n_sigma, n_blob_n3, linestyle = '-', label = 'N$_{2}$', linewidth = 1, color = 'k')\n",
    "ax.plot(np.ones(100) * 3, np.arange(100), color = 'k', linewidth = 1, linestyle = ':')\n",
    "\n",
    "sigma_mask = n_sigma > 3\n",
    "ax.fill_between(\n",
    "    n_sigma[sigma_mask], \n",
    "    np.zeros(n_sigma[sigma_mask].shape), \n",
    "    n_blob_n1[sigma_mask],\n",
    "    facecolor = 'k', \n",
    "    alpha = 0.16,\n",
    "    clip_on = False\n",
    ")\n",
    "\n",
    "sigma_mask = n_sigma > 3\n",
    "ax.fill_between(\n",
    "    n_sigma[sigma_mask], \n",
    "    np.zeros(n_sigma[sigma_mask].shape), \n",
    "    n_blob_n2[sigma_mask],\n",
    "    facecolor = 'k', \n",
    "    alpha = 0.16,\n",
    "    clip_on = False\n",
    ")\n",
    "\n",
    "sigma_mask = n_sigma > 3\n",
    "ax.fill_between(\n",
    "    n_sigma[sigma_mask], \n",
    "    np.zeros(n_sigma[sigma_mask].shape), \n",
    "    n_blob_n3[sigma_mask],\n",
    "    facecolor = 'k', \n",
    "    alpha = 0.16,\n",
    "    clip_on = False\n",
    ")\n",
    "\n",
    "ax.set_xlim(0, 10)\n",
    "ax.set_ylim(0, 100)\n",
    "plt.tick_params(axis='both', which='major', labelsize='medium')\n",
    "ax.set_xlabel('Z-Score Threshold', fontsize = 10)\n",
    "ax.set_ylabel('Euler Characteristic', fontsize = 10)\n",
    "plt.legend()\n",
    "\n",
    "sns.despine(ax = ax, offset = 5)\n",
    "\n",
    "fig.set_size_inches(1.8, 1.8)\n",
    "\n",
    "plt.savefig(directories['figs'] + 'hierarchical/' + 'zscore_vs_ec.svg', dpi = 300)"
   ]
  },
  {
   "cell_type": "code",
   "execution_count": 28,
   "metadata": {},
   "outputs": [
    {
     "data": {
      "image/png": "[encoded data removed]",
      "text/plain": [
       "<matplotlib.figure.Figure at 0x7f5b4c668860>"
      ]
     },
     "metadata": {},
     "output_type": "display_data"
    }
   ],
   "source": [
    "sns.set_style('white')\n",
    "\n",
    "plot_roi(data_linear)\n",
    "\n",
    "plt.gcf().set_size_inches(1, 1)\n",
    "\n",
    "plt.savefig(directories['figs'] + 'hierarchical/' + 'roi_mask_all.svg', **fig_p)"
   ]
  },
  {
   "cell_type": "code",
   "execution_count": 29,
   "metadata": {},
   "outputs": [],
   "source": [
    "scale_p = {\n",
    "    'frameon': False,\n",
    "    'location': 3,\n",
    "    'color': 'w',\n",
    "    'font_properties': {'size': 8},\n",
    "    'length_fraction': 0.33,\n",
    "    'height_fraction': 0.025,\n",
    "    'sep': 1,\n",
    "    'scale_loc': 'top',\n",
    "    'label_loc': 'bottom'\n",
    "}\n"
   ]
  },
  {
   "cell_type": "code",
   "execution_count": 30,
   "metadata": {},
   "outputs": [
    {
     "data": {
      "image/png": "[encoded data removed]",
      "text/plain": [
       "<matplotlib.figure.Figure at 0x7f5b4bc3f278>"
      ]
     },
     "metadata": {},
     "output_type": "display_data"
    }
   ],
   "source": [
    "ROIs = data_linear['ROIs']\n",
    "CLUSTERs = np.ones(ROIs.shape)\n",
    "\n",
    "maxclust = 4\n",
    "clusters = fcluster(Z, maxclust, criterion = 'maxclust')\n",
    "clusters[clusters == 2] = 1\n",
    "clusters[clusters == 4] = 3\n",
    "\n",
    "for roi, cluster in zip(np.unique(ROIs), clusters):\n",
    "    CLUSTERs[ROIs == roi] = -cluster\n",
    "\n",
    "data_cluster = {}\n",
    "data_cluster.update(data_linear)\n",
    "data_cluster['ROIs'] = CLUSTERs\n",
    "\n",
    "fig, ax = plt.subplots(1)\n",
    "\n",
    "data = data_cluster\n",
    "mean_image = data['wDataCh0'].mean(axis = -1)\n",
    "roi_image = data['ROIs']\n",
    "\n",
    "i_rois = [-4., -3., -2., -1.]\n",
    "n_rois = len(i_rois)\n",
    "\n",
    "roi_rgba = np.zeros(list(roi_image.shape) + [4,])\n",
    "roi_rgba[roi_image != 1, :] = 1\n",
    "roi_colours = sns.color_palette('hls', 4)\n",
    "\n",
    "for itx, roi in enumerate(i_rois):\n",
    "    roi_rgba[roi_image == roi, :] = list(roi_colours[itx]) + [1,]\n",
    "\n",
    "imshow_p = {\n",
    "    'origin': 'lower',\n",
    "    'interpolation': 'nearest'\n",
    "}\n",
    "\n",
    "ax.imshow(mean_image, cmap = 'viridis',  **imshow_p)\n",
    "ax.imshow(roi_rgba, **imshow_p)\n",
    "\n",
    "ax.grid(False)\n",
    "ax.set_xticklabels([]);\n",
    "ax.set_yticklabels([]);\n",
    "\n",
    "fig.set_size_inches(1, 1)\n",
    "\n",
    "plt.savefig(directories['figs'] + 'hierarchical/' + 'roi_mask_n1.svg', **fig_p)"
   ]
  },
  {
   "cell_type": "code",
   "execution_count": 32,
   "metadata": {},
   "outputs": [
    {
     "data": {
      "image/png": "[encoded data removed]",
      "text/plain": [
       "<matplotlib.figure.Figure at 0x7f5b4bcb0a58>"
      ]
     },
     "metadata": {},
     "output_type": "display_data"
    }
   ],
   "source": [
    "ROIs = data_linear['ROIs']\n",
    "CLUSTERs = np.ones(ROIs.shape)\n",
    "\n",
    "maxclust = 4\n",
    "clusters = fcluster(Z, maxclust, criterion = 'maxclust')\n",
    "clusters[clusters == 2] = 1\n",
    "\n",
    "for roi, cluster in zip(np.unique(ROIs), clusters):\n",
    "    CLUSTERs[ROIs == roi] = -cluster\n",
    "\n",
    "data_cluster = {}\n",
    "data_cluster.update(data_linear)\n",
    "data_cluster['ROIs'] = CLUSTERs\n",
    "\n",
    "fig, ax = plt.subplots(1)\n",
    "\n",
    "data = data_cluster\n",
    "mean_image = data['wDataCh0'].mean(axis = -1)\n",
    "roi_image = data['ROIs']\n",
    "\n",
    "roi_rgba = np.zeros(list(roi_image.shape) + [4,])\n",
    "roi_rgba[roi_image != 1, :] = 1\n",
    "roi_colours = sns.color_palette('hls', 4)\n",
    "\n",
    "for itx, roi in enumerate(i_rois):\n",
    "    roi_rgba[roi_image == roi, :] = list(roi_colours[itx]) + [1,]\n",
    "\n",
    "imshow_p = {\n",
    "    'origin': 'lower',\n",
    "    'interpolation': 'nearest'\n",
    "}\n",
    "\n",
    "if not ax:\n",
    "    fig, ax = plt.subplots(1)\n",
    "\n",
    "ax.imshow(mean_image, cmap = 'viridis',  **imshow_p)\n",
    "ax.imshow(roi_rgba, **imshow_p)\n",
    "\n",
    "ax.grid(False)\n",
    "ax.set_xticklabels([]);\n",
    "ax.set_yticklabels([]);\n",
    "\n",
    "fig.set_size_inches(1, 1)\n",
    "\n",
    "plt.savefig(directories['figs'] + 'hierarchical/' + 'roi_mask_n2.svg', **fig_p)"
   ]
  },
  {
   "cell_type": "code",
   "execution_count": 33,
   "metadata": {},
   "outputs": [
    {
     "data": {
      "image/png": "[encoded data removed]",
      "text/plain": [
       "<matplotlib.figure.Figure at 0x7f5b4c3cf550>"
      ]
     },
     "metadata": {},
     "output_type": "display_data"
    }
   ],
   "source": [
    "ROIs = data_linear['ROIs']\n",
    "CLUSTERs = np.ones(ROIs.shape)\n",
    "\n",
    "maxclust = 4\n",
    "clusters = fcluster(Z, maxclust, criterion = 'maxclust')\n",
    "\n",
    "for roi, cluster in zip(np.unique(ROIs), clusters):\n",
    "    CLUSTERs[ROIs == roi] = -cluster\n",
    "\n",
    "data_cluster = {}\n",
    "data_cluster.update(data_linear)\n",
    "data_cluster['ROIs'] = CLUSTERs\n",
    "\n",
    "fig, ax = plt.subplots(1)\n",
    "\n",
    "data = data_cluster\n",
    "mean_image = data['wDataCh0'].mean(axis = -1)\n",
    "roi_image = data['ROIs']\n",
    "\n",
    "roi_rgba = np.zeros(list(roi_image.shape) + [4,])\n",
    "roi_rgba[roi_image != 1, :] = 1\n",
    "roi_colours = sns.color_palette('hls', 4)\n",
    "\n",
    "for itx, roi in enumerate(i_rois):\n",
    "    roi_rgba[roi_image == roi, :] = list(roi_colours[itx]) + [1,]\n",
    "\n",
    "imshow_p = {\n",
    "    'origin': 'lower',\n",
    "    'interpolation': 'nearest'\n",
    "}\n",
    "\n",
    "ax.imshow(mean_image, cmap = 'viridis',  **imshow_p)\n",
    "ax.imshow(roi_rgba, **imshow_p)\n",
    "\n",
    "ax.grid(False)\n",
    "ax.set_xticklabels([]);\n",
    "ax.set_yticklabels([]);\n",
    "\n",
    "fig.set_size_inches(1, 1)\n",
    "\n",
    "plt.savefig(directories['figs'] + 'hierarchical/' + 'roi_mask_n3.svg', **fig_p)"
   ]
  },
  {
   "cell_type": "code",
   "execution_count": 34,
   "metadata": {},
   "outputs": [],
   "source": [
    "all_traces = data_linear['Traces0_raw'][:, np.arange(25) != 14]\n",
    "\n",
    "all_traces -= all_traces.mean(axis = 0)\n",
    "all_traces /= all_traces.std(axis = 0)\n",
    "\n",
    "n1_c1_traces = all_traces[:, n1_c1]\n",
    "n1_c2_traces = all_traces[:, n1_c2]\n",
    "\n",
    "n2_c1_traces = all_traces[:, n2_c1]\n",
    "n2_c2_traces = all_traces[:, n2_c2]\n",
    "\n",
    "n3_c1_traces = all_traces[:, n3_c1]\n",
    "n3_c2_traces = all_traces[:, n3_c2]\n",
    "\n",
    "n_sigma = np.linspace(0, 20, 500)"
   ]
  },
  {
   "cell_type": "code",
   "execution_count": 35,
   "metadata": {},
   "outputs": [],
   "source": [
    "def compute_diff(trace_a, trace_b, n_sigma):\n",
    "\n",
    "    n_blob_inner = np.zeros(n_sigma.shape[0])\n",
    "    \n",
    "    trace_a_mean = trace_a.mean(axis = 1)\n",
    "    trace_a_std = trace_a.std(axis = 1)\n",
    "    \n",
    "    trace_b_mean = trace_b.mean(axis = 1)\n",
    "    trace_b_std = trace_b.std(axis = 1)\n",
    "    \n",
    "    for itx, sigma in enumerate(n_sigma):\n",
    "        # Compute EC\n",
    "        upper, lower = compute_bounds(trace_a_mean - trace_b_mean, trace_a_std + trace_b_std, n_sigma = sigma)\n",
    "\n",
    "        diff_mask = (upper < 0) | (lower > 0)\n",
    "\n",
    "        n_blob_inner[itx] = np.unique(np.hstack(label(diff_mask)[0])).max()\n",
    "        \n",
    "    return n_blob_inner"
   ]
  },
  {
   "cell_type": "code",
   "execution_count": 36,
   "metadata": {},
   "outputs": [],
   "source": [
    "n_blob_n1_c = compute_diff(n1_c1_traces, n1_c2_traces, n_sigma)\n",
    "n_blob_n2_c = compute_diff(n2_c1_traces, n2_c2_traces, n_sigma)\n",
    "n_blob_n3_c = compute_diff(n3_c1_traces, n3_c2_traces, n_sigma)"
   ]
  },
  {
   "cell_type": "code",
   "execution_count": 37,
   "metadata": {},
   "outputs": [
    {
     "data": {
      "image/png": "[encoded data removed]",
      "text/plain": [
       "<matplotlib.figure.Figure at 0x7f5b4c6689b0>"
      ]
     },
     "metadata": {},
     "output_type": "display_data"
    }
   ],
   "source": [
    "sns.set_style('ticks')\n",
    "\n",
    "fig, ax = plt.subplots(1)\n",
    "\n",
    "ax.plot(n_sigma, n_blob_n1_c, linestyle = ':', label = 'N$_{0}$', linewidth = 1, color = 'k')\n",
    "ax.plot(n_sigma, n_blob_n2_c, linestyle = '--', label = 'N$_{1}$', linewidth = 1, color = 'k')\n",
    "ax.plot(n_sigma, n_blob_n3_c, linestyle = '-', label = 'N$_{2}$', linewidth = 1, color = 'k')\n",
    "\n",
    "ax.set_xlim(0, 10)\n",
    "ax.set_ylim(0, 650)\n",
    "plt.tick_params(axis='both', which='major', labelsize='medium')\n",
    "ax.set_xlabel('Z-Score Threshold', fontsize = 10)\n",
    "ax.set_ylabel('Euler Characteristic', fontsize = 10)\n",
    "plt.legend()\n",
    "\n",
    "sns.despine(ax = ax, offset = 5)\n",
    "\n",
    "fig.set_size_inches(1.8, 1.8)\n",
    "\n",
    "plt.savefig(directories['figs'] + 'hierarchical/' + 'zscore_vs_ec_classical.svg', dpi = 300)"
   ]
  }
 ],
 "metadata": {
  "kernelspec": {
   "display_name": "Python 3",
   "language": "python",
   "name": "python3"
  },
  "language_info": {
   "codemirror_mode": {
    "name": "ipython",
    "version": 3
   },
   "file_extension": ".py",
   "mimetype": "text/x-python",
   "name": "python",
   "nbconvert_exporter": "python",
   "pygments_lexer": "ipython3",
   "version": "3.7.3"
  }
 },
 "nbformat": 4,
 "nbformat_minor": 1
}
